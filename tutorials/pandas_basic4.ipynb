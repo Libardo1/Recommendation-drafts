{
 "cells": [
  {
   "cell_type": "markdown",
   "metadata": {},
   "source": [
    "# Quebrando o dataframe em outros dataframes"
   ]
  },
  {
   "cell_type": "code",
   "execution_count": 29,
   "metadata": {
    "collapsed": false
   },
   "outputs": [
    {
     "data": {
      "text/html": [
       "<div>\n",
       "<table border=\"1\" class=\"dataframe\">\n",
       "  <thead>\n",
       "    <tr style=\"text-align: right;\">\n",
       "      <th></th>\n",
       "      <th>user_id</th>\n",
       "      <th>song_id</th>\n",
       "      <th>contagem</th>\n",
       "      <th>artista</th>\n",
       "    </tr>\n",
       "  </thead>\n",
       "  <tbody>\n",
       "    <tr>\n",
       "      <th>1116606</th>\n",
       "      <td>276e43ad698705e5011e5091f367d951b21246f5</td>\n",
       "      <td>SOXJOZW12A6701E90E</td>\n",
       "      <td>7</td>\n",
       "      <td>Queens Of The Stone Age</td>\n",
       "    </tr>\n",
       "    <tr>\n",
       "      <th>1116607</th>\n",
       "      <td>276e43ad698705e5011e5091f367d951b21246f5</td>\n",
       "      <td>SOXNKNC12A6701F7A8</td>\n",
       "      <td>1</td>\n",
       "      <td>Rob Zombie</td>\n",
       "    </tr>\n",
       "    <tr>\n",
       "      <th>1116608</th>\n",
       "      <td>276e43ad698705e5011e5091f367d951b21246f5</td>\n",
       "      <td>SOYRMVO12A6701D106</td>\n",
       "      <td>1</td>\n",
       "      <td>Godsmack</td>\n",
       "    </tr>\n",
       "    <tr>\n",
       "      <th>1116609</th>\n",
       "      <td>b80344d063b5ccb3212f76538f3d9e43d87dca9e</td>\n",
       "      <td>SOAKIMP12A8C130993</td>\n",
       "      <td>2</td>\n",
       "      <td>Vive la Fete</td>\n",
       "    </tr>\n",
       "    <tr>\n",
       "      <th>1116610</th>\n",
       "      <td>b80344d063b5ccb3212f76538f3d9e43d87dca9e</td>\n",
       "      <td>SOAKIMP12A8D130992</td>\n",
       "      <td>50</td>\n",
       "      <td>Diplo</td>\n",
       "    </tr>\n",
       "  </tbody>\n",
       "</table>\n",
       "</div>"
      ],
      "text/plain": [
       "                                          user_id             song_id  \\\n",
       "1116606  276e43ad698705e5011e5091f367d951b21246f5  SOXJOZW12A6701E90E   \n",
       "1116607  276e43ad698705e5011e5091f367d951b21246f5  SOXNKNC12A6701F7A8   \n",
       "1116608  276e43ad698705e5011e5091f367d951b21246f5  SOYRMVO12A6701D106   \n",
       "1116609  b80344d063b5ccb3212f76538f3d9e43d87dca9e  SOAKIMP12A8C130993   \n",
       "1116610  b80344d063b5ccb3212f76538f3d9e43d87dca9e  SOAKIMP12A8D130992   \n",
       "\n",
       "         contagem                  artista  \n",
       "1116606         7  Queens Of The Stone Age  \n",
       "1116607         1               Rob Zombie  \n",
       "1116608         1                 Godsmack  \n",
       "1116609         2             Vive la Fete  \n",
       "1116610        50                    Diplo  "
      ]
     },
     "execution_count": 29,
     "metadata": {},
     "output_type": "execute_result"
    }
   ],
   "source": [
    "import numpy as np\n",
    "import pandas as pd\n",
    "import random\n",
    "import matplotlib.pyplot as plt\n",
    "import time\n",
    "\n",
    "df = pd.read_pickle('teste.pickle')\n",
    "df.tail()"
   ]
  },
  {
   "cell_type": "code",
   "execution_count": 2,
   "metadata": {
    "collapsed": false
   },
   "outputs": [],
   "source": [
    "#usando uma lista com indexes aleatorios da metade do tamanho do df original\n",
    "#podemos selecionar um subframe:\n",
    "size = len(df['artista'])\n",
    "new_index = random.sample(range(size), int(size/2))"
   ]
  },
  {
   "cell_type": "code",
   "execution_count": 3,
   "metadata": {
    "collapsed": false
   },
   "outputs": [
    {
     "data": {
      "text/html": [
       "<div>\n",
       "<table border=\"1\" class=\"dataframe\">\n",
       "  <thead>\n",
       "    <tr style=\"text-align: right;\">\n",
       "      <th></th>\n",
       "      <th>user_id</th>\n",
       "      <th>song_id</th>\n",
       "      <th>contagem</th>\n",
       "      <th>artista</th>\n",
       "    </tr>\n",
       "  </thead>\n",
       "  <tbody>\n",
       "    <tr>\n",
       "      <th>325893</th>\n",
       "      <td>ccfbea776958e5a6f3fb455b05dea5e43c18e1ad</td>\n",
       "      <td>SOUBXHB12A81C231CC</td>\n",
       "      <td>1</td>\n",
       "      <td>Days Of The New</td>\n",
       "    </tr>\n",
       "    <tr>\n",
       "      <th>818047</th>\n",
       "      <td>fe9bb82ec95bfea7f84ffbbc2da5ee779b1240a0</td>\n",
       "      <td>SOSIZEN12A67020911</td>\n",
       "      <td>2</td>\n",
       "      <td>3 Doors Down</td>\n",
       "    </tr>\n",
       "    <tr>\n",
       "      <th>272721</th>\n",
       "      <td>64db6e675e2e35021d8549f805ae2eb37251ed0a</td>\n",
       "      <td>SOIZLKI12A6D4F7B61</td>\n",
       "      <td>3</td>\n",
       "      <td>Muse</td>\n",
       "    </tr>\n",
       "    <tr>\n",
       "      <th>517810</th>\n",
       "      <td>603e2ad2f271ed3dd7fd5a15ddfed7dda10936e7</td>\n",
       "      <td>SOUCPUM12A81C20BC5</td>\n",
       "      <td>1</td>\n",
       "      <td>Soulja Boy Tell'em</td>\n",
       "    </tr>\n",
       "    <tr>\n",
       "      <th>915400</th>\n",
       "      <td>4e95fdb4ec15a416d07111f2f1fe811259aae978</td>\n",
       "      <td>SOUNZHU12A8AE47481</td>\n",
       "      <td>3</td>\n",
       "      <td>Ron Carter</td>\n",
       "    </tr>\n",
       "  </tbody>\n",
       "</table>\n",
       "</div>"
      ],
      "text/plain": [
       "                                         user_id             song_id  \\\n",
       "325893  ccfbea776958e5a6f3fb455b05dea5e43c18e1ad  SOUBXHB12A81C231CC   \n",
       "818047  fe9bb82ec95bfea7f84ffbbc2da5ee779b1240a0  SOSIZEN12A67020911   \n",
       "272721  64db6e675e2e35021d8549f805ae2eb37251ed0a  SOIZLKI12A6D4F7B61   \n",
       "517810  603e2ad2f271ed3dd7fd5a15ddfed7dda10936e7  SOUCPUM12A81C20BC5   \n",
       "915400  4e95fdb4ec15a416d07111f2f1fe811259aae978  SOUNZHU12A8AE47481   \n",
       "\n",
       "        contagem             artista  \n",
       "325893         1     Days Of The New  \n",
       "818047         2        3 Doors Down  \n",
       "272721         3                Muse  \n",
       "517810         1  Soulja Boy Tell'em  \n",
       "915400         3          Ron Carter  "
      ]
     },
     "execution_count": 3,
     "metadata": {},
     "output_type": "execute_result"
    }
   ],
   "source": [
    "new_df = df.loc[new_index]\n",
    "new_df.head()"
   ]
  },
  {
   "cell_type": "code",
   "execution_count": 4,
   "metadata": {
    "collapsed": false
   },
   "outputs": [
    {
     "data": {
      "text/html": [
       "<div>\n",
       "<table border=\"1\" class=\"dataframe\">\n",
       "  <thead>\n",
       "    <tr style=\"text-align: right;\">\n",
       "      <th></th>\n",
       "      <th>old_index</th>\n",
       "      <th>user_id</th>\n",
       "      <th>song_id</th>\n",
       "      <th>contagem</th>\n",
       "      <th>artista</th>\n",
       "    </tr>\n",
       "  </thead>\n",
       "  <tbody>\n",
       "    <tr>\n",
       "      <th>0</th>\n",
       "      <td>325893</td>\n",
       "      <td>ccfbea776958e5a6f3fb455b05dea5e43c18e1ad</td>\n",
       "      <td>SOUBXHB12A81C231CC</td>\n",
       "      <td>1</td>\n",
       "      <td>Days Of The New</td>\n",
       "    </tr>\n",
       "    <tr>\n",
       "      <th>1</th>\n",
       "      <td>818047</td>\n",
       "      <td>fe9bb82ec95bfea7f84ffbbc2da5ee779b1240a0</td>\n",
       "      <td>SOSIZEN12A67020911</td>\n",
       "      <td>2</td>\n",
       "      <td>3 Doors Down</td>\n",
       "    </tr>\n",
       "    <tr>\n",
       "      <th>2</th>\n",
       "      <td>272721</td>\n",
       "      <td>64db6e675e2e35021d8549f805ae2eb37251ed0a</td>\n",
       "      <td>SOIZLKI12A6D4F7B61</td>\n",
       "      <td>3</td>\n",
       "      <td>Muse</td>\n",
       "    </tr>\n",
       "    <tr>\n",
       "      <th>3</th>\n",
       "      <td>517810</td>\n",
       "      <td>603e2ad2f271ed3dd7fd5a15ddfed7dda10936e7</td>\n",
       "      <td>SOUCPUM12A81C20BC5</td>\n",
       "      <td>1</td>\n",
       "      <td>Soulja Boy Tell'em</td>\n",
       "    </tr>\n",
       "    <tr>\n",
       "      <th>4</th>\n",
       "      <td>915400</td>\n",
       "      <td>4e95fdb4ec15a416d07111f2f1fe811259aae978</td>\n",
       "      <td>SOUNZHU12A8AE47481</td>\n",
       "      <td>3</td>\n",
       "      <td>Ron Carter</td>\n",
       "    </tr>\n",
       "  </tbody>\n",
       "</table>\n",
       "</div>"
      ],
      "text/plain": [
       "   old_index                                   user_id             song_id  \\\n",
       "0     325893  ccfbea776958e5a6f3fb455b05dea5e43c18e1ad  SOUBXHB12A81C231CC   \n",
       "1     818047  fe9bb82ec95bfea7f84ffbbc2da5ee779b1240a0  SOSIZEN12A67020911   \n",
       "2     272721  64db6e675e2e35021d8549f805ae2eb37251ed0a  SOIZLKI12A6D4F7B61   \n",
       "3     517810  603e2ad2f271ed3dd7fd5a15ddfed7dda10936e7  SOUCPUM12A81C20BC5   \n",
       "4     915400  4e95fdb4ec15a416d07111f2f1fe811259aae978  SOUNZHU12A8AE47481   \n",
       "\n",
       "   contagem             artista  \n",
       "0         1     Days Of The New  \n",
       "1         2        3 Doors Down  \n",
       "2         3                Muse  \n",
       "3         1  Soulja Boy Tell'em  \n",
       "4         3          Ron Carter  "
      ]
     },
     "execution_count": 4,
     "metadata": {},
     "output_type": "execute_result"
    }
   ],
   "source": [
    "#Podemos criar uma nova lista de index, e guardar os indexes antigos\n",
    "new_df.reset_index(inplace=True)\n",
    "new_columns = new_df.columns.values\n",
    "new_columns[0] = 'old_index'\n",
    "new_df.columns = new_columns\n",
    "new_df.head()"
   ]
  },
  {
   "cell_type": "code",
   "execution_count": 56,
   "metadata": {
    "collapsed": false
   },
   "outputs": [
    {
     "data": {
      "text/html": [
       "<div>\n",
       "<table border=\"1\" class=\"dataframe\">\n",
       "  <thead>\n",
       "    <tr style=\"text-align: right;\">\n",
       "      <th></th>\n",
       "      <th>user_id</th>\n",
       "      <th>song_id</th>\n",
       "      <th>contagem</th>\n",
       "      <th>artista</th>\n",
       "    </tr>\n",
       "  </thead>\n",
       "  <tbody>\n",
       "    <tr>\n",
       "      <th>16968</th>\n",
       "      <td>f0e549312b6a25b8ceecbce10786c733b9509591</td>\n",
       "      <td>SOAUFID12A8C13AF6C</td>\n",
       "      <td>10</td>\n",
       "      <td>LeAnn Rimes</td>\n",
       "    </tr>\n",
       "    <tr>\n",
       "      <th>16969</th>\n",
       "      <td>f0e549312b6a25b8ceecbce10786c733b9509591</td>\n",
       "      <td>SOBJCFV12A8AE469EE</td>\n",
       "      <td>1</td>\n",
       "      <td>Kings Of Leon</td>\n",
       "    </tr>\n",
       "    <tr>\n",
       "      <th>16970</th>\n",
       "      <td>f0e549312b6a25b8ceecbce10786c733b9509591</td>\n",
       "      <td>SOBTVDE12AF72A3DE5</td>\n",
       "      <td>11</td>\n",
       "      <td>Incubus</td>\n",
       "    </tr>\n",
       "    <tr>\n",
       "      <th>16971</th>\n",
       "      <td>f0e549312b6a25b8ceecbce10786c733b9509591</td>\n",
       "      <td>SOCWMMA12AB018157B</td>\n",
       "      <td>1</td>\n",
       "      <td>Miley Cyrus</td>\n",
       "    </tr>\n",
       "    <tr>\n",
       "      <th>16972</th>\n",
       "      <td>f0e549312b6a25b8ceecbce10786c733b9509591</td>\n",
       "      <td>SODWANZ12A8C134AF5</td>\n",
       "      <td>1</td>\n",
       "      <td>La Oreja de Van Gogh</td>\n",
       "    </tr>\n",
       "  </tbody>\n",
       "</table>\n",
       "</div>"
      ],
      "text/plain": [
       "                                        user_id             song_id  contagem  \\\n",
       "16968  f0e549312b6a25b8ceecbce10786c733b9509591  SOAUFID12A8C13AF6C        10   \n",
       "16969  f0e549312b6a25b8ceecbce10786c733b9509591  SOBJCFV12A8AE469EE         1   \n",
       "16970  f0e549312b6a25b8ceecbce10786c733b9509591  SOBTVDE12AF72A3DE5        11   \n",
       "16971  f0e549312b6a25b8ceecbce10786c733b9509591  SOCWMMA12AB018157B         1   \n",
       "16972  f0e549312b6a25b8ceecbce10786c733b9509591  SODWANZ12A8C134AF5         1   \n",
       "\n",
       "                    artista  \n",
       "16968           LeAnn Rimes  \n",
       "16969         Kings Of Leon  \n",
       "16970               Incubus  \n",
       "16971           Miley Cyrus  \n",
       "16972  La Oreja de Van Gogh  "
      ]
     },
     "execution_count": 56,
     "metadata": {},
     "output_type": "execute_result"
    }
   ],
   "source": [
    "#Aqui geramos df para cada usuario. \n",
    "users = df['user_id'].unique()\n",
    "teste = df.loc[df['user_id'] == users[1000]]\n",
    "teste.head()"
   ]
  },
  {
   "cell_type": "code",
   "execution_count": 34,
   "metadata": {
    "collapsed": false
   },
   "outputs": [
    {
     "name": "stdout",
     "output_type": "stream",
     "text": [
      "0 100 200 300 400 500 600 700 800 900 1000 1100 1200 1300 1400 1500 1600 1700 1800 1900 2000 2100 2200 2300 2400 2500 2600 2700 2800 2900 3000 3100 3200 3300 3400 3500 3600 3700 3800 3900 4000 4100 4200 4300 4400 4500 4600 4700 4800 4900 5000 5100 5200 5300 5400 5500 5600 5700 5800 5900 6000 6100 6200 6300 6400 6500 6600 6700 6800 6900 7000 7100 7200 7300 7400 7500 7600 7700 7800 7900 8000 8100 8200 8300 8400 8500 8600 8700 8800 8900 9000 9100 9200 9300 9400 9500 9600 9700 9800 9900 10000 Duration: 905.836 sec\n"
     ]
    }
   ],
   "source": [
    "#Podemos fazer o mesmo para os items\n",
    "songs = df['song_id'].unique()\n",
    "\n",
    "#dicionario com song:dataframe\n",
    "dic_of_songs = {}\n",
    "\n",
    "#dicionario com song:total_count\n",
    "dic_song_count = {}\n",
    "\n",
    "start_time = time.time()\n",
    "for i, song in enumerate(songs):\n",
    "    dic_of_songs[song] = df.loc[df['song_id'] == song]\n",
    "    dic_song_count[song] = np.sum(dic_of_songs[song]['contagem'])\n",
    "    if i%100 == 0:\n",
    "        print(i, end=' ')\n",
    "\n",
    "duration = time.time() - start_time\n",
    "    \n",
    "print('Duration: %.3f sec' % duration)"
   ]
  },
  {
   "cell_type": "code",
   "execution_count": 41,
   "metadata": {
    "collapsed": false
   },
   "outputs": [
    {
     "data": {
      "text/html": [
       "<div>\n",
       "<table border=\"1\" class=\"dataframe\">\n",
       "  <thead>\n",
       "    <tr style=\"text-align: right;\">\n",
       "      <th></th>\n",
       "      <th>song_id</th>\n",
       "      <th>total_count</th>\n",
       "    </tr>\n",
       "  </thead>\n",
       "  <tbody>\n",
       "    <tr>\n",
       "      <th>0</th>\n",
       "      <td>SOHQFNK12A6701C0B9</td>\n",
       "      <td>1421</td>\n",
       "    </tr>\n",
       "    <tr>\n",
       "      <th>1</th>\n",
       "      <td>SOJUERX12AB0184DE1</td>\n",
       "      <td>53</td>\n",
       "    </tr>\n",
       "    <tr>\n",
       "      <th>2</th>\n",
       "      <td>SOAMNGZ12A6D4F8702</td>\n",
       "      <td>310</td>\n",
       "    </tr>\n",
       "    <tr>\n",
       "      <th>3</th>\n",
       "      <td>SOIUSBC12AC46890FE</td>\n",
       "      <td>273</td>\n",
       "    </tr>\n",
       "    <tr>\n",
       "      <th>4</th>\n",
       "      <td>SODVNLX12A8C145145</td>\n",
       "      <td>178</td>\n",
       "    </tr>\n",
       "  </tbody>\n",
       "</table>\n",
       "</div>"
      ],
      "text/plain": [
       "              song_id  total_count\n",
       "0  SOHQFNK12A6701C0B9         1421\n",
       "1  SOJUERX12AB0184DE1           53\n",
       "2  SOAMNGZ12A6D4F8702          310\n",
       "3  SOIUSBC12AC46890FE          273\n",
       "4  SODVNLX12A8C145145          178"
      ]
     },
     "execution_count": 41,
     "metadata": {},
     "output_type": "execute_result"
    }
   ],
   "source": [
    "#com isso podemos formar um novo dataframe contendo song_id e contagem total\n",
    "nomes = list(dic_song_count.keys())\n",
    "counts = [dic_song_count[song] for song in nomes]\n",
    "new = pd.DataFrame({'song_id': nomes,\n",
    "                       'total_count':counts})\n",
    "new.head()"
   ]
  },
  {
   "cell_type": "code",
   "execution_count": 50,
   "metadata": {
    "collapsed": false
   },
   "outputs": [
    {
     "data": {
      "text/html": [
       "<div>\n",
       "<table border=\"1\" class=\"dataframe\">\n",
       "  <thead>\n",
       "    <tr style=\"text-align: right;\">\n",
       "      <th></th>\n",
       "      <th>song_id</th>\n",
       "      <th>total_count</th>\n",
       "    </tr>\n",
       "  </thead>\n",
       "  <tbody>\n",
       "    <tr>\n",
       "      <th>682</th>\n",
       "      <td>SOBONKR12A58A7A7E0</td>\n",
       "      <td>40619</td>\n",
       "    </tr>\n",
       "    <tr>\n",
       "      <th>662</th>\n",
       "      <td>SOAUWYT12A81C206F1</td>\n",
       "      <td>36059</td>\n",
       "    </tr>\n",
       "    <tr>\n",
       "      <th>4179</th>\n",
       "      <td>SOSXLTC12AF72A7F54</td>\n",
       "      <td>30391</td>\n",
       "    </tr>\n",
       "    <tr>\n",
       "      <th>8540</th>\n",
       "      <td>SOEGIYH12A6D4FC0E3</td>\n",
       "      <td>21953</td>\n",
       "    </tr>\n",
       "    <tr>\n",
       "      <th>4350</th>\n",
       "      <td>SOFRQTD12A81C233C0</td>\n",
       "      <td>21646</td>\n",
       "    </tr>\n",
       "  </tbody>\n",
       "</table>\n",
       "</div>"
      ],
      "text/plain": [
       "                 song_id  total_count\n",
       "682   SOBONKR12A58A7A7E0        40619\n",
       "662   SOAUWYT12A81C206F1        36059\n",
       "4179  SOSXLTC12AF72A7F54        30391\n",
       "8540  SOEGIYH12A6D4FC0E3        21953\n",
       "4350  SOFRQTD12A81C233C0        21646"
      ]
     },
     "execution_count": 50,
     "metadata": {},
     "output_type": "execute_result"
    }
   ],
   "source": [
    "#Sorteamos o df pelo total count\n",
    "new.sort_values('total_count',ascending=False, inplace=True)\n",
    "new.head()"
   ]
  },
  {
   "cell_type": "markdown",
   "metadata": {},
   "source": [
    "Depois disso eu fiz o merge do new com o data frame original. Como eu havia colocado duas novas observacoes, eu tive que fazer uns ajustes para conseguir fazer o merge e gerar o dataframe dfs "
   ]
  },
  {
   "cell_type": "code",
   "execution_count": 85,
   "metadata": {
    "collapsed": false
   },
   "outputs": [
    {
     "data": {
      "text/html": [
       "<div>\n",
       "<table border=\"1\" class=\"dataframe\">\n",
       "  <thead>\n",
       "    <tr style=\"text-align: right;\">\n",
       "      <th></th>\n",
       "      <th>song_id</th>\n",
       "      <th>title</th>\n",
       "      <th>artist</th>\n",
       "      <th>total_count</th>\n",
       "    </tr>\n",
       "  </thead>\n",
       "  <tbody>\n",
       "    <tr>\n",
       "      <th>0</th>\n",
       "      <td>SOBONKR12A58A7A7E0</td>\n",
       "      <td>You're The One</td>\n",
       "      <td>Dwight Yoakam</td>\n",
       "      <td>40619</td>\n",
       "    </tr>\n",
       "    <tr>\n",
       "      <th>1</th>\n",
       "      <td>SOAUWYT12A81C206F1</td>\n",
       "      <td>Undo</td>\n",
       "      <td>Björk</td>\n",
       "      <td>36059</td>\n",
       "    </tr>\n",
       "    <tr>\n",
       "      <th>2</th>\n",
       "      <td>SOSXLTC12AF72A7F54</td>\n",
       "      <td>Revelry</td>\n",
       "      <td>Kings Of Leon</td>\n",
       "      <td>30391</td>\n",
       "    </tr>\n",
       "    <tr>\n",
       "      <th>3</th>\n",
       "      <td>SOEGIYH12A6D4FC0E3</td>\n",
       "      <td>Horn Concerto No. 4 in E flat K495: II. Romanc...</td>\n",
       "      <td>Barry Tuckwell/Academy of St Martin-in-the-Fie...</td>\n",
       "      <td>21953</td>\n",
       "    </tr>\n",
       "    <tr>\n",
       "      <th>4</th>\n",
       "      <td>SOFRQTD12A81C233C0</td>\n",
       "      <td>Sehr kosmisch</td>\n",
       "      <td>Harmonia</td>\n",
       "      <td>21646</td>\n",
       "    </tr>\n",
       "  </tbody>\n",
       "</table>\n",
       "</div>"
      ],
      "text/plain": [
       "              song_id                                              title  \\\n",
       "0  SOBONKR12A58A7A7E0                                     You're The One   \n",
       "1  SOAUWYT12A81C206F1                                               Undo   \n",
       "2  SOSXLTC12AF72A7F54                                            Revelry   \n",
       "3  SOEGIYH12A6D4FC0E3  Horn Concerto No. 4 in E flat K495: II. Romanc...   \n",
       "4  SOFRQTD12A81C233C0                                      Sehr kosmisch   \n",
       "\n",
       "                                              artist  total_count  \n",
       "0                                      Dwight Yoakam        40619  \n",
       "1                                              Björk        36059  \n",
       "2                                      Kings Of Leon        30391  \n",
       "3  Barry Tuckwell/Academy of St Martin-in-the-Fie...        21953  \n",
       "4                                           Harmonia        21646  "
      ]
     },
     "execution_count": 85,
     "metadata": {},
     "output_type": "execute_result"
    }
   ],
   "source": [
    "dfs.head()"
   ]
  },
  {
   "cell_type": "code",
   "execution_count": 87,
   "metadata": {
    "collapsed": false
   },
   "outputs": [
    {
     "data": {
      "text/html": [
       "<div>\n",
       "<table border=\"1\" class=\"dataframe\">\n",
       "  <thead>\n",
       "    <tr style=\"text-align: right;\">\n",
       "      <th></th>\n",
       "      <th>song_id</th>\n",
       "      <th>title</th>\n",
       "      <th>artist</th>\n",
       "      <th>total_count</th>\n",
       "    </tr>\n",
       "  </thead>\n",
       "  <tbody>\n",
       "    <tr>\n",
       "      <th>9997</th>\n",
       "      <td>SOOUXUD12AB0188D97</td>\n",
       "      <td>Jumpers (Album)</td>\n",
       "      <td>Sleater-kinney</td>\n",
       "      <td>17</td>\n",
       "    </tr>\n",
       "    <tr>\n",
       "      <th>9998</th>\n",
       "      <td>SOBZVFU12A6702162C</td>\n",
       "      <td>Accidntel Deth (Album Version)</td>\n",
       "      <td>Rilo Kiley</td>\n",
       "      <td>16</td>\n",
       "    </tr>\n",
       "    <tr>\n",
       "      <th>9999</th>\n",
       "      <td>SOBDQMB12AB0189045</td>\n",
       "      <td>Younger Than Springtime</td>\n",
       "      <td>William Tabbert</td>\n",
       "      <td>14</td>\n",
       "    </tr>\n",
       "    <tr>\n",
       "      <th>10000</th>\n",
       "      <td>SOPWWHY12A58A7B015</td>\n",
       "      <td>Hubcap</td>\n",
       "      <td>Sleater-kinney</td>\n",
       "      <td>12</td>\n",
       "    </tr>\n",
       "    <tr>\n",
       "      <th>10001</th>\n",
       "      <td>SOAKIMP12A8C130993</td>\n",
       "      <td>collection</td>\n",
       "      <td>Vive la Fete</td>\n",
       "      <td>2</td>\n",
       "    </tr>\n",
       "  </tbody>\n",
       "</table>\n",
       "</div>"
      ],
      "text/plain": [
       "                  song_id                           title           artist  \\\n",
       "9997   SOOUXUD12AB0188D97                 Jumpers (Album)   Sleater-kinney   \n",
       "9998   SOBZVFU12A6702162C  Accidntel Deth (Album Version)       Rilo Kiley   \n",
       "9999   SOBDQMB12AB0189045         Younger Than Springtime  William Tabbert   \n",
       "10000  SOPWWHY12A58A7B015                          Hubcap   Sleater-kinney   \n",
       "10001  SOAKIMP12A8C130993                      collection     Vive la Fete   \n",
       "\n",
       "       total_count  \n",
       "9997            17  \n",
       "9998            16  \n",
       "9999            14  \n",
       "10000           12  \n",
       "10001            2  "
      ]
     },
     "execution_count": 87,
     "metadata": {},
     "output_type": "execute_result"
    }
   ],
   "source": [
    "dfs.tail()"
   ]
  },
  {
   "cell_type": "code",
   "execution_count": null,
   "metadata": {
    "collapsed": true
   },
   "outputs": [],
   "source": []
  }
 ],
 "metadata": {
  "kernelspec": {
   "display_name": "Python 3",
   "language": "python",
   "name": "python3"
  },
  "language_info": {
   "codemirror_mode": {
    "name": "ipython",
    "version": 3
   },
   "file_extension": ".py",
   "mimetype": "text/x-python",
   "name": "python",
   "nbconvert_exporter": "python",
   "pygments_lexer": "ipython3",
   "version": "3.5.2"
  }
 },
 "nbformat": 4,
 "nbformat_minor": 1
}
