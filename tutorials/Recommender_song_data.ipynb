{
 "cells": [
  {
   "cell_type": "markdown",
   "metadata": {
    "collapsed": false
   },
   "source": [
    "# Testando as funcoes de similaridad no dataframe song_data"
   ]
  },
  {
   "cell_type": "code",
   "execution_count": null,
   "metadata": {
    "collapsed": true
   },
   "outputs": [],
   "source": [
    "#imports \n",
    "import pandas as pd\n",
    "import numpy as np\n",
    "import random\n",
    "import time\n",
    "from datetime import datetime, timedelta\n",
    "import pickle \n",
    "\n",
    "#dataframe of songs\n",
    "df = pd.read_csv(\n",
    "    'song_data.csv', \n",
    "     names =['user_id', 'song_id', 'listen_count', 'title', 'artist']\n",
    ")\n",
    "df.drop(['title','artist'],1,inplace=True)\n"
   ]
  },
  {
   "cell_type": "code",
   "execution_count": 40,
   "metadata": {
    "collapsed": false
   },
   "outputs": [
    {
     "data": {
      "text/html": [
       "<div>\n",
       "<table border=\"1\" class=\"dataframe\">\n",
       "  <thead>\n",
       "    <tr style=\"text-align: right;\">\n",
       "      <th></th>\n",
       "      <th>song_id</th>\n",
       "      <th>listen_count</th>\n",
       "      <th>artist</th>\n",
       "      <th>title</th>\n",
       "    </tr>\n",
       "  </thead>\n",
       "  <tbody>\n",
       "    <tr>\n",
       "      <th>0</th>\n",
       "      <td>SOBONKR12A58A7A7E0</td>\n",
       "      <td>40619</td>\n",
       "      <td>Dwight Yoakam</td>\n",
       "      <td>You're The One</td>\n",
       "    </tr>\n",
       "    <tr>\n",
       "      <th>1</th>\n",
       "      <td>SOAUWYT12A81C206F1</td>\n",
       "      <td>36059</td>\n",
       "      <td>Björk</td>\n",
       "      <td>Undo</td>\n",
       "    </tr>\n",
       "    <tr>\n",
       "      <th>2</th>\n",
       "      <td>SOSXLTC12AF72A7F54</td>\n",
       "      <td>30391</td>\n",
       "      <td>Kings Of Leon</td>\n",
       "      <td>Revelry</td>\n",
       "    </tr>\n",
       "    <tr>\n",
       "      <th>3</th>\n",
       "      <td>SOEGIYH12A6D4FC0E3</td>\n",
       "      <td>21953</td>\n",
       "      <td>Barry Tuckwell/Academy of St Martin-in-the-Fie...</td>\n",
       "      <td>Horn Concerto No. 4 in E flat K495: II. Romanc...</td>\n",
       "    </tr>\n",
       "    <tr>\n",
       "      <th>4</th>\n",
       "      <td>SOFRQTD12A81C233C0</td>\n",
       "      <td>21646</td>\n",
       "      <td>Harmonia</td>\n",
       "      <td>Sehr kosmisch</td>\n",
       "    </tr>\n",
       "  </tbody>\n",
       "</table>\n",
       "</div>"
      ],
      "text/plain": [
       "              song_id  listen_count  \\\n",
       "0  SOBONKR12A58A7A7E0         40619   \n",
       "1  SOAUWYT12A81C206F1         36059   \n",
       "2  SOSXLTC12AF72A7F54         30391   \n",
       "3  SOEGIYH12A6D4FC0E3         21953   \n",
       "4  SOFRQTD12A81C233C0         21646   \n",
       "\n",
       "                                              artist  \\\n",
       "0                                      Dwight Yoakam   \n",
       "1                                              Björk   \n",
       "2                                      Kings Of Leon   \n",
       "3  Barry Tuckwell/Academy of St Martin-in-the-Fie...   \n",
       "4                                           Harmonia   \n",
       "\n",
       "                                               title  \n",
       "0                                     You're The One  \n",
       "1                                               Undo  \n",
       "2                                            Revelry  \n",
       "3  Horn Concerto No. 4 in E flat K495: II. Romanc...  \n",
       "4                                      Sehr kosmisch  "
      ]
     },
     "execution_count": 40,
     "metadata": {},
     "output_type": "execute_result"
    }
   ],
   "source": [
    "all_songs = pd.read_csv(\n",
    "    'top_songs.csv' \n",
    "     )\n",
    "all_songs.drop('index',1,inplace=True)\n",
    "\n",
    "def show_song(dataframe,song_id):\n",
    "    song_df = dataframe.loc[dataframe['song_id'] == song_id]\n",
    "    artist = \"\".join(song_df['artist'].astype('str').tail(1).tolist()) \n",
    "    title = \"\".join(song_df['title'].astype('str').tail(1).tolist())\n",
    "    return (title,artist)\n",
    "\n",
    "\n",
    "all_songs.head()"
   ]
  },
  {
   "cell_type": "code",
   "execution_count": null,
   "metadata": {
    "collapsed": true
   },
   "outputs": [],
   "source": []
  },
  {
   "cell_type": "code",
   "execution_count": 19,
   "metadata": {
    "collapsed": false
   },
   "outputs": [
    {
     "name": "stdout",
     "output_type": "stream",
     "text": [
      "rest:1116609  - rest:1106609  - rest:1096609  - rest:1086609  - rest:1076609  - rest:1066609  - rest:1056609  - rest:1046609  - rest:1036609  - rest:1026609  - rest:1016609  - rest:1006609  - rest:996609  - rest:986609  - rest:976609  - rest:966609  - rest:956609  - rest:946609  - rest:936609  - rest:926609  - rest:916609  - rest:906609  - rest:896609  - rest:886609  - rest:876609  - rest:866609  - rest:856609  - rest:846609  - rest:836609  - rest:826609  - rest:816609  - rest:806609  - rest:796609  - rest:786609  - rest:776609  - rest:766609  - rest:756609  - rest:746609  - rest:736609  - rest:726609  - rest:716609  - rest:706609  - rest:696609  - rest:686609  - rest:676609  - rest:666609  - rest:656609  - rest:646609  - rest:636609  - rest:626609  - rest:616609  - rest:606609  - rest:596609  - rest:586609  - rest:576609  - rest:566609  - rest:556609  - rest:546609  - rest:536609  - rest:526609  - rest:516609  - rest:506609  - rest:496609  - rest:486609  - rest:476609  - rest:466609  - rest:456609  - rest:446609  - rest:436609  - rest:426609  - rest:416609  - rest:406609  - rest:396609  - rest:386609  - rest:376609  - rest:366609  - rest:356609  - rest:346609  - rest:336609  - rest:326609  - rest:316609  - rest:306609  - rest:296609  - rest:286609  - rest:276609  - rest:266609  - rest:256609  - rest:246609  - rest:236609  - rest:226609  - rest:216609  - rest:206609  - rest:196609  - rest:186609  - rest:176609  - rest:166609  - rest:156609  - rest:146609  - rest:136609  - rest:126609  - rest:116609  - rest:106609  - rest:96609  - rest:86609  - rest:76609  - rest:66609  - rest:56609  - rest:46609  - rest:36609  - rest:26609  - rest:16609  - rest:6609  - \n",
      " duration:  0:0:0:47 (DAYS:HOURS:MIN:SEC)\n"
     ]
    }
   ],
   "source": [
    "#scrip para criar um dicionario item:{user:score}\n",
    "dic_songs = {}\n",
    "start_time = time.time()\n",
    "for i,song in enumerate(df['song_id']):\n",
    "    if i%10000==0:\n",
    "        print('rest:{} '.format(1116609 - i), end=' - ')\n",
    "    if song not in dic_song.keys():\n",
    "        dic_songs.setdefault(song,{})\n",
    "    user = df['user_id'][i]\n",
    "    dic_songs[song][user] = df['listen_count'][i] \n",
    "\n",
    "duration = time.time() - start_time\n",
    "sec = timedelta(seconds=int(duration))\n",
    "d_time = datetime(1,1,1) + sec    \n",
    "print(\"\\n duration:  %d:%d:%d:%d\" % (d_time.day-1, d_time.hour, d_time.minute, d_time.second), end='')\n",
    "print(\" (DAYS:HOURS:MIN:SEC)\") \n"
   ]
  },
  {
   "cell_type": "markdown",
   "metadata": {
    "collapsed": false
   },
   "source": [
    "Agora vamos definir as funcoes de similaridade"
   ]
  },
  {
   "cell_type": "code",
   "execution_count": 24,
   "metadata": {
    "collapsed": false
   },
   "outputs": [],
   "source": [
    "def sim_distance(prefs,person1,person2):\n",
    "    intersection = []\n",
    "    for item in prefs[person1]:\n",
    "        if item in prefs[person2]:\n",
    "            intersection.append(item)\n",
    "    if len(intersection)==0:\n",
    "        return 0\n",
    "    sum_of_squares = np.sum([(prefs[person1][item] - prefs[person2][item])**2\\\n",
    "                     for item in intersection])\n",
    "    return 1/(1+ sum_of_squares)"
   ]
  },
  {
   "cell_type": "code",
   "execution_count": 26,
   "metadata": {
    "collapsed": false
   },
   "outputs": [
    {
     "name": "stdout",
     "output_type": "stream",
     "text": [
      "0.5\n"
     ]
    }
   ],
   "source": [
    "songs = df['song_id'].unique()\n",
    "song1,song2 = songs[0],songs[1]\n",
    "print(sim_distance(dic_songs,song1,song2))"
   ]
  },
  {
   "cell_type": "code",
   "execution_count": 27,
   "metadata": {
    "collapsed": false
   },
   "outputs": [
    {
     "name": "stdout",
     "output_type": "stream",
     "text": [
      "1.0\n"
     ]
    }
   ],
   "source": [
    "print(sim_distance(dic_songs,song1,song1))"
   ]
  },
  {
   "cell_type": "code",
   "execution_count": 33,
   "metadata": {
    "collapsed": true
   },
   "outputs": [],
   "source": [
    "def naive_pearson(prefs,person1,person2):\n",
    "    intersection = []\n",
    "    for item in prefs[person1]:\n",
    "        if item in prefs[person2]:\n",
    "            intersection.append(item)\n",
    "    number_of_itens = len(intersection) \n",
    "    if number_of_itens == 0:\n",
    "        return 0\n",
    "    sum1 = np.sum([prefs[person1][item] for item in intersection])/number_of_itens\n",
    "    sum2 = np.sum([prefs[person2][item] for item in intersection])/number_of_itens\n",
    "    sum1_mean = np.sum([(prefs[person1][item] - sum1)**2 for item in intersection])\n",
    "    sum2_mean = np.sum([(prefs[person2][item] - sum2)**2 for item in intersection])\n",
    "    pSum = np.sum([(prefs[person1][item]- sum1) * (prefs[person2][item]- sum2)\\\n",
    "                     for item in intersection])\n",
    "    numerator = pSum \n",
    "    denominator = np.sqrt(sum1_mean)*np.sqrt(sum2_mean)\n",
    "    if denominator == 0:\n",
    "        return 0\n",
    "    return numerator/denominator\n",
    "\n",
    "def sim_pearson(prefs,person1,person2):\n",
    "    intersection = []\n",
    "    for item in prefs[person1]:\n",
    "        if item in prefs[person2]:\n",
    "            intersection.append(item)\n",
    "    number_of_itens = len(intersection) \n",
    "    if number_of_itens ==0:\n",
    "        return 0\n",
    "    sum1 = np.sum([prefs[person1][item] for item in intersection])\n",
    "    sum2 = np.sum([prefs[person2][item] for item in intersection])\n",
    "    sum1sq = np.sum([(prefs[person1][item])**2 for item in intersection])\n",
    "    sum2sq = np.sum([(prefs[person2][item])**2 for item in intersection])\n",
    "    pSum = np.sum([(prefs[person1][item] * prefs[person2][item])\\\n",
    "                     for item in intersection])\n",
    "    numerator = pSum - (sum1*sum2/number_of_itens)\n",
    "    denominator = np.sqrt( ((sum1sq - sum1**2)/number_of_itens) *\\\n",
    "                           ((sum2sq - sum2**2)/number_of_itens))\n",
    "    if denominator == 0:\n",
    "        return 0\n",
    "    return numerator/denominator"
   ]
  },
  {
   "cell_type": "code",
   "execution_count": 31,
   "metadata": {
    "collapsed": false
   },
   "outputs": [
    {
     "name": "stdout",
     "output_type": "stream",
     "text": [
      "0\n"
     ]
    }
   ],
   "source": [
    "print(naive_pearson(dic_songs,song1,song2))"
   ]
  },
  {
   "cell_type": "code",
   "execution_count": 34,
   "metadata": {
    "collapsed": false
   },
   "outputs": [
    {
     "name": "stdout",
     "output_type": "stream",
     "text": [
      "0\n"
     ]
    }
   ],
   "source": [
    "print(sim_pearson(dic_songs,song1,song2))"
   ]
  },
  {
   "cell_type": "code",
   "execution_count": 35,
   "metadata": {
    "collapsed": false
   },
   "outputs": [
    {
     "name": "stdout",
     "output_type": "stream",
     "text": [
      "1.0\n"
     ]
    }
   ],
   "source": [
    "print(naive_pearson(dic_songs,song1,song1))"
   ]
  },
  {
   "cell_type": "code",
   "execution_count": 36,
   "metadata": {
    "collapsed": false
   },
   "outputs": [
    {
     "name": "stdout",
     "output_type": "stream",
     "text": [
      "2.90707549499\n"
     ]
    }
   ],
   "source": [
    "print(sim_pearson(dic_songs,song1,song1))"
   ]
  },
  {
   "cell_type": "markdown",
   "metadata": {},
   "source": [
    "Note que a medida sim_person esta passando acima de 1."
   ]
  },
  {
   "cell_type": "code",
   "execution_count": 45,
   "metadata": {
    "collapsed": true
   },
   "outputs": [],
   "source": [
    "def topMatches(prefs, person, n=5, similarity=sim_pearson):\n",
    "    scores = [(similarity(prefs, person,other_person),other_person)\\\n",
    "              for other_person in prefs if other_person!= person]\n",
    "    scores.sort(reverse=True)\n",
    "    return scores[0:n]"
   ]
  },
  {
   "cell_type": "markdown",
   "metadata": {},
   "source": [
    "E quando as mais sememlhantes temos resultados diferentes usando as duas medidas"
   ]
  },
  {
   "cell_type": "code",
   "execution_count": 49,
   "metadata": {
    "collapsed": false
   },
   "outputs": [
    {
     "name": "stdout",
     "output_type": "stream",
     "text": [
      "song1 is ('The Cove', 'Jack Johnson')\n"
     ]
    }
   ],
   "source": [
    "print(\"song1 is {}\".format(show_song(all_songs,song1)))"
   ]
  },
  {
   "cell_type": "code",
   "execution_count": 43,
   "metadata": {
    "collapsed": false
   },
   "outputs": [
    {
     "name": "stdout",
     "output_type": "stream",
     "text": [
      "[('The Sharing Song', 'Jack Johnson'), ('Jungle Gym', 'Jack Johnson / G. Love'), ('Lively Up Yourself', 'Bob Marley'), ('Talk Of The Town', 'Jack Johnson / Kawika Kahiapo'), ('Situations', 'Jack Johnson')]\n"
     ]
    }
   ],
   "source": [
    "top1 = [y for (x,y) in topMatches(dic_songs,song1)]\n",
    "show1 = list(map(lambda x: show_song(all_songs,x), top1))\n",
    "print(show1)"
   ]
  },
  {
   "cell_type": "code",
   "execution_count": 47,
   "metadata": {
    "collapsed": false
   },
   "outputs": [
    {
     "name": "stdout",
     "output_type": "stream",
     "text": [
      "[('Howlin\\x19 For You', 'The Black Keys'), ('Better Man', 'Pearl Jam'), ('Thank You for Being a Friend', 'Andrew Gold'), ('Danse Pour Moi', 'M. Pokora'), ('Monsoon', 'Jack Johnson')]\n"
     ]
    }
   ],
   "source": [
    "top2 = [y for (x,y) in topMatches(dic_songs,song1,similarity=naive_pearson)]\n",
    "show2 = list(map(lambda x: show_song(all_songs,x), top2))\n",
    "print(show2)"
   ]
  },
  {
   "cell_type": "code",
   "execution_count": 50,
   "metadata": {
    "collapsed": false
   },
   "outputs": [
    {
     "name": "stdout",
     "output_type": "stream",
     "text": [
      "[('Sunset (Bird Of Prey)', 'Fatboy Slim'), ('Watch The Tapes', 'LCD Soundsystem'), ('Opium Of The People (Album Version)', 'Slipknot'), ('Rosemary', 'Scott Walker'), ('Nostalgia', 'The Long Blondes')]\n"
     ]
    }
   ],
   "source": [
    "top3 = [y for (x,y) in topMatches(dic_songs,song1,similarity=sim_distance)]\n",
    "show3 = list(map(lambda x: show_song(all_songs,x), top3))\n",
    "print(show3)"
   ]
  },
  {
   "cell_type": "markdown",
   "metadata": {},
   "source": [
    "Note que show1 (usando sim_pearson) e o resultado que faz mais sentido"
   ]
  },
  {
   "cell_type": "code",
   "execution_count": 51,
   "metadata": {
    "collapsed": true
   },
   "outputs": [],
   "source": [
    "def calculateSimilarItems(itemPrefs,n=10):\n",
    "    result = {}\n",
    "    c = 0\n",
    "    for item in itemPrefs:\n",
    "        c += 1\n",
    "        if c%100==0:\n",
    "            print('%d / %d' % (c,len(itemPrefs)))\n",
    "        scores = topMatches(itemPrefs, item, n=n, similarity=sim_pearson)\n",
    "        result[item]=scores\n",
    "    return result"
   ]
  },
  {
   "cell_type": "markdown",
   "metadata": {},
   "source": [
    "Agora vamos criar um dicionario song:[top 10 similar songs]"
   ]
  },
  {
   "cell_type": "code",
   "execution_count": 53,
   "metadata": {
    "collapsed": false
   },
   "outputs": [
    {
     "name": "stdout",
     "output_type": "stream",
     "text": [
      "100 / 10000\n",
      "200 / 10000\n",
      "300 / 10000\n",
      "400 / 10000\n",
      "500 / 10000\n",
      "600 / 10000\n",
      "700 / 10000\n",
      "800 / 10000\n",
      "900 / 10000\n",
      "1000 / 10000\n",
      "1100 / 10000\n",
      "1200 / 10000\n",
      "1300 / 10000\n",
      "1400 / 10000\n",
      "1500 / 10000\n",
      "1600 / 10000\n",
      "1700 / 10000\n",
      "1800 / 10000\n",
      "1900 / 10000\n",
      "2000 / 10000\n",
      "2100 / 10000\n",
      "2200 / 10000\n",
      "2300 / 10000\n",
      "2400 / 10000\n",
      "2500 / 10000\n",
      "2600 / 10000\n",
      "2700 / 10000\n",
      "2800 / 10000\n",
      "2900 / 10000\n",
      "3000 / 10000\n",
      "3100 / 10000\n",
      "3200 / 10000\n",
      "3300 / 10000\n",
      "3400 / 10000\n",
      "3500 / 10000\n",
      "3600 / 10000\n",
      "3700 / 10000\n",
      "3800 / 10000\n",
      "3900 / 10000\n",
      "4000 / 10000\n",
      "4100 / 10000\n",
      "4200 / 10000\n",
      "4300 / 10000\n",
      "4400 / 10000\n",
      "4500 / 10000\n",
      "4600 / 10000\n",
      "4700 / 10000\n",
      "4800 / 10000\n",
      "4900 / 10000\n",
      "5000 / 10000\n",
      "5100 / 10000\n",
      "5200 / 10000\n",
      "5300 / 10000\n",
      "5400 / 10000\n",
      "5500 / 10000\n",
      "5600 / 10000\n",
      "5700 / 10000\n",
      "5800 / 10000\n",
      "5900 / 10000\n",
      "6000 / 10000\n",
      "6100 / 10000\n",
      "6200 / 10000\n",
      "6300 / 10000\n",
      "6400 / 10000\n",
      "6500 / 10000\n",
      "6600 / 10000\n",
      "6700 / 10000\n",
      "6800 / 10000\n",
      "6900 / 10000\n",
      "7000 / 10000\n",
      "7100 / 10000\n",
      "7200 / 10000\n",
      "7300 / 10000\n",
      "7400 / 10000\n",
      "7500 / 10000\n",
      "7600 / 10000\n",
      "7700 / 10000\n",
      "7800 / 10000\n",
      "7900 / 10000\n",
      "8000 / 10000\n",
      "8100 / 10000\n",
      "8200 / 10000\n",
      "8300 / 10000\n",
      "8400 / 10000\n",
      "8500 / 10000\n",
      "8600 / 10000\n",
      "8700 / 10000\n",
      "8800 / 10000\n",
      "8900 / 10000\n",
      "9000 / 10000\n",
      "9100 / 10000\n",
      "9200 / 10000\n",
      "9300 / 10000\n",
      "9400 / 10000\n",
      "9500 / 10000\n",
      "9600 / 10000\n",
      "9700 / 10000\n",
      "9800 / 10000\n",
      "9900 / 10000\n",
      "10000 / 10000\n",
      "\n",
      " duration:  0:0:29:33 (DAYS:HOURS:MIN:SEC)\n"
     ]
    }
   ],
   "source": [
    "start_time = time.time()\n",
    "\n",
    "itemsim = calculateSimilarItems(dic_songs)\n",
    "\n",
    "duration = time.time() - start_time\n",
    "sec = timedelta(seconds=int(duration))\n",
    "d_time = datetime(1,1,1) + sec    \n",
    "print(\"\\n duration:  %d:%d:%d:%d\" % (d_time.day-1, d_time.hour, d_time.minute, d_time.second), end='')\n",
    "print(\" (DAYS:HOURS:MIN:SEC)\") "
   ]
  },
  {
   "cell_type": "code",
   "execution_count": 54,
   "metadata": {
    "collapsed": true
   },
   "outputs": [],
   "source": [
    "#quardando no pickle\n",
    "f = open('dic_songs.pickle', 'wb')\n",
    "di ={'dic_songs':dic_songs,'itemsim':itemsim}\n",
    "pickle.dump(di,f)\n",
    "f.close()"
   ]
  },
  {
   "cell_type": "code",
   "execution_count": 60,
   "metadata": {
    "collapsed": true
   },
   "outputs": [],
   "source": [
    "def get_user_prefs(dataframe, user):\n",
    "    new_df =  dataframe.loc[dataframe['user_id'] == user]\n",
    "    new_df = new_df.drop('user_id',1)\n",
    "    new_df = new_df.set_index('song_id')\n",
    "    quasi_dic = new_df.to_dict()\n",
    "    dic = quasi_dic['listen_count']\n",
    "    return dic\n",
    "\n",
    "\n",
    "def getRecommendedItems(itemMatch,user,dataframe):\n",
    "    userRatings = get_user_prefs(dataframe,user)\n",
    "    scores ={}\n",
    "    totalSim ={}\n",
    "    for (item,rating) in userRatings.items():\n",
    "        for (similarity,item2) in itemMatch[item]:\n",
    "            if item2 in userRatings:\n",
    "                continue\n",
    "            scores.setdefault(item2,0)\n",
    "            scores[item2] += similarity*rating\n",
    "            totalSim.setdefault(item2,0)\n",
    "            totalSim[item2] += similarity\n",
    "        \n",
    "    rankings = [(score/totalSim[item],item) for item,score in scores.items()]      \n",
    "    rankings.sort(reverse=True)\n",
    "    return rankings"
   ]
  },
  {
   "cell_type": "code",
   "execution_count": 59,
   "metadata": {
    "collapsed": false
   },
   "outputs": [
    {
     "name": "stdout",
     "output_type": "stream",
     "text": [
      "{'SOSYBEV12AB0182933': 1, 'SOXMIUS12A8C13CD59': 1, 'SOIZAZL12A6701C53B': 5, 'SORWLTW12A670208FA': 1, 'SODACBL12A8C13C273': 1, 'SONSAEZ12A8C138D7A': 1, 'SOBBMDR12A8C13253B': 2, 'SOVQEYZ12A8C1379D8': 1, 'SOXZQDE12A8C135833': 1, 'SOWSPUS12AC468BEE3': 1, 'SODXRTY12AB0180F3B': 1, 'SORZASF12A6D4F8CFA': 2, 'SORUFVF12AB018230B': 1, 'SOXRXDG12A8C131DE5': 1, 'SOZOBWN12A8C130999': 1, 'SOTLVCL12AB0182D22': 1, 'SOPCVQE12AC468AF36': 1, 'SOBXHDL12A81C204C0': 1, 'SOFRQTD12A81C233C0': 1, 'SOQIVUD12AB01821D2': 1, 'SOJPFQG12A58A7833A': 1, 'SORPMYJ12AF729EB90': 1, 'SOHQWYZ12A6D4FA701': 1, 'SOFGUAY12AB017B0A8': 1, 'SOQLCKR12A81C22440': 1, 'SOUKXIN12A8C133C7F': 1, 'SOBYHAJ12A6701BF1D': 1, 'SORQHCG12A58A7EEBA': 1, 'SOIYTOA12A6D4F9A23': 1, 'SOVYIYI12A8C138D88': 1, 'SOVHRGF12A8C13852F': 1, 'SOMGIYR12AB0187973': 6, 'SOYHEPA12A8C13097F': 8, 'SOMSQJY12A8C138539': 1, 'SOLLGNU12AF72A4D4F': 1, 'SOAKIMP12A8C130995': 1, 'SOOKGRB12A8C13CD66': 1, 'SOKRIMP12A6D4F5DA3': 5, 'SOMLMKI12A81C204BC': 1, 'SOWQLXP12AF72A08A2': 1, 'SODDNQT12A6D4F5F7E': 5, 'SOTFATN12A6D4FA74D': 1, 'SOQJLDY12AAF3B456D': 1, 'SOTRSFZ12A8C142BF6': 1, 'SOJNNUA12A8AE48C7A': 1}\n"
     ]
    }
   ],
   "source": [
    "users = df['user_id'].unique()\n",
    "target = users[0]\n",
    "target_prefs = get_user_prefs(df,target)\n",
    "print(target_prefs)"
   ]
  },
  {
   "cell_type": "code",
   "execution_count": 64,
   "metadata": {
    "collapsed": false
   },
   "outputs": [
    {
     "name": "stdout",
     "output_type": "stream",
     "text": [
      "The user target likes: \n",
      " [('Moonshine', 'Jack Johnson'), ('Behind The Sea [Live In Chicago]', 'Panic At The Disco'), (\"I?'m A Steady Rollin? Man\", 'Robert Johnson'), (\"Apuesta Por El Rock 'N' Roll\", 'Héroes del Silencio'), (\"I'll Be Missing You (Featuring Faith Evans & 112)(Album Version)\", 'Puff Daddy')]\n"
     ]
    }
   ],
   "source": [
    "dft1 = df.loc[df['user_id'] == target]\n",
    "dft1 = dft1.sort_values('listen_count',ascending=False)\n",
    "best_songs_t1 = list(map(lambda x: show_song(all_songs,x),list(dft1['song_id'])))\n",
    "if len(best_songs_t1) > 5:\n",
    "    print(\"The user target likes: \\n\", best_songs_t1[0:5])\n",
    "else:\n",
    "    print(\"The user target likes: \\n\",best_songs_t1)"
   ]
  },
  {
   "cell_type": "code",
   "execution_count": 63,
   "metadata": {
    "collapsed": false
   },
   "outputs": [
    {
     "name": "stdout",
     "output_type": "stream",
     "text": [
      "[(\"Boy's Life\", 'Dr. Know'), ('Deprogram', 'Dr. Know'), ('Rent', 'Pet Shop Boys'), ('Rosemary', 'Scott Walker'), ('Laura', 'Scissor Sisters')]\n"
     ]
    }
   ],
   "source": [
    "rec = [y for (x,y) in  getRecommendedItems(itemsim,target,df)]\n",
    "show4 = list(map(lambda x: show_song(all_songs,x), rec[0:5]))\n",
    "print(show4)"
   ]
  },
  {
   "cell_type": "markdown",
   "metadata": {},
   "source": [
    "# Alguns testes"
   ]
  },
  {
   "cell_type": "code",
   "execution_count": 73,
   "metadata": {
    "collapsed": false
   },
   "outputs": [
    {
     "name": "stdout",
     "output_type": "stream",
     "text": [
      "\n",
      " The user likes: \n",
      " [('Eternal Flame (Single Version)', 'Atomic Kitten'), ('Représente', 'Alliance Ethnik'), (\"Le Jardin d'Hiver\", 'Jacky Terrasson')]\n",
      "And we recommend for him/her: \n",
      " [('Flake', 'Jack Johnson'), ('Drops Of Jupiter', 'Train'), ('Here Without You', '3 Doors Down'), (\"Go Skate! (Possessed To Skate '97)\", 'Suicidal Tendencies'), ('Because You Loved Me', 'Céline Dion')]\n",
      "\n",
      " The user likes: \n",
      " [('More Than A Feeling', 'Boston'), ('Evil', 'Interpol'), ('Hoisting The Flag', 'Sondre Lerche')]\n",
      "And we recommend for him/her: \n",
      " [('Heavy  (LP Version)', 'Collective Soul'), ('Fade To Black', 'Metallica'), ('Paa vauhtii', 'Uniikki'), ('Queen Of Memphis (Dance Mix)', 'Confederate Railroad'), ('Sea Green_ See Blue', 'JayMay')]\n",
      "\n",
      " The user likes: \n",
      " [('Revelry', 'Kings Of Leon'), ('Undo', 'Björk'), ('Somebody To Love', 'Justin Bieber')]\n",
      "And we recommend for him/her: \n",
      " [('Alone In This Bed (Capeside)', 'Framing Hanley'), (\"It's Raining Men (Radio Edit)\", 'Geri Halliwell'), ('Ray Of Light (Album Version)', 'Madonna'), ('..Come Around', 'Collie Buddz'), ('Hasta La Vista', 'Jordan Francis/Roshon Bernard Fegan')]\n",
      "\n",
      " The user likes: \n",
      " [('High School Musical', 'High School Musical Cast'), ('Smooth Criminal', 'Alien Ant Farm'), ('Undo', 'Björk')]\n",
      "And we recommend for him/her: \n",
      " [('I Could Fall In Love', 'Selena'), ('Hasta La Vista', 'Jordan Francis/Roshon Bernard Fegan'), ('Rain', 'Subhumans'), ('Sleepyhead', 'Passion Pit'), ('It Was A Good Day', 'Ice Cube')]\n",
      "\n",
      " The user likes: \n",
      " [('The Only (Album Version)', 'Static-X'), ('Blue Magic', 'Jay-Z'), ('Prelude/Prologue', 'Kate Bush')]\n",
      "And we recommend for him/her: \n",
      " [('Blow Me Away', 'Breaking Benjamin'), ('Drop The World', 'Lil Wayne / Eminem'), ('Hero Of War', 'Rise Against'), ('Kotov Syndrome', 'Rise Against'), ('Refuse/Resist (Explicit Album Version)', 'Sepultura')]\n",
      "\n",
      " The user likes: \n",
      " [('Ugly Girls', 'Kalle Baah'), ('In The Dark (ft. Christian Burns)', 'Tiësto'), ('The Memory Remains', 'Metallica / Marianne Faithfull')]\n",
      "And we recommend for him/her: \n",
      " [('Ich Will', 'Rammstein'), ('Damage Inc.', 'Metallica'), ('One More Time (Short Radio Edit)', 'Daft Punk'), ('Best Of Both Worlds (Remastered Album Version)', 'Van Halen'), ('No Leaf Clover', 'Metallica')]\n",
      "\n",
      " The user likes: \n",
      " [(\"All Tomorrow's Parties\", 'The Velvet Underground / Nico'), ('How Do You Know You?', 'Days Of The New'), ('Flacana 16', 'Melodium')]\n",
      "And we recommend for him/her: \n",
      " [('Call It Off (Album Version)', 'Tegan And Sara'), ('The Quest', 'HYPOCRISY'), ('21 Guns [feat. Green Day & The Cast Of American Idiot] (Album Version)', 'Green Day'), (\"I'm Just A Man\", 'Jason Aldean'), ('Samba De Una Nota So´', 'Joa~o Gilberto')]\n",
      "\n",
      " The user likes: \n",
      " [('Slow Country', 'Gorillaz'), ('Ce Jeu', 'Yelle'), (\"The Good That Won't Come Out\", 'Rilo Kiley')]\n",
      "And we recommend for him/her: \n",
      " [('Songs Of The Season', 'Soltero'), ('The General', 'Dispatch'), ('One Step Closer (Album Version)', 'Linkin Park'), ('Lively Up Yourself', 'Bob Marley'), ('The Real Slim Shady', 'Eminem')]\n",
      "\n",
      " The user likes: \n",
      " [(\"Reelin' In The Years\", 'Steely Dan'), ('My Old School', 'Steely Dan'), ('FM', 'Steely Dan')]\n",
      "And we recommend for him/her: \n",
      " [('Love Story', 'Taylor Swift'), ('Alejandro', 'Lady GaGa'), ('Bring Me To Life', 'Evanescence'), ('Recado Falado (Metrô Da Saudade)', 'Alceu Valença'), ('Dirty Little Secret', 'The All-American Rejects')]\n",
      "\n",
      " The user likes: \n",
      " [('Mercy:The Laundromat', 'Pavement'), ('Sinisten tähtien alla', 'J. Karjalainen & Mustat Lasit'), ('Infinity 2008', 'Guru Josh Project')]\n",
      "And we recommend for him/her: \n",
      " [(\"Macomb's Dam Bridge\", 'Rob Sonic'), ('Lift Me Up', 'Moby'), ('House Of Cards', 'Radiohead'), ('The Only Difference Between Martyrdom and Suicide Is Press Coverage (Tommie Sunshine Brooklyn Fire Remix)', 'Panic! At The Disco'), ('Otherside (Album Version)', 'Red Hot Chili Peppers')]\n"
     ]
    }
   ],
   "source": [
    "size = len(users)\n",
    "random_users = random.sample(range(size), 10)\n",
    "\n",
    "for user in random_users:\n",
    "    dfuser = df.loc[df['user_id'] == users[user]]\n",
    "    dfuser = dfuser.sort_values('listen_count',ascending=False)\n",
    "    best_songs_user = list(map(lambda x: show_song(all_songs,x),list(dfuser['song_id'])))\n",
    "    if len(best_songs_user) > 3:\n",
    "        print(\"\\n The user likes: \\n\", best_songs_user[0:3])\n",
    "    else:\n",
    "        print(\"\\n The user likes: \\n\",best_songs_user) \n",
    "    recommendations = [y for (x,y) in  getRecommendedItems(itemsim,users[user],df)]\n",
    "    show = list(map(lambda x: show_song(all_songs,x), recommendations[0:5]))\n",
    "    print(\"And we recommend for him/her: \\n\", show)\n",
    "\n"
   ]
  },
  {
   "cell_type": "markdown",
   "metadata": {},
   "source": [
    "# Vamos fazer um outro itemsim com outra medida"
   ]
  },
  {
   "cell_type": "code",
   "execution_count": 74,
   "metadata": {
    "collapsed": false
   },
   "outputs": [
    {
     "name": "stdout",
     "output_type": "stream",
     "text": [
      "100 / 10000\n",
      "200 / 10000\n",
      "300 / 10000\n",
      "400 / 10000\n",
      "500 / 10000\n",
      "600 / 10000\n",
      "700 / 10000\n",
      "800 / 10000\n",
      "900 / 10000\n",
      "1000 / 10000\n",
      "1100 / 10000\n",
      "1200 / 10000\n",
      "1300 / 10000\n",
      "1400 / 10000\n",
      "1500 / 10000\n",
      "1600 / 10000\n",
      "1700 / 10000\n",
      "1800 / 10000\n",
      "1900 / 10000\n",
      "2000 / 10000\n",
      "2100 / 10000\n",
      "2200 / 10000\n",
      "2300 / 10000\n",
      "2400 / 10000\n",
      "2500 / 10000\n",
      "2600 / 10000\n",
      "2700 / 10000\n",
      "2800 / 10000\n",
      "2900 / 10000\n",
      "3000 / 10000\n",
      "3100 / 10000\n",
      "3200 / 10000\n",
      "3300 / 10000\n",
      "3400 / 10000\n",
      "3500 / 10000\n",
      "3600 / 10000\n",
      "3700 / 10000\n",
      "3800 / 10000\n",
      "3900 / 10000\n",
      "4000 / 10000\n",
      "4100 / 10000\n",
      "4200 / 10000\n",
      "4300 / 10000\n",
      "4400 / 10000\n",
      "4500 / 10000\n",
      "4600 / 10000\n",
      "4700 / 10000\n",
      "4800 / 10000\n",
      "4900 / 10000\n",
      "5000 / 10000\n",
      "5100 / 10000\n",
      "5200 / 10000\n",
      "5300 / 10000\n",
      "5400 / 10000\n",
      "5500 / 10000\n",
      "5600 / 10000\n",
      "5700 / 10000\n",
      "5800 / 10000\n",
      "5900 / 10000\n",
      "6000 / 10000\n",
      "6100 / 10000\n",
      "6200 / 10000\n",
      "6300 / 10000\n",
      "6400 / 10000\n",
      "6500 / 10000\n",
      "6600 / 10000\n",
      "6700 / 10000\n",
      "6800 / 10000\n",
      "6900 / 10000\n",
      "7000 / 10000\n",
      "7100 / 10000\n",
      "7200 / 10000\n",
      "7300 / 10000\n",
      "7400 / 10000\n",
      "7500 / 10000\n",
      "7600 / 10000\n",
      "7700 / 10000\n",
      "7800 / 10000\n",
      "7900 / 10000\n",
      "8000 / 10000\n",
      "8100 / 10000\n",
      "8200 / 10000\n",
      "8300 / 10000\n",
      "8400 / 10000\n",
      "8500 / 10000\n",
      "8600 / 10000\n",
      "8700 / 10000\n",
      "8800 / 10000\n",
      "8900 / 10000\n",
      "9000 / 10000\n",
      "9100 / 10000\n",
      "9200 / 10000\n",
      "9300 / 10000\n",
      "9400 / 10000\n",
      "9500 / 10000\n",
      "9600 / 10000\n",
      "9700 / 10000\n",
      "9800 / 10000\n",
      "9900 / 10000\n",
      "10000 / 10000\n",
      "\n",
      " duration:  0:0:20:37 (DAYS:HOURS:MIN:SEC)\n"
     ]
    }
   ],
   "source": [
    "def calculateSimilarItems(itemPrefs,n=10):\n",
    "    result = {}\n",
    "    c = 0\n",
    "    for item in itemPrefs:\n",
    "        c += 1\n",
    "        if c%100==0:\n",
    "            print('%d / %d' % (c,len(itemPrefs)))\n",
    "        scores = topMatches(itemPrefs, item, n=n, similarity=sim_distance)\n",
    "        result[item]=scores\n",
    "    return result\n",
    "\n",
    "start_time = time.time()\n",
    "\n",
    "itemsim_sim_distance = calculateSimilarItems(dic_songs)\n",
    "\n",
    "duration = time.time() - start_time\n",
    "sec = timedelta(seconds=int(duration))\n",
    "d_time = datetime(1,1,1) + sec    \n",
    "print(\"\\n duration:  %d:%d:%d:%d\" % (d_time.day-1, d_time.hour, d_time.minute, d_time.second), end='')\n",
    "print(\" (DAYS:HOURS:MIN:SEC)\") "
   ]
  },
  {
   "cell_type": "code",
   "execution_count": 75,
   "metadata": {
    "collapsed": false
   },
   "outputs": [
    {
     "name": "stdout",
     "output_type": "stream",
     "text": [
      "\n",
      " The user likes: \n",
      " [('Eternal Flame (Single Version)', 'Atomic Kitten'), ('Représente', 'Alliance Ethnik'), (\"Le Jardin d'Hiver\", 'Jacky Terrasson')]\n",
      "And we recommend for him/her: \n",
      " [('Replay', 'Iyaz'), ('Minnie The Moocher', 'The Blues Brothers'), ('Eple', 'Röyksopp'), ('Deathzone', 'Apocalyptica'), ('Romeo And Juliet', 'The Killers')]\n",
      "\n",
      " The user likes: \n",
      " [('More Than A Feeling', 'Boston'), ('Evil', 'Interpol'), ('Hoisting The Flag', 'Sondre Lerche')]\n",
      "And we recommend for him/her: \n",
      " [('Bullets', 'Creed'), ('Your Place In The World', 'The Space Brothers'), ('Rainy Days And Mondays', 'Carpenters'), ('You Sang To Me', 'Marc Anthony'), (\"Let's Go (Produced by B.R. Gunna)\", 'Slum Village')]\n",
      "\n",
      " The user likes: \n",
      " [('Revelry', 'Kings Of Leon'), ('Undo', 'Björk'), ('Somebody To Love', 'Justin Bieber')]\n",
      "And we recommend for him/her: \n",
      " [('Razor', 'Foo Fighters'), ('Cool Dry Place (2007 Remastered LP Version)', 'Traveling Wilburys'), ('Be Good Or Be Gone', 'Fionn Regan'), ('Odalisque', 'The Decemberists'), ('Short Circuit', 'Daft Punk')]\n",
      "\n",
      " The user likes: \n",
      " [('High School Musical', 'High School Musical Cast'), ('Smooth Criminal', 'Alien Ant Farm'), ('Undo', 'Björk')]\n",
      "And we recommend for him/her: \n",
      " [('Break It Off', 'Rihanna / Sean Paul'), ('Woo boost', 'Rusko'), (\"Can't Have You\", 'Jonas Brothers'), ('Razor', 'Foo Fighters'), ('Tú', 'Shakira')]\n",
      "\n",
      " The user likes: \n",
      " [('The Only (Album Version)', 'Static-X'), ('Blue Magic', 'Jay-Z'), ('Prelude/Prologue', 'Kate Bush')]\n",
      "And we recommend for him/her: \n",
      " [('Si Una Vez', 'Selena'), ('Addicted', 'Enrique Iglesias'), ('Opium Of The People (Album Version)', 'Slipknot'), ('Bullets', 'Creed'), ('Breadfan', 'Metallica')]\n",
      "\n",
      " The user likes: \n",
      " [('Ugly Girls', 'Kalle Baah'), ('In The Dark (ft. Christian Burns)', 'Tiësto'), ('The Memory Remains', 'Metallica / Marianne Faithfull')]\n",
      "And we recommend for him/her: \n",
      " [('Up Where We Belong', 'Joe Cocker / Jennifer Warnes'), ('Because The Night [MTV Unplugged Version]', '10_000 Maniacs'), ('Razor', 'Foo Fighters'), ('Breadfan', 'Metallica'), ('Short Circuit', 'Daft Punk')]\n",
      "\n",
      " The user likes: \n",
      " [(\"All Tomorrow's Parties\", 'The Velvet Underground / Nico'), ('How Do You Know You?', 'Days Of The New'), ('Flacana 16', 'Melodium')]\n",
      "And we recommend for him/her: \n",
      " [('Demon Speeding', 'Rob Zombie'), ('I Go To Sleep', 'Sia'), ('You Sang To Me', 'Marc Anthony'), ('Greece 2000', 'Three Drives'), ('Making Money Off God feat. Bus Driver', '2Mex')]\n",
      "\n",
      " The user likes: \n",
      " [('Slow Country', 'Gorillaz'), ('Ce Jeu', 'Yelle'), (\"The Good That Won't Come Out\", 'Rilo Kiley')]\n",
      "And we recommend for him/her: \n",
      " [('Red To Black (Album Version)', 'Fort Minor (Featuring Kenna_ Jonah Matranga And Styles Of Beyond)'), ('With Pen In Hand', 'Johnny Darrell'), ('Se Quiere_ Se Mata', 'Shakira'), ('Eple', 'Röyksopp'), ('BirdFlu', 'M.I.A.')]\n",
      "\n",
      " The user likes: \n",
      " [(\"Reelin' In The Years\", 'Steely Dan'), ('My Old School', 'Steely Dan'), ('FM', 'Steely Dan')]\n",
      "And we recommend for him/her: \n",
      " [('True Grit', 'The Crystal Method'), ('Aerodynamic (Slum Village Remix)', 'Daft Punk'), ('Drunkship Of Lanterns', 'The Mars Volta'), ('Drama', 'Delerium'), ('I Feel For You', 'Stefan Schrom')]\n",
      "\n",
      " The user likes: \n",
      " [('Mercy:The Laundromat', 'Pavement'), ('Sinisten tähtien alla', 'J. Karjalainen & Mustat Lasit'), ('Infinity 2008', 'Guru Josh Project')]\n",
      "And we recommend for him/her: \n",
      " [('Drunkship Of Lanterns', 'The Mars Volta'), ('Sunshine Highway', 'Dropkick Murphys'), ('Southern Sun', 'Paul Oakenfold'), ('Shut Your Eyes', 'Snow Patrol'), ('Woo boost', 'Rusko')]\n"
     ]
    }
   ],
   "source": [
    "for user in random_users:\n",
    "    dfuser = df.loc[df['user_id'] == users[user]]\n",
    "    dfuser = dfuser.sort_values('listen_count',ascending=False)\n",
    "    best_songs_user = list(map(lambda x: show_song(all_songs,x),list(dfuser['song_id'])))\n",
    "    if len(best_songs_user) > 3:\n",
    "        print(\"\\n The user likes: \\n\", best_songs_user[0:3])\n",
    "    else:\n",
    "        print(\"\\n The user likes: \\n\",best_songs_user) \n",
    "    recommendations = [y for (x,y) in  getRecommendedItems(itemsim_sim_distance,users[user],df)]\n",
    "    show = list(map(lambda x: show_song(all_songs,x), recommendations[0:5]))\n",
    "    print(\"And we recommend for him/her: \\n\", show)\n"
   ]
  },
  {
   "cell_type": "code",
   "execution_count": 76,
   "metadata": {
    "collapsed": false
   },
   "outputs": [
    {
     "name": "stdout",
     "output_type": "stream",
     "text": [
      "100 / 10000\n",
      "200 / 10000\n",
      "300 / 10000\n",
      "400 / 10000\n",
      "500 / 10000\n",
      "600 / 10000\n",
      "700 / 10000\n",
      "800 / 10000\n",
      "900 / 10000\n",
      "1000 / 10000\n",
      "1100 / 10000\n",
      "1200 / 10000\n",
      "1300 / 10000\n",
      "1400 / 10000\n",
      "1500 / 10000\n",
      "1600 / 10000\n",
      "1700 / 10000\n",
      "1800 / 10000\n",
      "1900 / 10000\n",
      "2000 / 10000\n",
      "2100 / 10000\n",
      "2200 / 10000\n",
      "2300 / 10000\n",
      "2400 / 10000\n",
      "2500 / 10000\n",
      "2600 / 10000\n",
      "2700 / 10000\n",
      "2800 / 10000\n",
      "2900 / 10000\n",
      "3000 / 10000\n",
      "3100 / 10000\n",
      "3200 / 10000\n",
      "3300 / 10000\n",
      "3400 / 10000\n",
      "3500 / 10000\n",
      "3600 / 10000\n",
      "3700 / 10000\n",
      "3800 / 10000\n",
      "3900 / 10000\n",
      "4000 / 10000\n",
      "4100 / 10000\n",
      "4200 / 10000\n",
      "4300 / 10000\n",
      "4400 / 10000\n",
      "4500 / 10000\n",
      "4600 / 10000\n",
      "4700 / 10000\n",
      "4800 / 10000\n",
      "4900 / 10000\n",
      "5000 / 10000\n",
      "5100 / 10000\n",
      "5200 / 10000\n",
      "5300 / 10000\n",
      "5400 / 10000\n",
      "5500 / 10000\n",
      "5600 / 10000\n",
      "5700 / 10000\n",
      "5800 / 10000\n",
      "5900 / 10000\n",
      "6000 / 10000\n",
      "6100 / 10000\n",
      "6200 / 10000\n",
      "6300 / 10000\n",
      "6400 / 10000\n",
      "6500 / 10000\n",
      "6600 / 10000\n",
      "6700 / 10000\n",
      "6800 / 10000\n",
      "6900 / 10000\n",
      "7000 / 10000\n",
      "7100 / 10000\n",
      "7200 / 10000\n",
      "7300 / 10000\n",
      "7400 / 10000\n",
      "7500 / 10000\n",
      "7600 / 10000\n",
      "7700 / 10000\n",
      "7800 / 10000\n",
      "7900 / 10000\n",
      "8000 / 10000\n",
      "8100 / 10000\n",
      "8200 / 10000\n",
      "8300 / 10000\n",
      "8400 / 10000\n",
      "8500 / 10000\n",
      "8600 / 10000\n",
      "8700 / 10000\n",
      "8800 / 10000\n",
      "8900 / 10000\n",
      "9000 / 10000\n",
      "9100 / 10000\n",
      "9200 / 10000\n",
      "9300 / 10000\n",
      "9400 / 10000\n",
      "9500 / 10000\n",
      "9600 / 10000\n",
      "9700 / 10000\n",
      "9800 / 10000\n",
      "9900 / 10000\n",
      "10000 / 10000\n",
      "\n",
      " duration:  0:0:30:32 (DAYS:HOURS:MIN:SEC)\n"
     ]
    }
   ],
   "source": [
    "def calculateSimilarItems(itemPrefs,n=10):\n",
    "    result = {}\n",
    "    c = 0\n",
    "    for item in itemPrefs:\n",
    "        c += 1\n",
    "        if c%100==0:\n",
    "            print('%d / %d' % (c,len(itemPrefs)))\n",
    "        scores = topMatches(itemPrefs, item, n=n, similarity=naive_pearson)\n",
    "        result[item]=scores\n",
    "    return result\n",
    "\n",
    "start_time = time.time()\n",
    "\n",
    "itemsim_naive_pearson = calculateSimilarItems(dic_songs)\n",
    "\n",
    "duration = time.time() - start_time\n",
    "sec = timedelta(seconds=int(duration))\n",
    "d_time = datetime(1,1,1) + sec    \n",
    "print(\"\\n duration:  %d:%d:%d:%d\" % (d_time.day-1, d_time.hour, d_time.minute, d_time.second), end='')\n",
    "print(\" (DAYS:HOURS:MIN:SEC)\") "
   ]
  },
  {
   "cell_type": "code",
   "execution_count": 77,
   "metadata": {
    "collapsed": false
   },
   "outputs": [
    {
     "name": "stdout",
     "output_type": "stream",
     "text": [
      "\n",
      " The user likes: \n",
      " [('Eternal Flame (Single Version)', 'Atomic Kitten'), ('Représente', 'Alliance Ethnik'), (\"Le Jardin d'Hiver\", 'Jacky Terrasson')]\n",
      "And we recommend for him/her: \n",
      " [('Dream On', 'Aerosmith'), ('Civil War', \"Guns N' Roses\"), ('Savior', 'Rise Against'), ('Realize', 'Colbie Caillat'), ('Sunday Morning', 'Maroon 5')]\n",
      "\n",
      " The user likes: \n",
      " [('More Than A Feeling', 'Boston'), ('Evil', 'Interpol'), ('Hoisting The Flag', 'Sondre Lerche')]\n",
      "And we recommend for him/her: \n",
      " [('Just Like You', 'Three Days Grace'), ('Banquet', 'Bloc Party'), (\"Kiss Me_ I'm Sh*tfaced\", 'Dropkick Murphys'), ('Raspberry Beret', 'Prince'), (\"Jive Talkin' (Album Version)\", 'Bee Gees')]\n",
      "\n",
      " The user likes: \n",
      " [('Revelry', 'Kings Of Leon'), ('Undo', 'Björk'), ('Somebody To Love', 'Justin Bieber')]\n",
      "And we recommend for him/her: \n",
      " [(\"The '59 Sound\", 'The Gaslight Anthem'), ('Drunk Kid Catholic', 'Bright Eyes'), ('Do You Wanna', 'The Kooks'), ('Everybody Everybody', 'Black Box'), ('Ordinary', 'Train')]\n",
      "\n",
      " The user likes: \n",
      " [('High School Musical', 'High School Musical Cast'), ('Smooth Criminal', 'Alien Ant Farm'), ('Undo', 'Björk')]\n",
      "And we recommend for him/her: \n",
      " [('Una Confusion', 'LU'), ('Encore Break', 'Pearl Jam'), ('Hasta La Vista', 'Jordan Francis/Roshon Bernard Fegan'), ('See That My Grave Is Kept Clean (Live 2002)', 'Diamanda Galas'), ('Our Filmscore', 'Nicolai Dunger')]\n",
      "\n",
      " The user likes: \n",
      " [('The Only (Album Version)', 'Static-X'), ('Blue Magic', 'Jay-Z'), ('Prelude/Prologue', 'Kate Bush')]\n",
      "And we recommend for him/her: \n",
      " [('Burden In My Hand', 'Soundgarden'), ('Billionaire [feat. Bruno Mars]  (Explicit Album Version)', 'Travie McCoy'), ('Représente', 'Alliance Ethnik'), ('Smooth Criminal', 'Alien Ant Farm'), ('Kotov Syndrome', 'Rise Against')]\n",
      "\n",
      " The user likes: \n",
      " [('Ugly Girls', 'Kalle Baah'), ('In The Dark (ft. Christian Burns)', 'Tiësto'), ('The Memory Remains', 'Metallica / Marianne Faithfull')]\n",
      "And we recommend for him/her: \n",
      " [(\"Let's Go (Produced by B.R. Gunna)\", 'Slum Village'), ('The Stroke', 'Billy Squier'), ('Saxuality', 'Candy Dulfer'), ('Fight Fire With Fire', 'Metallica'), ('Hard Sun', 'Eddie Vedder')]\n",
      "\n",
      " The user likes: \n",
      " [(\"All Tomorrow's Parties\", 'The Velvet Underground / Nico'), ('How Do You Know You?', 'Days Of The New'), ('Flacana 16', 'Melodium')]\n",
      "And we recommend for him/her: \n",
      " [('The Quest', 'HYPOCRISY'), ('Freewill', 'Rush'), ('Fire And Rain', 'James Taylor'), ('La Maison De Mes Parents (Edit)', 'Ours'), (\"I Can't Love You Back\", 'Easton Corbin')]\n",
      "\n",
      " The user likes: \n",
      " [('Slow Country', 'Gorillaz'), ('Ce Jeu', 'Yelle'), (\"The Good That Won't Come Out\", 'Rilo Kiley')]\n",
      "And we recommend for him/her: \n",
      " [('Bang Bang', 'Dispatch'), ('Songs Of The Season', 'Soltero'), ('One Step Closer (Album Version)', 'Linkin Park'), ('The Real Slim Shady', 'Eminem'), ('Have You Ever Seen The Rain', 'Creedence Clearwater Revival')]\n",
      "\n",
      " The user likes: \n",
      " [(\"Reelin' In The Years\", 'Steely Dan'), ('My Old School', 'Steely Dan'), ('FM', 'Steely Dan')]\n",
      "And we recommend for him/her: \n",
      " [(\"Don't Leave Me This Way\", 'Thelma Houston'), (\"It's My Life\", 'Bon Jovi'), (\"If You're Gone (Remastered Version)\", 'matchbox twenty'), (\"Devil's path\", 'Dimmu Borgir'), (\"I CAN'T GET STARTED\", 'Ron Carter')]\n",
      "\n",
      " The user likes: \n",
      " [('Mercy:The Laundromat', 'Pavement'), ('Sinisten tähtien alla', 'J. Karjalainen & Mustat Lasit'), ('Infinity 2008', 'Guru Josh Project')]\n",
      "And we recommend for him/her: \n",
      " [('Undiscovered', 'James Morrison'), ('Sweet Pea', 'Amos Lee'), ('Them Bones', 'Alice In Chains'), ('Wake Up Call', 'Maroon 5'), ('Crunk Juice', 'Lil Jon / The East Side Boyz')]\n"
     ]
    }
   ],
   "source": [
    "for user in random_users:\n",
    "    dfuser = df.loc[df['user_id'] == users[user]]\n",
    "    dfuser = dfuser.sort_values('listen_count',ascending=False)\n",
    "    best_songs_user = list(map(lambda x: show_song(all_songs,x),list(dfuser['song_id'])))\n",
    "    if len(best_songs_user) > 3:\n",
    "        print(\"\\n The user likes: \\n\", best_songs_user[0:3])\n",
    "    else:\n",
    "        print(\"\\n The user likes: \\n\",best_songs_user) \n",
    "    recommendations = [y for (x,y) in  getRecommendedItems(itemsim_naive_pearson,users[user],df)]\n",
    "    show = list(map(lambda x: show_song(all_songs,x), recommendations[0:5]))\n",
    "    print(\"And we recommend for him/her: \\n\", show)"
   ]
  },
  {
   "cell_type": "code",
   "execution_count": 78,
   "metadata": {
    "collapsed": true
   },
   "outputs": [],
   "source": [
    "f = open('dic_songs.pickle', 'wb')\n",
    "di ={'dic_songs':dic_songs,'itemsim':itemsim,'itemsim_naive_pearson':itemsim_naive_pearson, 'itemsim_sim_distance':itemsim_sim_distance}\n",
    "pickle.dump(di,f)\n",
    "f.close()"
   ]
  },
  {
   "cell_type": "code",
   "execution_count": 79,
   "metadata": {
    "collapsed": false
   },
   "outputs": [
    {
     "name": "stdout",
     "output_type": "stream",
     "text": [
      "total 187M\r\n",
      "drwxrwxr-x 4 felipe felipe 4,0K Dez 29 15:04 \u001b[0m\u001b[01;34m.\u001b[0m/\r\n",
      "drwxr-xr-x 4 felipe felipe 4,0K Dez 28 22:55 \u001b[01;34m..\u001b[0m/\r\n",
      "-rw-rw-r-- 1 felipe felipe  457 Dez 24 11:24 2016movies.csv\r\n",
      "-rw-rw-r-- 1 felipe felipe  33K Dez 27 21:52 chap2_collectiv.ipynb\r\n",
      "-rw-rw-r-- 1 felipe felipe  55M Dez 29 15:06 dic_songs.pickle\r\n",
      "drwxrwxr-x 8 felipe felipe 4,0K Dez 28 19:34 \u001b[01;34m.git\u001b[0m/\r\n",
      "drwxr-xr-x 2 felipe felipe 4,0K Dez 29 12:09 \u001b[01;34m.ipynb_checkpoints\u001b[0m/\r\n",
      "-rw-rw-r-- 1 felipe felipe 1,1K Dez 24 08:55 LICENSE\r\n",
      "-rw-rw-r-- 1 felipe felipe   74 Dez 24 09:34 .~lock.teste.html#\r\n",
      "-rw-rw-r-- 1 felipe felipe 7,2K Dez 24 13:04 pandas_basic0.ipynb\r\n",
      "-rw-rw-r-- 1 felipe felipe  63K Dez 24 12:00 pandas_basic1.ipynb\r\n",
      "-rw-rw-r-- 1 felipe felipe  28K Dez 24 15:49 pandas_basic2.ipynb\r\n",
      "-rw-rw-r-- 1 felipe felipe  58K Dez 25 12:25 pandas_basic3.ipynb\r\n",
      "-rw-rw-r-- 1 felipe felipe  25K Dez 25 20:53 pandas_basic4.ipynb\r\n",
      "-rw-rw-r-- 1 felipe felipe  47K Dez 26 15:18 pandas_basic_5.ipynb\r\n",
      "-rw-rw-r-- 1 felipe felipe  46K Dez 29 15:04 Recommender_draft_one.ipynb\r\n",
      "-rw-rw-r-- 1 felipe felipe  57K Dez 28 22:19 Recommender_draft_zero.ipynb\r\n",
      "-rw-rw-r-- 1 felipe felipe  25K Dez 25 22:15 recommender_system_by_popularity.ipynb\r\n",
      "-rw-r--r-- 1 felipe felipe 102M Dez 23 16:34 song_data.csv\r\n",
      "-rw-r--r-- 1 felipe felipe  30M Dez 24 08:54 \u001b[01;31msong_data.zip\u001b[0m\r\n",
      "-rw-rw-r-- 1 felipe felipe 591K Dez 25 22:17 top_songs.csv\r\n"
     ]
    }
   ],
   "source": [
    "ls -lah"
   ]
  },
  {
   "cell_type": "code",
   "execution_count": null,
   "metadata": {
    "collapsed": true
   },
   "outputs": [],
   "source": []
  }
 ],
 "metadata": {
  "kernelspec": {
   "display_name": "Python 3",
   "language": "python",
   "name": "python3"
  },
  "language_info": {
   "codemirror_mode": {
    "name": "ipython",
    "version": 3
   },
   "file_extension": ".py",
   "mimetype": "text/x-python",
   "name": "python",
   "nbconvert_exporter": "python",
   "pygments_lexer": "ipython3",
   "version": "3.5.2"
  }
 },
 "nbformat": 4,
 "nbformat_minor": 1
}
