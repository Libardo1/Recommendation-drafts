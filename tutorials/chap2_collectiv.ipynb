{
 "cells": [
  {
   "cell_type": "markdown",
   "metadata": {},
   "source": [
    "# Lendo o cap 2 do livro Inteligencia Coletiva"
   ]
  },
  {
   "cell_type": "markdown",
   "metadata": {},
   "source": [
    "Esse dicionario contem um pequeno numero de criticos pareados com os scores que eles deram aos filmes. Os scores vao de 1 a 5 (versao original)"
   ]
  },
  {
   "cell_type": "code",
   "execution_count": 1,
   "metadata": {
    "collapsed": false
   },
   "outputs": [],
   "source": [
    "critics={'Lisa Rose': {'Lady in the Water': 2.5, 'Snakes on a Plane': 3.5,\n",
    " 'Just My Luck': 3.0, 'Superman Returns': 3.5, 'You, Me and Dupree': 2.5, \n",
    " 'The Night Listener': 3.0},\n",
    "'Gene Seymour': {'Lady in the Water': 3.0, 'Snakes on a Plane': 3.5, \n",
    " 'Just My Luck': 1.5, 'Superman Returns': 5.0, 'The Night Listener': 3.0, \n",
    " 'You, Me and Dupree': 3.5}, \n",
    "'Michael Phillips': {'Lady in the Water': 2.5, 'Snakes on a Plane': 3.0,\n",
    " 'Superman Returns': 3.5, 'The Night Listener': 4.0},\n",
    "'Claudia Puig': {'Snakes on a Plane': 3.5, 'Just My Luck': 3.0,\n",
    " 'The Night Listener': 4.5, 'Superman Returns': 4.0, \n",
    " 'You, Me and Dupree': 2.5},\n",
    "'Mick LaSalle': {'Lady in the Water': 3.0, 'Snakes on a Plane': 4.0, \n",
    " 'Just My Luck': 2.0, 'Superman Returns': 3.0, 'The Night Listener': 3.0,\n",
    " 'You, Me and Dupree': 2.0}, \n",
    "'Jack Matthews': {'Lady in the Water': 3.0, 'Snakes on a Plane': 4.0,\n",
    " 'The Night Listener': 3.0, 'Superman Returns': 5.0, 'You, Me and Dupree': 3.5},\n",
    "'Toby': {'Snakes on a Plane':4.5,'You, Me and Dupree':1.0,'Superman Returns':4.0}}"
   ]
  },
  {
   "cell_type": "markdown",
   "metadata": {},
   "source": [
    "versao alterada para testes"
   ]
  },
  {
   "cell_type": "code",
   "execution_count": 2,
   "metadata": {
    "collapsed": false
   },
   "outputs": [],
   "source": [
    "critics_alt={'Lisa Rose': {'Shame':1.4,'Star Treck':3.8,'Lady in the Water': 2.5, 'Snakes on a Plane': 3.5,\n",
    " 'Just My Luck': 3.0, 'Superman Returns': 3.5, 'You, Me and Dupree': 2.5, \n",
    " 'The Night Listener': 3.0},\n",
    "'Gene Seymour': {'Shame':1.0,'Brazil':4.1,'Lady in the Water': 3.0, 'Snakes on a Plane': 3.5, \n",
    " 'Just My Luck': 1.5, 'Superman Returns': 5.0, 'The Night Listener': 3.0, \n",
    " 'You, Me and Dupree': 3.5}, \n",
    "'Michael Phillips': {'Shame':1.3,'Drive':4.7,'Lady in the Water': 2.5, 'Snakes on a Plane': 3.0,\n",
    " 'Superman Returns': 3.5, 'The Night Listener': 4.0},\n",
    "'Claudia Puig': {'Shame':1.2,'Moon':3.2,'Snakes on a Plane': 3.5, 'Just My Luck': 3.0,\n",
    " 'The Night Listener': 4.5, 'Superman Returns': 4.0, \n",
    " 'You, Me and Dupree': 2.5},\n",
    "'Mick LaSalle': {'Shame':5.0, 'Lady in the Water': 3.0, 'Snakes on a Plane': 4.0, \n",
    " 'Just My Luck': 2.0, 'Superman Returns': 3.0, 'The Night Listener': 3.0,\n",
    " 'You, Me and Dupree': 2.0}, \n",
    "'Jack Matthews': {'Shame':1.0,'Supernany':4.5,'Lady in the Water': 3.0, 'Snakes on a Plane': 4.0,\n",
    " 'The Night Listener': 3.0, 'Superman Returns': 5.0, 'You, Me and Dupree': 3.5},\n",
    "'Toby': {'Star Wars':4.8,'Snakes on a Plane':4.5,'You, Me and Dupree':1.0,'Superman Returns':4.0}}"
   ]
  },
  {
   "cell_type": "code",
   "execution_count": 3,
   "metadata": {
    "collapsed": false
   },
   "outputs": [
    {
     "name": "stdout",
     "output_type": "stream",
     "text": [
      "['The Night Listener', 'Just My Luck', 'Lady in the Water', 'Snakes on a Plane', 'Superman Returns', 'You, Me and Dupree']\n"
     ]
    }
   ],
   "source": [
    "show_movies = []\n",
    "for person in critics_alt:\n",
    "    for movie in critics[person]:\n",
    "        if movie not in show_movies:\n",
    "            show_movies.append(movie)\n",
    "print(show_movies)"
   ]
  },
  {
   "cell_type": "code",
   "execution_count": 4,
   "metadata": {
    "collapsed": false
   },
   "outputs": [
    {
     "name": "stdout",
     "output_type": "stream",
     "text": [
      "4.0\n"
     ]
    }
   ],
   "source": [
    "print(critics['Toby']['Superman Returns'])"
   ]
  },
  {
   "cell_type": "markdown",
   "metadata": {},
   "source": [
    "# Distancia Euclidiana\n",
    "\n",
    "Dados dois criticos A e B e suas notas sobre os filmes x e y. Podemos calulcar a distancia euclidiana entre suas preferencias. Assim, podemos definir a seguinte funcao"
   ]
  },
  {
   "cell_type": "code",
   "execution_count": 5,
   "metadata": {
    "collapsed": true
   },
   "outputs": [],
   "source": [
    "import numpy as np\n",
    "inf = float('inf')\n",
    "\n",
    "def sim_distance(prefs,person1,person2):\n",
    "    intersection = []\n",
    "    for item in prefs[person1]:\n",
    "        if item in prefs[person2]:\n",
    "            intersection.append(item)\n",
    "    if len(intersection)==0:\n",
    "        return inf\n",
    "    sum_of_squares = np.sum([(prefs[person1][item] - prefs[person2][item])**2\\\n",
    "                     for item in intersection])\n",
    "    return 1/(1+ sum_of_squares)\n",
    "\n",
    "def most_similar_euclidian(prefs,person,):\n",
    "    most_similar_person = None\n",
    "    smallest_score = inf\n",
    "    for other_person in prefs:\n",
    "        if other_person!= person:\n",
    "            score = sim_distance(prefs, person,other_person)\n",
    "            if score < smallest_score:\n",
    "                smallest_score = score\n",
    "                most_similar_person = other_person\n",
    "    return most_similar_person "
   ]
  },
  {
   "cell_type": "code",
   "execution_count": 6,
   "metadata": {
    "collapsed": false
   },
   "outputs": [
    {
     "name": "stdout",
     "output_type": "stream",
     "text": [
      "0.307692307692\n"
     ]
    }
   ],
   "source": [
    "print(sim_distance(critics,'Mick LaSalle', 'Toby'))"
   ]
  },
  {
   "cell_type": "code",
   "execution_count": 7,
   "metadata": {
    "collapsed": false
   },
   "outputs": [
    {
     "name": "stdout",
     "output_type": "stream",
     "text": [
      "0.148148148148\n"
     ]
    }
   ],
   "source": [
    "print(sim_distance(critics,'Lisa Rose', 'Gene Seymour'))"
   ]
  },
  {
   "cell_type": "code",
   "execution_count": 8,
   "metadata": {
    "collapsed": false
   },
   "outputs": [
    {
     "name": "stdout",
     "output_type": "stream",
     "text": [
      "Mick LaSalle most similar to  Gene Seymour\n",
      "Toby most similar to  Gene Seymour\n",
      "Michael Phillips most similar to  Jack Matthews\n",
      "Claudia Puig most similar to  Gene Seymour\n",
      "Gene Seymour most similar to  Toby\n",
      "Lisa Rose most similar to  Gene Seymour\n",
      "Jack Matthews most similar to  Toby\n"
     ]
    }
   ],
   "source": [
    "for people in critics:\n",
    "    print(people, 'most similar to ', most_similar_euclidian(critics, people))"
   ]
  },
  {
   "cell_type": "markdown",
   "metadata": {},
   "source": [
    "# Coeficiente de correlação de Pearson\n",
    "\n",
    "Em estatística descritiva, o coeficiente de correlação de Pearson mede o grau da correlação (e a direcção dessa correlação - se positiva ou negativa) entre duas variáveis de escala métrica.\n",
    "\n",
    "Este coeficiente, normalmente representado por ${\\displaystyle \\rho }$  assume apenas valores entre $-1$ e $1$.\n",
    "\n",
    "1) ${\\displaystyle \\rho =1}$ Significa uma correlação perfeita positiva entre as duas variáveis.\n",
    "\n",
    "2) ${\\displaystyle \\rho =-1}$ Significa uma correlação negativa perfeita entre as duas variáveis - Isto é, se uma aumenta, a outra sempre diminui.\n",
    "\n",
    "3) ${\\displaystyle \\rho =0}$ Significa que as duas variáveis não dependem linearmente uma da outra. No entanto, pode existir uma dependência não linear.\n",
    "\n",
    "Para obter esse coeficiente calculamos:\n",
    "\n",
    "$${\\displaystyle \\rho ={\\frac {\\sum _{i=1}^{n}(x_{i}-{\\bar {x}})(y_{i}-{\\bar {y}})}{{\\sqrt {\\sum _{i=1}^{n}(x_{i}-{\\bar {x}})^{2}}}\\cdot {\\sqrt {\\sum _{i=1}^{n}(y_{i}-{\\bar {y}})^{2}}}}}}$$\n",
    "\n",
    "onde ${\\displaystyle x_{1},x_{2},\\dots ,x_{n}}$,  ${\\displaystyle y_{1},y_{2},\\dots ,y_{n}}$ são os valores medidos de ambas as variáveis. Tambem temos que ${\\displaystyle {\\bar {x}}={\\frac {1}{n}}\\cdot \\sum _{i=1}^{n}x_{i}}$ e ${\\displaystyle {\\bar {y}}={\\frac {1}{n}}\\cdot \\sum _{i=1}^{n}y_{i}}$\n",
    "\n"
   ]
  },
  {
   "cell_type": "code",
   "execution_count": 9,
   "metadata": {
    "collapsed": true
   },
   "outputs": [],
   "source": [
    "#implementacao direta da equacao acima\n",
    "def naive_pearson(prefs,person1,person2):\n",
    "    intersection = []\n",
    "    for item in prefs[person1]:\n",
    "        if item in prefs[person2]:\n",
    "            intersection.append(item)\n",
    "    number_of_itens = len(intersection) \n",
    "    if number_of_itens ==0:\n",
    "        return 0\n",
    "    sum1 = np.sum([prefs[person1][item] for item in intersection])/number_of_itens\n",
    "    sum2 = np.sum([prefs[person2][item] for item in intersection])/number_of_itens\n",
    "    sum1_mean = np.sum([(prefs[person1][item] - sum1)**2 for item in intersection])\n",
    "    sum2_mean = np.sum([(prefs[person2][item] - sum2)**2 for item in intersection])\n",
    "    pSum = np.sum([(prefs[person1][item]- sum1) * (prefs[person2][item]- sum2)\\\n",
    "                     for item in intersection])\n",
    "    numerator = pSum \n",
    "    denominator = np.sqrt(sum1_mean)*np.sqrt(sum2_mean)\n",
    "    if denominator == 0:\n",
    "        return 0\n",
    "    return numerator/denominator\n",
    "\n",
    "\n",
    "\n",
    "#Aqui ponderamos os valores pelo numero de items na interseccao\n",
    "#dos scores de person1 e person2. Funcao usada pelo autor\n",
    "def sim_pearson(prefs,person1,person2):\n",
    "    intersection = []\n",
    "    for item in prefs[person1]:\n",
    "        if item in prefs[person2]:\n",
    "            intersection.append(item)\n",
    "    number_of_itens = len(intersection) \n",
    "    if number_of_itens ==0:\n",
    "        return 0\n",
    "    sum1 = np.sum([prefs[person1][item] for item in intersection])\n",
    "    sum2 = np.sum([prefs[person2][item] for item in intersection])\n",
    "    sum1sq = np.sum([(prefs[person1][item])**2 for item in intersection])\n",
    "    sum2sq = np.sum([(prefs[person2][item])**2 for item in intersection])\n",
    "    pSum = np.sum([(prefs[person1][item] * prefs[person2][item])\\\n",
    "                     for item in intersection])\n",
    "    numerator = pSum - (sum1*sum2/number_of_itens)\n",
    "    denominator = np.sqrt( ((sum1sq - sum1**2)/number_of_itens) *\\\n",
    "                           ((sum2sq - sum2**2)/number_of_itens))\n",
    "    if denominator == 0:\n",
    "        return 0\n",
    "    return numerator/denominator\n",
    "\n",
    "def most_similar_pearson(prefs,person,similarity=sim_pearson):\n",
    "    most_similar_person = None\n",
    "    biggest_score = -1\n",
    "    for other_person in prefs:\n",
    "        if other_person!= person:\n",
    "            score = similarity(prefs, person,other_person)\n",
    "            if score > biggest_score:\n",
    "                biggest_score = score\n",
    "                most_similar_person = other_person\n",
    "    return most_similar_person "
   ]
  },
  {
   "cell_type": "code",
   "execution_count": 10,
   "metadata": {
    "collapsed": false
   },
   "outputs": [
    {
     "name": "stdout",
     "output_type": "stream",
     "text": [
      "0.0223048327138\n"
     ]
    }
   ],
   "source": [
    "print(sim_pearson(critics,'Lisa Rose', 'Lisa Rose'))"
   ]
  },
  {
   "cell_type": "code",
   "execution_count": 11,
   "metadata": {
    "collapsed": false
   },
   "outputs": [
    {
     "name": "stdout",
     "output_type": "stream",
     "text": [
      "1.0\n"
     ]
    }
   ],
   "source": [
    "print(naive_pearson(critics,'Lisa Rose', 'Lisa Rose'))"
   ]
  },
  {
   "cell_type": "code",
   "execution_count": 12,
   "metadata": {
    "collapsed": false
   },
   "outputs": [
    {
     "name": "stdout",
     "output_type": "stream",
     "text": [
      "0.893405147442\n",
      "1.0\n"
     ]
    }
   ],
   "source": [
    "print(naive_pearson(critics,'Claudia Puig', 'Toby'))\n",
    "print(naive_pearson(critics,'Claudia Puig', 'Michael Phillips'))"
   ]
  },
  {
   "cell_type": "code",
   "execution_count": 13,
   "metadata": {
    "collapsed": false
   },
   "outputs": [
    {
     "name": "stdout",
     "output_type": "stream",
     "text": [
      "According to the euclidian distance Mick LaSalle is most similar to Gene Seymour \n",
      " According to the Pearsons correlation (book) Mick LaSalle is most similar to Toby \n",
      " According to the Pearsons correlation (naive)  Mick LaSalle is most similar to Toby \n",
      "\n",
      "According to the euclidian distance Toby is most similar to Gene Seymour \n",
      " According to the Pearsons correlation (book) Toby is most similar to Mick LaSalle \n",
      " According to the Pearsons correlation (naive)  Toby is most similar to Lisa Rose \n",
      "\n",
      "According to the euclidian distance Michael Phillips is most similar to Jack Matthews \n",
      " According to the Pearsons correlation (book) Michael Phillips is most similar to Claudia Puig \n",
      " According to the Pearsons correlation (naive)  Michael Phillips is most similar to Claudia Puig \n",
      "\n",
      "According to the euclidian distance Claudia Puig is most similar to Gene Seymour \n",
      " According to the Pearsons correlation (book) Claudia Puig is most similar to Toby \n",
      " According to the Pearsons correlation (naive)  Claudia Puig is most similar to Michael Phillips \n",
      "\n",
      "According to the euclidian distance Gene Seymour is most similar to Toby \n",
      " According to the Pearsons correlation (book) Gene Seymour is most similar to Toby \n",
      " According to the Pearsons correlation (naive)  Gene Seymour is most similar to Jack Matthews \n",
      "\n",
      "According to the euclidian distance Lisa Rose is most similar to Gene Seymour \n",
      " According to the Pearsons correlation (book) Lisa Rose is most similar to Toby \n",
      " According to the Pearsons correlation (naive)  Lisa Rose is most similar to Toby \n",
      "\n",
      "According to the euclidian distance Jack Matthews is most similar to Toby \n",
      " According to the Pearsons correlation (book) Jack Matthews is most similar to Toby \n",
      " According to the Pearsons correlation (naive)  Jack Matthews is most similar to Gene Seymour \n",
      "\n"
     ]
    }
   ],
   "source": [
    "for people in critics:\n",
    "    result1 = 'According to the euclidian distance {0} is most similar to {1}'\\\n",
    "              .format(people,most_similar_euclidian(critics, people))\n",
    "    result2 = 'According to the Pearsons correlation (book) {0} is most similar to {1}'\\\n",
    "              .format(people,most_similar_pearson(critics, people))\n",
    "    result3 = 'According to the Pearsons correlation (naive)  {0} is most similar to {1}'\\\n",
    "              .format(people,most_similar_pearson(critics, people,similarity=naive_pearson))        \n",
    "    print(result1,'\\n',result2,'\\n',result3,'\\n')"
   ]
  },
  {
   "cell_type": "markdown",
   "metadata": {
    "collapsed": true
   },
   "source": [
    "Tambem podemos fazer uma funcao que dado um usuario retorna as pessoas mais parecidas"
   ]
  },
  {
   "cell_type": "code",
   "execution_count": 14,
   "metadata": {
    "collapsed": false
   },
   "outputs": [],
   "source": [
    "def topMatches(prefs, person, n=5, similarity=sim_pearson):\n",
    "    scores = [(similarity(prefs, person,other_person),other_person)\\\n",
    "              for other_person in prefs if other_person!= person]\n",
    "    scores.sort(reverse=True)\n",
    "    return scores[0:n]"
   ]
  },
  {
   "cell_type": "code",
   "execution_count": 15,
   "metadata": {
    "collapsed": false
   },
   "outputs": [
    {
     "data": {
      "text/plain": [
       "[(0.20000907091185807, 'Mick LaSalle'),\n",
       " (0.13153554170845366, 'Claudia Puig'),\n",
       " (0.1157489177269951, 'Lisa Rose'),\n",
       " (0.077823596561186037, 'Jack Matthews'),\n",
       " (0.052987987924912175, 'Gene Seymour')]"
      ]
     },
     "execution_count": 15,
     "metadata": {},
     "output_type": "execute_result"
    }
   ],
   "source": [
    "topMatches(critics,'Toby')"
   ]
  },
  {
   "cell_type": "code",
   "execution_count": 16,
   "metadata": {
    "collapsed": false
   },
   "outputs": [
    {
     "data": {
      "text/plain": [
       "[(0.99124070716193036, 'Lisa Rose'),\n",
       " (0.92447345164190498, 'Mick LaSalle'),\n",
       " (0.89340514744156441, 'Claudia Puig'),\n",
       " (0.66284898035987017, 'Jack Matthews'),\n",
       " (0.38124642583151175, 'Gene Seymour')]"
      ]
     },
     "execution_count": 16,
     "metadata": {},
     "output_type": "execute_result"
    }
   ],
   "source": [
    "topMatches(critics,'Toby',similarity=naive_pearson)"
   ]
  },
  {
   "cell_type": "code",
   "execution_count": 17,
   "metadata": {
    "collapsed": false
   },
   "outputs": [
    {
     "data": {
      "text/plain": [
       "[(0.99124070716193036, 'Lisa Rose'),\n",
       " (0.92447345164190498, 'Mick LaSalle'),\n",
       " (0.89340514744156441, 'Claudia Puig'),\n",
       " (0.66284898035987017, 'Jack Matthews'),\n",
       " (0.38124642583151175, 'Gene Seymour')]"
      ]
     },
     "execution_count": 17,
     "metadata": {},
     "output_type": "execute_result"
    }
   ],
   "source": [
    "topMatches(critics,'Toby',similarity=naive_pearson)"
   ]
  },
  {
   "cell_type": "markdown",
   "metadata": {},
   "source": [
    "# Filtragem colaborativa baseada em usuario"
   ]
  },
  {
   "cell_type": "code",
   "execution_count": 18,
   "metadata": {
    "collapsed": false
   },
   "outputs": [
    {
     "name": "stdout",
     "output_type": "stream",
     "text": [
      "['The Night Listener', 'Lady in the Water', 'Just My Luck']\n"
     ]
    }
   ],
   "source": [
    "def list_with_no_rep(seq):\n",
    "    seen = set()\n",
    "    seen_add = seen.add\n",
    "    return [x for x in seq if not (x in seen or seen_add(x))]\n",
    "\n",
    "\n",
    "\n",
    "def recommed_items_based_on_user(prefs,person,n=5,similarity=naive_pearson):\n",
    "    most_similar_users = [y for (x,y) in topMatches(prefs,person,n,similarity)]\n",
    "    new_films = []\n",
    "    for user in most_similar_users:\n",
    "        for item in prefs[user]:\n",
    "            if item not in prefs[person]:\n",
    "                new_films.append(( prefs[user][item],item))\n",
    "    \n",
    "    new_films.sort(reverse=True)\n",
    "    recomendation = list_with_no_rep([y for (x,y) in new_films])\n",
    "    if recomendation==[]:\n",
    "        return 'There is no recomendadtions for {}'.format(person)\n",
    "    return recomendation\n",
    "        \n",
    "print(recommed_items_based_on_user(critics,'Toby'))"
   ]
  },
  {
   "cell_type": "code",
   "execution_count": 19,
   "metadata": {
    "collapsed": false
   },
   "outputs": [
    {
     "name": "stdout",
     "output_type": "stream",
     "text": [
      "['Shame', 'The Night Listener', 'Supernany', 'Brazil', 'Star Treck', 'Moon', 'Lady in the Water', 'Just My Luck']\n"
     ]
    }
   ],
   "source": [
    "print(recommed_items_based_on_user(critics_alt,'Toby'))"
   ]
  },
  {
   "cell_type": "markdown",
   "metadata": {},
   "source": [
    "O problema dessa abordagem eh que ela poderia eventualmente resultar numa pessoa que nao tenha feito uma avaliaca a respeito de items que eu eventualmente gostaria. Poderia tambem retornar uma pessoa que estranhamente tenha gostado de um filme que tenha sido mal avaliado por todos os demais retornados por toMatches. Como eh o caso na linha 18 em que Shame eh retornado como o filme mais recomendado "
   ]
  },
  {
   "cell_type": "markdown",
   "metadata": {},
   "source": [
    "Vamos entao criar outra funcao de recomendacao. O que esta no centro dessa nova funcao eh um novo modo de valorar um item dado um usuario target:\n",
    "\n",
    "$$value(item,target) =\\frac{\\sum_{U \\in users}scores[U][item]* sim(U,target)}{\\sum_{U \\in users[item]}sim(U,target)}$$\n",
    "\n",
    "Em que $users[item]$ eh a lista de usuarios que revisaram o produto. $value(item, target)$ eh o score aproximado que o usuario daria para o produto item (calculamos isso sempre para um item nao avaliado por target)."
   ]
  },
  {
   "cell_type": "code",
   "execution_count": 20,
   "metadata": {
    "collapsed": true
   },
   "outputs": [],
   "source": [
    "def getRecommendations(prefs, person, similarity=sim_pearson):\n",
    "    totals = {}\n",
    "    simSum = {}\n",
    "    for other_user in prefs:\n",
    "        if other_user==person:\n",
    "            continue\n",
    "        sim = similarity(prefs,person,other_user)\n",
    "        if sim<=0:\n",
    "            continue\n",
    "        for item in prefs[other_user]:\n",
    "            if item not in prefs[person] or prefs[person][item]==0:\n",
    "                totals.setdefault(item,0)\n",
    "                totals[item] += prefs[other_user][item]*sim\n",
    "                simSum.setdefault(item,0)\n",
    "                simSum[item] += sim\n",
    "\n",
    "                \n",
    "    rankings = [(total/simSum[item],item) for item, total in totals.items()]\n",
    "        \n",
    "    rankings.sort(reverse=True)\n",
    "    return rankings"
   ]
  },
  {
   "cell_type": "markdown",
   "metadata": {},
   "source": [
    "Agora note a diferenca em relacao ao filme Shame"
   ]
  },
  {
   "cell_type": "code",
   "execution_count": 21,
   "metadata": {
    "collapsed": false
   },
   "outputs": [
    {
     "name": "stdout",
     "output_type": "stream",
     "text": [
      "['Supernany', 'Brazil', 'Star Treck', 'The Night Listener', 'Moon', 'Lady in the Water', 'Shame', 'Just My Luck']\n"
     ]
    }
   ],
   "source": [
    "print([y for (x,y) in getRecommendations(critics_alt,'Toby')])"
   ]
  },
  {
   "cell_type": "code",
   "execution_count": 22,
   "metadata": {
    "collapsed": false
   },
   "outputs": [
    {
     "name": "stdout",
     "output_type": "stream",
     "text": [
      "['Shame', 'The Night Listener', 'Supernany', 'Brazil', 'Star Treck', 'Moon', 'Lady in the Water', 'Just My Luck']\n"
     ]
    }
   ],
   "source": [
    "print(recommed_items_based_on_user(critics_alt,'Toby'))"
   ]
  },
  {
   "cell_type": "code",
   "execution_count": 23,
   "metadata": {
    "collapsed": false
   },
   "outputs": [
    {
     "data": {
      "text/plain": [
       "[(3.3412931446204865, 'The Night Listener'),\n",
       " (2.8704021448248018, 'Lady in the Water'),\n",
       " (2.4413324446514002, 'Just My Luck')]"
      ]
     },
     "execution_count": 23,
     "metadata": {},
     "output_type": "execute_result"
    }
   ],
   "source": [
    "getRecommendations(critics,'Toby')"
   ]
  },
  {
   "cell_type": "markdown",
   "metadata": {},
   "source": [
    "# Recomendando baseado em items"
   ]
  },
  {
   "cell_type": "markdown",
   "metadata": {},
   "source": [
    "Uma primeira aproximacao do problema eh inverter o dicionario e aplicar o metodo anterior."
   ]
  },
  {
   "cell_type": "code",
   "execution_count": 24,
   "metadata": {
    "collapsed": false
   },
   "outputs": [
    {
     "name": "stdout",
     "output_type": "stream",
     "text": [
      "{'The Night Listener': {'Mick LaSalle': 3.0, 'Michael Phillips': 4.0, 'Claudia Puig': 4.5, 'Lisa Rose': 3.0, 'Gene Seymour': 3.0, 'Jack Matthews': 3.0}, 'Just My Luck': {'Mick LaSalle': 2.0, 'Gene Seymour': 1.5, 'Claudia Puig': 3.0, 'Lisa Rose': 3.0}, 'Lady in the Water': {'Mick LaSalle': 3.0, 'Gene Seymour': 3.0, 'Jack Matthews': 3.0, 'Michael Phillips': 2.5, 'Lisa Rose': 2.5}, 'Snakes on a Plane': {'Mick LaSalle': 4.0, 'Toby': 4.5, 'Michael Phillips': 3.0, 'Claudia Puig': 3.5, 'Lisa Rose': 3.5, 'Gene Seymour': 3.5, 'Jack Matthews': 4.0}, 'Superman Returns': {'Mick LaSalle': 3.0, 'Toby': 4.0, 'Michael Phillips': 3.5, 'Claudia Puig': 4.0, 'Lisa Rose': 3.5, 'Gene Seymour': 5.0, 'Jack Matthews': 5.0}, 'You, Me and Dupree': {'Mick LaSalle': 2.0, 'Toby': 1.0, 'Claudia Puig': 2.5, 'Gene Seymour': 3.5, 'Lisa Rose': 2.5, 'Jack Matthews': 3.5}}\n"
     ]
    }
   ],
   "source": [
    "def invert_dic(prefs):\n",
    "    revert_dic = {}\n",
    "    for person in prefs:\n",
    "        for item in prefs[person]:\n",
    "            revert_dic.setdefault(item,{})\n",
    "            revert_dic[item][person] = prefs[person][item]\n",
    "    return revert_dic\n",
    "\n",
    "movies = invert_dic(critics)\n",
    "print(movies)"
   ]
  },
  {
   "cell_type": "markdown",
   "metadata": {},
   "source": [
    "Assim, podemos fazer a mesma analise"
   ]
  },
  {
   "cell_type": "code",
   "execution_count": 25,
   "metadata": {
    "collapsed": false
   },
   "outputs": [
    {
     "name": "stdout",
     "output_type": "stream",
     "text": [
      "[(0.049737908588390667, 'You, Me and Dupree'), (0.011233005733489121, 'Lady in the Water'), (0.0028152918538315711, 'Snakes on a Plane'), (-0.0073671613281279281, 'The Night Listener'), (-0.029984816268796382, 'Just My Luck')]\n"
     ]
    }
   ],
   "source": [
    "print(topMatches(movies,'Superman Returns'))"
   ]
  },
  {
   "cell_type": "code",
   "execution_count": 26,
   "metadata": {
    "collapsed": false,
    "scrolled": true
   },
   "outputs": [
    {
     "name": "stdout",
     "output_type": "stream",
     "text": [
      "[(0.65795169495976902, 'You, Me and Dupree'), (0.48795003647426655, 'Lady in the Water'), (0.1118033988749895, 'Snakes on a Plane'), (-0.1798471947990542, 'The Night Listener'), (-0.42289003161103106, 'Just My Luck')]\n"
     ]
    }
   ],
   "source": [
    "print(topMatches(movies,'Superman Returns',similarity=naive_pearson))"
   ]
  },
  {
   "cell_type": "markdown",
   "metadata": {},
   "source": [
    "E para um dado filme podemos recomendar pessoas:"
   ]
  },
  {
   "cell_type": "code",
   "execution_count": 27,
   "metadata": {
    "collapsed": false
   },
   "outputs": [
    {
     "data": {
      "text/plain": [
       "[(4.0, 'Michael Phillips'), (3.0, 'Jack Matthews')]"
      ]
     },
     "execution_count": 27,
     "metadata": {},
     "output_type": "execute_result"
    }
   ],
   "source": [
    "getRecommendations(movies,'Just My Luck')"
   ]
  },
  {
   "cell_type": "code",
   "execution_count": 28,
   "metadata": {
    "collapsed": false
   },
   "outputs": [
    {
     "data": {
      "text/plain": [
       "[(4.0, 'Michael Phillips'), (3.0, 'Jack Matthews')]"
      ]
     },
     "execution_count": 28,
     "metadata": {},
     "output_type": "execute_result"
    }
   ],
   "source": [
    "getRecommendations(movies,'Just My Luck',similarity=naive_pearson)"
   ]
  },
  {
   "cell_type": "markdown",
   "metadata": {},
   "source": [
    "A ultilidade dessa troca: um revendedor via Internet pode coletar historicos de compras com o proposito de recomendar  prldutos para pessoas emparticular. Reverter produtos com pessoas permitira a eles procurar por pessoas que poderiam comprar determinados produtos. Isso pode ser muito util para planejar um esforco de propaganda para uma grande liquidacao de certos itens.  "
   ]
  },
  {
   "cell_type": "markdown",
   "metadata": {},
   "source": [
    "# Filtragem colaborativa baseada em itens\n"
   ]
  },
  {
   "cell_type": "markdown",
   "metadata": {},
   "source": [
    "Vamos definir uma funcao que inverte o dicionario user:{item:score} para item:{user:score}; depois ela itera para cada item no dicionario invertido e cria um outro dicionario item:top n matches. Esse ultimo dicionario eh que devolvido por essa funcao."
   ]
  },
  {
   "cell_type": "code",
   "execution_count": 29,
   "metadata": {
    "collapsed": true
   },
   "outputs": [],
   "source": [
    "def calculateSimilarItems(prefs,n=10):\n",
    "    result = {}\n",
    "    itemPrefs = invert_dic(prefs)\n",
    "    c = 0\n",
    "    for item in itemPrefs:\n",
    "        c += 1\n",
    "        if c%100==0:\n",
    "            print('%d / %d' % (c,len(itemPrefs)))\n",
    "        scores = topMatches(itemPrefs, item, n=n, similarity=sim_distance)\n",
    "        result[item]=scores\n",
    "    return result"
   ]
  },
  {
   "cell_type": "code",
   "execution_count": 30,
   "metadata": {
    "collapsed": false
   },
   "outputs": [
    {
     "name": "stdout",
     "output_type": "stream",
     "text": [
      "{'The Night Listener': [(0.2857142857142857, 'Lady in the Water'), (0.18181818181818182, 'Snakes on a Plane'), (0.15384615384615385, 'Just My Luck'), (0.14814814814814814, 'You, Me and Dupree'), (0.10256410256410256, 'Superman Returns')], 'Just My Luck': [(0.22222222222222221, 'Lady in the Water'), (0.18181818181818182, 'You, Me and Dupree'), (0.15384615384615385, 'The Night Listener'), (0.10526315789473684, 'Snakes on a Plane'), (0.064516129032258063, 'Superman Returns')], 'Lady in the Water': [(0.40000000000000002, 'You, Me and Dupree'), (0.2857142857142857, 'The Night Listener'), (0.22222222222222221, 'Snakes on a Plane'), (0.22222222222222221, 'Just My Luck'), (0.090909090909090912, 'Superman Returns')], 'Snakes on a Plane': [(0.22222222222222221, 'Lady in the Water'), (0.18181818181818182, 'The Night Listener'), (0.16666666666666666, 'Superman Returns'), (0.10526315789473684, 'Just My Luck'), (0.05128205128205128, 'You, Me and Dupree')], 'Superman Returns': [(0.16666666666666666, 'Snakes on a Plane'), (0.10256410256410256, 'The Night Listener'), (0.090909090909090912, 'Lady in the Water'), (0.064516129032258063, 'Just My Luck'), (0.053333333333333337, 'You, Me and Dupree')], 'You, Me and Dupree': [(0.40000000000000002, 'Lady in the Water'), (0.18181818181818182, 'Just My Luck'), (0.14814814814814814, 'The Night Listener'), (0.053333333333333337, 'Superman Returns'), (0.05128205128205128, 'Snakes on a Plane')]}\n"
     ]
    }
   ],
   "source": [
    "itemsim = calculateSimilarItems(critics)\n",
    "print(itemsim)"
   ]
  },
  {
   "cell_type": "markdown",
   "metadata": {},
   "source": [
    "Agora a funcao de recomendacao eh parecida com a anteriror. Nesse caso, vamos usar a similaridade entre produtos para o calculo  do valore de um $item$ nao visto pelo usuario $user$:\n",
    "\n",
    "$$value(item,user) =\\frac{\\sum_{I \\in S[item][user]}scores[user][item]* sim(I,item)}{\\sum_{I \\in S[item][user]}sim(I,item)}$$\n",
    "\n",
    "Em que $S[item][user]$ eh o conjunto dos items similares a $item$ tais que $user$ ano atribuiu uma nota."
   ]
  },
  {
   "cell_type": "code",
   "execution_count": 31,
   "metadata": {
    "collapsed": true
   },
   "outputs": [],
   "source": [
    "def getRecommendedItems(prefs, itemMatch,user):\n",
    "    userRatings = prefs[user]\n",
    "    scores ={}\n",
    "    totalSim ={}\n",
    "    for (item,rating) in userRatings.items():\n",
    "        for (similarity,item2) in itemMatch[item]:\n",
    "            if item2 in userRatings:\n",
    "                continue\n",
    "            scores.setdefault(item2,0)\n",
    "            scores[item2] += similarity*rating\n",
    "            totalSim.setdefault(item2,0)\n",
    "            totalSim[item2] += similarity\n",
    "        \n",
    "    rankings = [(score/totalSim[item],item) for item,score in scores.items()]      \n",
    "    rankings.sort(reverse=True)\n",
    "    return rankings\n",
    "    "
   ]
  },
  {
   "cell_type": "code",
   "execution_count": 32,
   "metadata": {
    "collapsed": false
   },
   "outputs": [
    {
     "data": {
      "text/plain": [
       "[(3.182634730538922, 'The Night Listener'),\n",
       " (2.5983318700614575, 'Just My Luck'),\n",
       " (2.4730878186968837, 'Lady in the Water')]"
      ]
     },
     "execution_count": 32,
     "metadata": {},
     "output_type": "execute_result"
    }
   ],
   "source": [
    "getRecommendedItems(critics,itemsim,'Toby')"
   ]
  },
  {
   "cell_type": "code",
   "execution_count": null,
   "metadata": {
    "collapsed": true
   },
   "outputs": [],
   "source": []
  }
 ],
 "metadata": {
  "kernelspec": {
   "display_name": "Python 3",
   "language": "python",
   "name": "python3"
  },
  "language_info": {
   "codemirror_mode": {
    "name": "ipython",
    "version": 3
   },
   "file_extension": ".py",
   "mimetype": "text/x-python",
   "name": "python",
   "nbconvert_exporter": "python",
   "pygments_lexer": "ipython3",
   "version": "3.5.2"
  }
 },
 "nbformat": 4,
 "nbformat_minor": 1
}
