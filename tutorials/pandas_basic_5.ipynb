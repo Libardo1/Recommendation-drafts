{
 "cells": [
  {
   "cell_type": "markdown",
   "metadata": {},
   "source": [
    "# Pegando certas estatisticas e fazendo cortes no data frame"
   ]
  },
  {
   "cell_type": "code",
   "execution_count": 1,
   "metadata": {
    "collapsed": false
   },
   "outputs": [
    {
     "data": {
      "text/html": [
       "<div>\n",
       "<table border=\"1\" class=\"dataframe\">\n",
       "  <thead>\n",
       "    <tr style=\"text-align: right;\">\n",
       "      <th></th>\n",
       "      <th>song_id</th>\n",
       "      <th>listen_count</th>\n",
       "      <th>artist</th>\n",
       "      <th>title</th>\n",
       "    </tr>\n",
       "  </thead>\n",
       "  <tbody>\n",
       "    <tr>\n",
       "      <th>0</th>\n",
       "      <td>SOBONKR12A58A7A7E0</td>\n",
       "      <td>40619</td>\n",
       "      <td>Dwight Yoakam</td>\n",
       "      <td>You're The One</td>\n",
       "    </tr>\n",
       "    <tr>\n",
       "      <th>1</th>\n",
       "      <td>SOAUWYT12A81C206F1</td>\n",
       "      <td>36059</td>\n",
       "      <td>Björk</td>\n",
       "      <td>Undo</td>\n",
       "    </tr>\n",
       "    <tr>\n",
       "      <th>2</th>\n",
       "      <td>SOSXLTC12AF72A7F54</td>\n",
       "      <td>30391</td>\n",
       "      <td>Kings Of Leon</td>\n",
       "      <td>Revelry</td>\n",
       "    </tr>\n",
       "    <tr>\n",
       "      <th>3</th>\n",
       "      <td>SOEGIYH12A6D4FC0E3</td>\n",
       "      <td>21953</td>\n",
       "      <td>Barry Tuckwell/Academy of St Martin-in-the-Fie...</td>\n",
       "      <td>Horn Concerto No. 4 in E flat K495: II. Romanc...</td>\n",
       "    </tr>\n",
       "    <tr>\n",
       "      <th>4</th>\n",
       "      <td>SOFRQTD12A81C233C0</td>\n",
       "      <td>21646</td>\n",
       "      <td>Harmonia</td>\n",
       "      <td>Sehr kosmisch</td>\n",
       "    </tr>\n",
       "  </tbody>\n",
       "</table>\n",
       "</div>"
      ],
      "text/plain": [
       "              song_id  listen_count  \\\n",
       "0  SOBONKR12A58A7A7E0         40619   \n",
       "1  SOAUWYT12A81C206F1         36059   \n",
       "2  SOSXLTC12AF72A7F54         30391   \n",
       "3  SOEGIYH12A6D4FC0E3         21953   \n",
       "4  SOFRQTD12A81C233C0         21646   \n",
       "\n",
       "                                              artist  \\\n",
       "0                                      Dwight Yoakam   \n",
       "1                                              Björk   \n",
       "2                                      Kings Of Leon   \n",
       "3  Barry Tuckwell/Academy of St Martin-in-the-Fie...   \n",
       "4                                           Harmonia   \n",
       "\n",
       "                                               title  \n",
       "0                                     You're The One  \n",
       "1                                               Undo  \n",
       "2                                            Revelry  \n",
       "3  Horn Concerto No. 4 in E flat K495: II. Romanc...  \n",
       "4                                      Sehr kosmisch  "
      ]
     },
     "execution_count": 1,
     "metadata": {},
     "output_type": "execute_result"
    }
   ],
   "source": [
    "#imports \n",
    "import pandas as pd\n",
    "import numpy as np\n",
    "import matplotlib.pyplot as plt\n",
    "\n",
    "#dataframe of songs\n",
    "df = pd.read_csv(\n",
    "    'top_songs.csv')\n",
    "df.drop('index',1,inplace=True)\n",
    "df.head()"
   ]
  },
  {
   "cell_type": "code",
   "execution_count": 2,
   "metadata": {
    "collapsed": false
   },
   "outputs": [
    {
     "data": {
      "text/html": [
       "<div>\n",
       "<table border=\"1\" class=\"dataframe\">\n",
       "  <thead>\n",
       "    <tr style=\"text-align: right;\">\n",
       "      <th></th>\n",
       "      <th>listen_count</th>\n",
       "    </tr>\n",
       "  </thead>\n",
       "  <tbody>\n",
       "    <tr>\n",
       "      <th>count</th>\n",
       "      <td>10000.000000</td>\n",
       "    </tr>\n",
       "    <tr>\n",
       "      <th>mean</th>\n",
       "      <td>367.450200</td>\n",
       "    </tr>\n",
       "    <tr>\n",
       "      <th>std</th>\n",
       "      <td>962.579141</td>\n",
       "    </tr>\n",
       "    <tr>\n",
       "      <th>min</th>\n",
       "      <td>12.000000</td>\n",
       "    </tr>\n",
       "    <tr>\n",
       "      <th>25%</th>\n",
       "      <td>114.000000</td>\n",
       "    </tr>\n",
       "    <tr>\n",
       "      <th>50%</th>\n",
       "      <td>192.000000</td>\n",
       "    </tr>\n",
       "    <tr>\n",
       "      <th>75%</th>\n",
       "      <td>355.000000</td>\n",
       "    </tr>\n",
       "    <tr>\n",
       "      <th>max</th>\n",
       "      <td>40619.000000</td>\n",
       "    </tr>\n",
       "  </tbody>\n",
       "</table>\n",
       "</div>"
      ],
      "text/plain": [
       "       listen_count\n",
       "count  10000.000000\n",
       "mean     367.450200\n",
       "std      962.579141\n",
       "min       12.000000\n",
       "25%      114.000000\n",
       "50%      192.000000\n",
       "75%      355.000000\n",
       "max    40619.000000"
      ]
     },
     "execution_count": 2,
     "metadata": {},
     "output_type": "execute_result"
    }
   ],
   "source": [
    "df.describe()"
   ]
  },
  {
   "cell_type": "code",
   "execution_count": 3,
   "metadata": {
    "collapsed": false
   },
   "outputs": [
    {
     "data": {
      "text/html": [
       "<div>\n",
       "<table border=\"1\" class=\"dataframe\">\n",
       "  <thead>\n",
       "    <tr style=\"text-align: right;\">\n",
       "      <th></th>\n",
       "      <th>song_id</th>\n",
       "      <th>listen_count</th>\n",
       "      <th>artist</th>\n",
       "      <th>title</th>\n",
       "    </tr>\n",
       "  </thead>\n",
       "  <tbody>\n",
       "    <tr>\n",
       "      <th>103</th>\n",
       "      <td>SOAFTRR12AF72A8D4D</td>\n",
       "      <td>3048</td>\n",
       "      <td>Daft Punk</td>\n",
       "      <td>Harder Better Faster Stronger</td>\n",
       "    </tr>\n",
       "    <tr>\n",
       "      <th>104</th>\n",
       "      <td>SOFRCGW12A81C21EA6</td>\n",
       "      <td>3034</td>\n",
       "      <td>Plain White T's</td>\n",
       "      <td>Hey There Delilah</td>\n",
       "    </tr>\n",
       "    <tr>\n",
       "      <th>105</th>\n",
       "      <td>SOIZLKI12A6D4F7B61</td>\n",
       "      <td>3024</td>\n",
       "      <td>Muse</td>\n",
       "      <td>Supermassive Black Hole (Twilight Soundtrack V...</td>\n",
       "    </tr>\n",
       "    <tr>\n",
       "      <th>106</th>\n",
       "      <td>SOVDLZN12AB0185BEA</td>\n",
       "      <td>3019</td>\n",
       "      <td>The Black Keys</td>\n",
       "      <td>Tighten Up</td>\n",
       "    </tr>\n",
       "    <tr>\n",
       "      <th>107</th>\n",
       "      <td>SONHWUN12AC468C014</td>\n",
       "      <td>2970</td>\n",
       "      <td>Fisher</td>\n",
       "      <td>Rianna</td>\n",
       "    </tr>\n",
       "  </tbody>\n",
       "</table>\n",
       "</div>"
      ],
      "text/plain": [
       "                song_id  listen_count           artist  \\\n",
       "103  SOAFTRR12AF72A8D4D          3048        Daft Punk   \n",
       "104  SOFRCGW12A81C21EA6          3034  Plain White T's   \n",
       "105  SOIZLKI12A6D4F7B61          3024             Muse   \n",
       "106  SOVDLZN12AB0185BEA          3019   The Black Keys   \n",
       "107  SONHWUN12AC468C014          2970           Fisher   \n",
       "\n",
       "                                                 title  \n",
       "103                      Harder Better Faster Stronger  \n",
       "104                                  Hey There Delilah  \n",
       "105  Supermassive Black Hole (Twilight Soundtrack V...  \n",
       "106                                         Tighten Up  \n",
       "107                                             Rianna  "
      ]
     },
     "execution_count": 3,
     "metadata": {},
     "output_type": "execute_result"
    }
   ],
   "source": [
    "mean = df.describe()['listen_count']['mean']\n",
    "df_above_mean = df[ df['listen_count'] >=mean*8]\n",
    "df_above_mean.tail()"
   ]
  },
  {
   "cell_type": "code",
   "execution_count": 4,
   "metadata": {
    "collapsed": false
   },
   "outputs": [
    {
     "data": {
      "image/png": "[encoded data removed]",
      "text/plain": [
       "<matplotlib.figure.Figure at 0x7f37c441e400>"
      ]
     },
     "metadata": {},
     "output_type": "display_data"
    }
   ],
   "source": [
    "df_above_mean.plot()\n",
    "plt.show()"
   ]
  },
  {
   "cell_type": "code",
   "execution_count": 5,
   "metadata": {
    "collapsed": false
   },
   "outputs": [],
   "source": [
    "#podemos empurrar todos os valores para frente ou para tras\n",
    "df['foward'] = df['listen_count'].shift(1)\n",
    "#df['tras'] = df['listen_count'].shift(-1)\n",
    "\n",
    "#usamos mapping para criar novas colunas\n",
    "df['diference'] = list(map(lambda x,y : x-y, df['foward'],df['listen_count']))"
   ]
  },
  {
   "cell_type": "code",
   "execution_count": 6,
   "metadata": {
    "collapsed": false
   },
   "outputs": [
    {
     "data": {
      "text/html": [
       "<div>\n",
       "<table border=\"1\" class=\"dataframe\">\n",
       "  <thead>\n",
       "    <tr style=\"text-align: right;\">\n",
       "      <th></th>\n",
       "      <th>song_id</th>\n",
       "      <th>listen_count</th>\n",
       "      <th>artist</th>\n",
       "      <th>title</th>\n",
       "      <th>foward</th>\n",
       "      <th>diference</th>\n",
       "    </tr>\n",
       "  </thead>\n",
       "  <tbody>\n",
       "    <tr>\n",
       "      <th>0</th>\n",
       "      <td>SOBONKR12A58A7A7E0</td>\n",
       "      <td>40619</td>\n",
       "      <td>Dwight Yoakam</td>\n",
       "      <td>You're The One</td>\n",
       "      <td>NaN</td>\n",
       "      <td>NaN</td>\n",
       "    </tr>\n",
       "    <tr>\n",
       "      <th>1</th>\n",
       "      <td>SOAUWYT12A81C206F1</td>\n",
       "      <td>36059</td>\n",
       "      <td>Björk</td>\n",
       "      <td>Undo</td>\n",
       "      <td>40619.0</td>\n",
       "      <td>4560.0</td>\n",
       "    </tr>\n",
       "    <tr>\n",
       "      <th>2</th>\n",
       "      <td>SOSXLTC12AF72A7F54</td>\n",
       "      <td>30391</td>\n",
       "      <td>Kings Of Leon</td>\n",
       "      <td>Revelry</td>\n",
       "      <td>36059.0</td>\n",
       "      <td>5668.0</td>\n",
       "    </tr>\n",
       "    <tr>\n",
       "      <th>3</th>\n",
       "      <td>SOEGIYH12A6D4FC0E3</td>\n",
       "      <td>21953</td>\n",
       "      <td>Barry Tuckwell/Academy of St Martin-in-the-Fie...</td>\n",
       "      <td>Horn Concerto No. 4 in E flat K495: II. Romanc...</td>\n",
       "      <td>30391.0</td>\n",
       "      <td>8438.0</td>\n",
       "    </tr>\n",
       "    <tr>\n",
       "      <th>4</th>\n",
       "      <td>SOFRQTD12A81C233C0</td>\n",
       "      <td>21646</td>\n",
       "      <td>Harmonia</td>\n",
       "      <td>Sehr kosmisch</td>\n",
       "      <td>21953.0</td>\n",
       "      <td>307.0</td>\n",
       "    </tr>\n",
       "  </tbody>\n",
       "</table>\n",
       "</div>"
      ],
      "text/plain": [
       "              song_id  listen_count  \\\n",
       "0  SOBONKR12A58A7A7E0         40619   \n",
       "1  SOAUWYT12A81C206F1         36059   \n",
       "2  SOSXLTC12AF72A7F54         30391   \n",
       "3  SOEGIYH12A6D4FC0E3         21953   \n",
       "4  SOFRQTD12A81C233C0         21646   \n",
       "\n",
       "                                              artist  \\\n",
       "0                                      Dwight Yoakam   \n",
       "1                                              Björk   \n",
       "2                                      Kings Of Leon   \n",
       "3  Barry Tuckwell/Academy of St Martin-in-the-Fie...   \n",
       "4                                           Harmonia   \n",
       "\n",
       "                                               title   foward  diference  \n",
       "0                                     You're The One      NaN        NaN  \n",
       "1                                               Undo  40619.0     4560.0  \n",
       "2                                            Revelry  36059.0     5668.0  \n",
       "3  Horn Concerto No. 4 in E flat K495: II. Romanc...  30391.0     8438.0  \n",
       "4                                      Sehr kosmisch  21953.0      307.0  "
      ]
     },
     "execution_count": 6,
     "metadata": {},
     "output_type": "execute_result"
    }
   ],
   "source": [
    "df.head()"
   ]
  },
  {
   "cell_type": "code",
   "execution_count": 7,
   "metadata": {
    "collapsed": false
   },
   "outputs": [
    {
     "name": "stderr",
     "output_type": "stream",
     "text": [
      "/usr/local/lib/python3.5/dist-packages/ipykernel/__main__.py:2: FutureWarning: pd.rolling_apply is deprecated for Series and will be removed in a future version, replace with \n",
      "\tSeries.rolling(window=2,center=False).apply(args=<tuple>,func=<function>,kwargs=<dict>)\n",
      "  from ipykernel import kernelapp as app\n"
     ]
    }
   ],
   "source": [
    "#podemos usar uma funcao tomando uma janela no dataframe, nesse caso 2\n",
    "df['sum'] = pd.rolling_apply(df['listen_count'],2,lambda x : np.sum(x))"
   ]
  },
  {
   "cell_type": "code",
   "execution_count": 8,
   "metadata": {
    "collapsed": false
   },
   "outputs": [
    {
     "data": {
      "text/html": [
       "<div>\n",
       "<table border=\"1\" class=\"dataframe\">\n",
       "  <thead>\n",
       "    <tr style=\"text-align: right;\">\n",
       "      <th></th>\n",
       "      <th>song_id</th>\n",
       "      <th>listen_count</th>\n",
       "      <th>artist</th>\n",
       "      <th>title</th>\n",
       "      <th>foward</th>\n",
       "      <th>diference</th>\n",
       "      <th>sum</th>\n",
       "    </tr>\n",
       "  </thead>\n",
       "  <tbody>\n",
       "    <tr>\n",
       "      <th>0</th>\n",
       "      <td>SOBONKR12A58A7A7E0</td>\n",
       "      <td>40619</td>\n",
       "      <td>Dwight Yoakam</td>\n",
       "      <td>You're The One</td>\n",
       "      <td>NaN</td>\n",
       "      <td>NaN</td>\n",
       "      <td>NaN</td>\n",
       "    </tr>\n",
       "    <tr>\n",
       "      <th>1</th>\n",
       "      <td>SOAUWYT12A81C206F1</td>\n",
       "      <td>36059</td>\n",
       "      <td>Björk</td>\n",
       "      <td>Undo</td>\n",
       "      <td>40619.0</td>\n",
       "      <td>4560.0</td>\n",
       "      <td>76678.0</td>\n",
       "    </tr>\n",
       "    <tr>\n",
       "      <th>2</th>\n",
       "      <td>SOSXLTC12AF72A7F54</td>\n",
       "      <td>30391</td>\n",
       "      <td>Kings Of Leon</td>\n",
       "      <td>Revelry</td>\n",
       "      <td>36059.0</td>\n",
       "      <td>5668.0</td>\n",
       "      <td>66450.0</td>\n",
       "    </tr>\n",
       "    <tr>\n",
       "      <th>3</th>\n",
       "      <td>SOEGIYH12A6D4FC0E3</td>\n",
       "      <td>21953</td>\n",
       "      <td>Barry Tuckwell/Academy of St Martin-in-the-Fie...</td>\n",
       "      <td>Horn Concerto No. 4 in E flat K495: II. Romanc...</td>\n",
       "      <td>30391.0</td>\n",
       "      <td>8438.0</td>\n",
       "      <td>52344.0</td>\n",
       "    </tr>\n",
       "    <tr>\n",
       "      <th>4</th>\n",
       "      <td>SOFRQTD12A81C233C0</td>\n",
       "      <td>21646</td>\n",
       "      <td>Harmonia</td>\n",
       "      <td>Sehr kosmisch</td>\n",
       "      <td>21953.0</td>\n",
       "      <td>307.0</td>\n",
       "      <td>43599.0</td>\n",
       "    </tr>\n",
       "  </tbody>\n",
       "</table>\n",
       "</div>"
      ],
      "text/plain": [
       "              song_id  listen_count  \\\n",
       "0  SOBONKR12A58A7A7E0         40619   \n",
       "1  SOAUWYT12A81C206F1         36059   \n",
       "2  SOSXLTC12AF72A7F54         30391   \n",
       "3  SOEGIYH12A6D4FC0E3         21953   \n",
       "4  SOFRQTD12A81C233C0         21646   \n",
       "\n",
       "                                              artist  \\\n",
       "0                                      Dwight Yoakam   \n",
       "1                                              Björk   \n",
       "2                                      Kings Of Leon   \n",
       "3  Barry Tuckwell/Academy of St Martin-in-the-Fie...   \n",
       "4                                           Harmonia   \n",
       "\n",
       "                                               title   foward  diference  \\\n",
       "0                                     You're The One      NaN        NaN   \n",
       "1                                               Undo  40619.0     4560.0   \n",
       "2                                            Revelry  36059.0     5668.0   \n",
       "3  Horn Concerto No. 4 in E flat K495: II. Romanc...  30391.0     8438.0   \n",
       "4                                      Sehr kosmisch  21953.0      307.0   \n",
       "\n",
       "       sum  \n",
       "0      NaN  \n",
       "1  76678.0  \n",
       "2  66450.0  \n",
       "3  52344.0  \n",
       "4  43599.0  "
      ]
     },
     "execution_count": 8,
     "metadata": {},
     "output_type": "execute_result"
    }
   ],
   "source": [
    "df.head()"
   ]
  },
  {
   "cell_type": "code",
   "execution_count": 9,
   "metadata": {
    "collapsed": false
   },
   "outputs": [
    {
     "data": {
      "text/html": [
       "<div>\n",
       "<table border=\"1\" class=\"dataframe\">\n",
       "  <thead>\n",
       "    <tr style=\"text-align: right;\">\n",
       "      <th></th>\n",
       "      <th>song_id</th>\n",
       "      <th>listen_count</th>\n",
       "      <th>artist</th>\n",
       "      <th>title</th>\n",
       "      <th>foward</th>\n",
       "      <th>diference</th>\n",
       "      <th>sum</th>\n",
       "    </tr>\n",
       "  </thead>\n",
       "  <tbody>\n",
       "    <tr>\n",
       "      <th>9995</th>\n",
       "      <td>SOFFCOP12A8C1422E3</td>\n",
       "      <td>18</td>\n",
       "      <td>Neutral Milk Hotel</td>\n",
       "      <td>Marching Theme</td>\n",
       "      <td>18.0</td>\n",
       "      <td>0.0</td>\n",
       "      <td>36.0</td>\n",
       "    </tr>\n",
       "    <tr>\n",
       "      <th>9996</th>\n",
       "      <td>SOOUXUD12AB0188D97</td>\n",
       "      <td>17</td>\n",
       "      <td>Sleater-kinney</td>\n",
       "      <td>Jumpers (Album)</td>\n",
       "      <td>18.0</td>\n",
       "      <td>1.0</td>\n",
       "      <td>35.0</td>\n",
       "    </tr>\n",
       "    <tr>\n",
       "      <th>9997</th>\n",
       "      <td>SOBZVFU12A6702162C</td>\n",
       "      <td>16</td>\n",
       "      <td>Rilo Kiley</td>\n",
       "      <td>Accidntel Deth (Album Version)</td>\n",
       "      <td>17.0</td>\n",
       "      <td>1.0</td>\n",
       "      <td>33.0</td>\n",
       "    </tr>\n",
       "    <tr>\n",
       "      <th>9998</th>\n",
       "      <td>SOBDQMB12AB0189045</td>\n",
       "      <td>14</td>\n",
       "      <td>William Tabbert</td>\n",
       "      <td>Younger Than Springtime</td>\n",
       "      <td>16.0</td>\n",
       "      <td>2.0</td>\n",
       "      <td>30.0</td>\n",
       "    </tr>\n",
       "    <tr>\n",
       "      <th>9999</th>\n",
       "      <td>SOPWWHY12A58A7B015</td>\n",
       "      <td>12</td>\n",
       "      <td>Sleater-kinney</td>\n",
       "      <td>Hubcap</td>\n",
       "      <td>14.0</td>\n",
       "      <td>2.0</td>\n",
       "      <td>26.0</td>\n",
       "    </tr>\n",
       "  </tbody>\n",
       "</table>\n",
       "</div>"
      ],
      "text/plain": [
       "                 song_id  listen_count              artist  \\\n",
       "9995  SOFFCOP12A8C1422E3            18  Neutral Milk Hotel   \n",
       "9996  SOOUXUD12AB0188D97            17      Sleater-kinney   \n",
       "9997  SOBZVFU12A6702162C            16          Rilo Kiley   \n",
       "9998  SOBDQMB12AB0189045            14     William Tabbert   \n",
       "9999  SOPWWHY12A58A7B015            12      Sleater-kinney   \n",
       "\n",
       "                               title  foward  diference   sum  \n",
       "9995                  Marching Theme    18.0        0.0  36.0  \n",
       "9996                 Jumpers (Album)    18.0        1.0  35.0  \n",
       "9997  Accidntel Deth (Album Version)    17.0        1.0  33.0  \n",
       "9998         Younger Than Springtime    16.0        2.0  30.0  \n",
       "9999                          Hubcap    14.0        2.0  26.0  "
      ]
     },
     "execution_count": 9,
     "metadata": {},
     "output_type": "execute_result"
    }
   ],
   "source": [
    "df.tail()"
   ]
  },
  {
   "cell_type": "code",
   "execution_count": 10,
   "metadata": {
    "collapsed": true
   },
   "outputs": [],
   "source": [
    "x = np.array(df['listen_count'])"
   ]
  },
  {
   "cell_type": "code",
   "execution_count": 11,
   "metadata": {
    "collapsed": false
   },
   "outputs": [],
   "source": [
    "teste = df[['listen_count', 'diference']]"
   ]
  },
  {
   "cell_type": "code",
   "execution_count": 12,
   "metadata": {
    "collapsed": false
   },
   "outputs": [
    {
     "data": {
      "text/html": [
       "<div>\n",
       "<table border=\"1\" class=\"dataframe\">\n",
       "  <thead>\n",
       "    <tr style=\"text-align: right;\">\n",
       "      <th></th>\n",
       "      <th>listen_count</th>\n",
       "      <th>diference</th>\n",
       "    </tr>\n",
       "  </thead>\n",
       "  <tbody>\n",
       "    <tr>\n",
       "      <th>0</th>\n",
       "      <td>40619</td>\n",
       "      <td>NaN</td>\n",
       "    </tr>\n",
       "    <tr>\n",
       "      <th>1</th>\n",
       "      <td>36059</td>\n",
       "      <td>4560.0</td>\n",
       "    </tr>\n",
       "    <tr>\n",
       "      <th>2</th>\n",
       "      <td>30391</td>\n",
       "      <td>5668.0</td>\n",
       "    </tr>\n",
       "    <tr>\n",
       "      <th>3</th>\n",
       "      <td>21953</td>\n",
       "      <td>8438.0</td>\n",
       "    </tr>\n",
       "    <tr>\n",
       "      <th>4</th>\n",
       "      <td>21646</td>\n",
       "      <td>307.0</td>\n",
       "    </tr>\n",
       "  </tbody>\n",
       "</table>\n",
       "</div>"
      ],
      "text/plain": [
       "   listen_count  diference\n",
       "0         40619        NaN\n",
       "1         36059     4560.0\n",
       "2         30391     5668.0\n",
       "3         21953     8438.0\n",
       "4         21646      307.0"
      ]
     },
     "execution_count": 12,
     "metadata": {},
     "output_type": "execute_result"
    }
   ],
   "source": [
    "teste.head()"
   ]
  },
  {
   "cell_type": "code",
   "execution_count": 13,
   "metadata": {
    "collapsed": false
   },
   "outputs": [
    {
     "name": "stderr",
     "output_type": "stream",
     "text": [
      "/usr/local/lib/python3.5/dist-packages/pandas/core/frame.py:2842: SettingWithCopyWarning: \n",
      "A value is trying to be set on a copy of a slice from a DataFrame\n",
      "\n",
      "See the caveats in the documentation: http://pandas.pydata.org/pandas-docs/stable/indexing.html#indexing-view-versus-copy\n",
      "  downcast=downcast, **kwargs)\n"
     ]
    }
   ],
   "source": [
    "teste.fillna(value=0,inplace=True)"
   ]
  },
  {
   "cell_type": "code",
   "execution_count": 14,
   "metadata": {
    "collapsed": false
   },
   "outputs": [],
   "source": [
    "#transformando um data frame em uma matrix de numpy\n",
    "x = teste.as_matrix()"
   ]
  },
  {
   "cell_type": "code",
   "execution_count": 15,
   "metadata": {
    "collapsed": false
   },
   "outputs": [
    {
     "data": {
      "text/plain": [
       "array([[ 40619.,      0.],\n",
       "       [ 36059.,   4560.],\n",
       "       [ 30391.,   5668.],\n",
       "       [ 21953.,   8438.],\n",
       "       [ 21646.,    307.],\n",
       "       [ 15889.,   5757.],\n",
       "       [ 14149.,   1740.],\n",
       "       [ 14029.,    120.],\n",
       "       [ 13701.,    328.],\n",
       "       [ 12506.,   1195.]])"
      ]
     },
     "execution_count": 15,
     "metadata": {},
     "output_type": "execute_result"
    }
   ],
   "source": [
    "x[0:10]"
   ]
  },
  {
   "cell_type": "code",
   "execution_count": null,
   "metadata": {
    "collapsed": true
   },
   "outputs": [],
   "source": []
  }
 ],
 "metadata": {
  "kernelspec": {
   "display_name": "Python 3",
   "language": "python",
   "name": "python3"
  },
  "language_info": {
   "codemirror_mode": {
    "name": "ipython",
    "version": 3
   },
   "file_extension": ".py",
   "mimetype": "text/x-python",
   "name": "python",
   "nbconvert_exporter": "python",
   "pygments_lexer": "ipython3",
   "version": "3.5.2"
  }
 },
 "nbformat": 4,
 "nbformat_minor": 1
}
