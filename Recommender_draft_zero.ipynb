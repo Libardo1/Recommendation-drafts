{
 "cells": [
  {
   "cell_type": "markdown",
   "metadata": {},
   "source": [
    "# Filtragem colaborativa baseada em usuario music dataset"
   ]
  },
  {
   "cell_type": "code",
   "execution_count": 1,
   "metadata": {
    "collapsed": false
   },
   "outputs": [
    {
     "data": {
      "text/html": [
       "<div>\n",
       "<table border=\"1\" class=\"dataframe\">\n",
       "  <thead>\n",
       "    <tr style=\"text-align: right;\">\n",
       "      <th></th>\n",
       "      <th>user_id</th>\n",
       "      <th>song_id</th>\n",
       "      <th>listen_count</th>\n",
       "      <th>title</th>\n",
       "      <th>artist</th>\n",
       "    </tr>\n",
       "  </thead>\n",
       "  <tbody>\n",
       "    <tr>\n",
       "      <th>0</th>\n",
       "      <td>b80344d063b5ccb3212f76538f3d9e43d87dca9e</td>\n",
       "      <td>SOAKIMP12A8C130995</td>\n",
       "      <td>1</td>\n",
       "      <td>The Cove</td>\n",
       "      <td>Jack Johnson</td>\n",
       "    </tr>\n",
       "    <tr>\n",
       "      <th>1</th>\n",
       "      <td>b80344d063b5ccb3212f76538f3d9e43d87dca9e</td>\n",
       "      <td>SOBBMDR12A8C13253B</td>\n",
       "      <td>2</td>\n",
       "      <td>Entre Dos Aguas</td>\n",
       "      <td>Paco De Lucia</td>\n",
       "    </tr>\n",
       "    <tr>\n",
       "      <th>2</th>\n",
       "      <td>b80344d063b5ccb3212f76538f3d9e43d87dca9e</td>\n",
       "      <td>SOBXHDL12A81C204C0</td>\n",
       "      <td>1</td>\n",
       "      <td>Stronger</td>\n",
       "      <td>Kanye West</td>\n",
       "    </tr>\n",
       "    <tr>\n",
       "      <th>3</th>\n",
       "      <td>b80344d063b5ccb3212f76538f3d9e43d87dca9e</td>\n",
       "      <td>SOBYHAJ12A6701BF1D</td>\n",
       "      <td>1</td>\n",
       "      <td>Constellations</td>\n",
       "      <td>Jack Johnson</td>\n",
       "    </tr>\n",
       "    <tr>\n",
       "      <th>4</th>\n",
       "      <td>b80344d063b5ccb3212f76538f3d9e43d87dca9e</td>\n",
       "      <td>SODACBL12A8C13C273</td>\n",
       "      <td>1</td>\n",
       "      <td>Learn To Fly</td>\n",
       "      <td>Foo Fighters</td>\n",
       "    </tr>\n",
       "  </tbody>\n",
       "</table>\n",
       "</div>"
      ],
      "text/plain": [
       "                                    user_id             song_id  listen_count  \\\n",
       "0  b80344d063b5ccb3212f76538f3d9e43d87dca9e  SOAKIMP12A8C130995             1   \n",
       "1  b80344d063b5ccb3212f76538f3d9e43d87dca9e  SOBBMDR12A8C13253B             2   \n",
       "2  b80344d063b5ccb3212f76538f3d9e43d87dca9e  SOBXHDL12A81C204C0             1   \n",
       "3  b80344d063b5ccb3212f76538f3d9e43d87dca9e  SOBYHAJ12A6701BF1D             1   \n",
       "4  b80344d063b5ccb3212f76538f3d9e43d87dca9e  SODACBL12A8C13C273             1   \n",
       "\n",
       "             title         artist  \n",
       "0         The Cove   Jack Johnson  \n",
       "1  Entre Dos Aguas  Paco De Lucia  \n",
       "2         Stronger     Kanye West  \n",
       "3   Constellations   Jack Johnson  \n",
       "4     Learn To Fly   Foo Fighters  "
      ]
     },
     "execution_count": 1,
     "metadata": {},
     "output_type": "execute_result"
    }
   ],
   "source": [
    "#imports \n",
    "import pandas as pd\n",
    "import numpy as np\n",
    "import random\n",
    "import time\n",
    "from datetime import datetime, timedelta\n",
    "\n",
    "#dataframe of songs\n",
    "df = pd.read_csv(\n",
    "    'song_data.csv', \n",
    "     names =['user_id', 'song_id', 'listen_count', 'title', 'artist']\n",
    ")\n",
    "df.head()"
   ]
  },
  {
   "cell_type": "code",
   "execution_count": 2,
   "metadata": {
    "collapsed": false
   },
   "outputs": [
    {
     "data": {
      "text/html": [
       "<div>\n",
       "<table border=\"1\" class=\"dataframe\">\n",
       "  <thead>\n",
       "    <tr style=\"text-align: right;\">\n",
       "      <th></th>\n",
       "      <th>song_id</th>\n",
       "      <th>listen_count</th>\n",
       "      <th>artist</th>\n",
       "      <th>title</th>\n",
       "    </tr>\n",
       "  </thead>\n",
       "  <tbody>\n",
       "    <tr>\n",
       "      <th>0</th>\n",
       "      <td>SOBONKR12A58A7A7E0</td>\n",
       "      <td>40619</td>\n",
       "      <td>Dwight Yoakam</td>\n",
       "      <td>You're The One</td>\n",
       "    </tr>\n",
       "    <tr>\n",
       "      <th>1</th>\n",
       "      <td>SOAUWYT12A81C206F1</td>\n",
       "      <td>36059</td>\n",
       "      <td>Björk</td>\n",
       "      <td>Undo</td>\n",
       "    </tr>\n",
       "    <tr>\n",
       "      <th>2</th>\n",
       "      <td>SOSXLTC12AF72A7F54</td>\n",
       "      <td>30391</td>\n",
       "      <td>Kings Of Leon</td>\n",
       "      <td>Revelry</td>\n",
       "    </tr>\n",
       "    <tr>\n",
       "      <th>3</th>\n",
       "      <td>SOEGIYH12A6D4FC0E3</td>\n",
       "      <td>21953</td>\n",
       "      <td>Barry Tuckwell/Academy of St Martin-in-the-Fie...</td>\n",
       "      <td>Horn Concerto No. 4 in E flat K495: II. Romanc...</td>\n",
       "    </tr>\n",
       "    <tr>\n",
       "      <th>4</th>\n",
       "      <td>SOFRQTD12A81C233C0</td>\n",
       "      <td>21646</td>\n",
       "      <td>Harmonia</td>\n",
       "      <td>Sehr kosmisch</td>\n",
       "    </tr>\n",
       "  </tbody>\n",
       "</table>\n",
       "</div>"
      ],
      "text/plain": [
       "              song_id  listen_count  \\\n",
       "0  SOBONKR12A58A7A7E0         40619   \n",
       "1  SOAUWYT12A81C206F1         36059   \n",
       "2  SOSXLTC12AF72A7F54         30391   \n",
       "3  SOEGIYH12A6D4FC0E3         21953   \n",
       "4  SOFRQTD12A81C233C0         21646   \n",
       "\n",
       "                                              artist  \\\n",
       "0                                      Dwight Yoakam   \n",
       "1                                              Björk   \n",
       "2                                      Kings Of Leon   \n",
       "3  Barry Tuckwell/Academy of St Martin-in-the-Fie...   \n",
       "4                                           Harmonia   \n",
       "\n",
       "                                               title  \n",
       "0                                     You're The One  \n",
       "1                                               Undo  \n",
       "2                                            Revelry  \n",
       "3  Horn Concerto No. 4 in E flat K495: II. Romanc...  \n",
       "4                                      Sehr kosmisch  "
      ]
     },
     "execution_count": 2,
     "metadata": {},
     "output_type": "execute_result"
    }
   ],
   "source": [
    "all_songs = pd.read_csv(\n",
    "    'top_songs.csv' \n",
    "     )\n",
    "all_songs.drop('index',1,inplace=True)\n",
    "\n",
    "def show_song(dataframe,song_id):\n",
    "    song_df = dataframe.loc[dataframe['song_id'] == song_id]\n",
    "    artist = \"\".join(song_df['artist'].astype('str').tail(1).tolist()) \n",
    "    title = \"\".join(song_df['title'].astype('str').tail(1).tolist())\n",
    "    return (title,artist)\n",
    "\n",
    "\n",
    "all_songs.head()"
   ]
  },
  {
   "cell_type": "markdown",
   "metadata": {},
   "source": [
    "Dado o dataframe all_songs e a funcao show_song podemos usar apenas a coluna song_id"
   ]
  },
  {
   "cell_type": "code",
   "execution_count": 3,
   "metadata": {
    "collapsed": false
   },
   "outputs": [
    {
     "data": {
      "text/html": [
       "<div>\n",
       "<table border=\"1\" class=\"dataframe\">\n",
       "  <thead>\n",
       "    <tr style=\"text-align: right;\">\n",
       "      <th></th>\n",
       "      <th>user_id</th>\n",
       "      <th>song_id</th>\n",
       "      <th>listen_count</th>\n",
       "    </tr>\n",
       "  </thead>\n",
       "  <tbody>\n",
       "    <tr>\n",
       "      <th>0</th>\n",
       "      <td>b80344d063b5ccb3212f76538f3d9e43d87dca9e</td>\n",
       "      <td>SOAKIMP12A8C130995</td>\n",
       "      <td>1</td>\n",
       "    </tr>\n",
       "    <tr>\n",
       "      <th>1</th>\n",
       "      <td>b80344d063b5ccb3212f76538f3d9e43d87dca9e</td>\n",
       "      <td>SOBBMDR12A8C13253B</td>\n",
       "      <td>2</td>\n",
       "    </tr>\n",
       "    <tr>\n",
       "      <th>2</th>\n",
       "      <td>b80344d063b5ccb3212f76538f3d9e43d87dca9e</td>\n",
       "      <td>SOBXHDL12A81C204C0</td>\n",
       "      <td>1</td>\n",
       "    </tr>\n",
       "    <tr>\n",
       "      <th>3</th>\n",
       "      <td>b80344d063b5ccb3212f76538f3d9e43d87dca9e</td>\n",
       "      <td>SOBYHAJ12A6701BF1D</td>\n",
       "      <td>1</td>\n",
       "    </tr>\n",
       "    <tr>\n",
       "      <th>4</th>\n",
       "      <td>b80344d063b5ccb3212f76538f3d9e43d87dca9e</td>\n",
       "      <td>SODACBL12A8C13C273</td>\n",
       "      <td>1</td>\n",
       "    </tr>\n",
       "  </tbody>\n",
       "</table>\n",
       "</div>"
      ],
      "text/plain": [
       "                                    user_id             song_id  listen_count\n",
       "0  b80344d063b5ccb3212f76538f3d9e43d87dca9e  SOAKIMP12A8C130995             1\n",
       "1  b80344d063b5ccb3212f76538f3d9e43d87dca9e  SOBBMDR12A8C13253B             2\n",
       "2  b80344d063b5ccb3212f76538f3d9e43d87dca9e  SOBXHDL12A81C204C0             1\n",
       "3  b80344d063b5ccb3212f76538f3d9e43d87dca9e  SOBYHAJ12A6701BF1D             1\n",
       "4  b80344d063b5ccb3212f76538f3d9e43d87dca9e  SODACBL12A8C13C273             1"
      ]
     },
     "execution_count": 3,
     "metadata": {},
     "output_type": "execute_result"
    }
   ],
   "source": [
    "df.drop(['title','artist'],1,inplace=True)\n",
    "df.head()"
   ]
  },
  {
   "cell_type": "code",
   "execution_count": 70,
   "metadata": {
    "collapsed": false
   },
   "outputs": [],
   "source": [
    "def get_user_prefs(dataframe, user):\n",
    "    new_df =  dataframe.loc[dataframe['user_id'] == user]\n",
    "    new_df = new_df.drop('user_id',1)\n",
    "    new_df = new_df.set_index('song_id')\n",
    "    quasi_dic = new_df.to_dict()\n",
    "    dic = quasi_dic['listen_count']\n",
    "    return dic\n",
    "\n",
    "\n",
    "def sim_distance(person1,person2):\n",
    "    intersection = []\n",
    "    for item in person1:\n",
    "        if item in person2:\n",
    "            intersection.append(item)\n",
    "    if len(intersection)==0:\n",
    "        return 0\n",
    "    sum_of_squares = np.sum([(person1[item] - person2[item])**2\\\n",
    "                     for item in intersection])\n",
    "    return 1/(1+ sum_of_squares)\n",
    "\n",
    "\n",
    "def naive_pearson(person1,person2):\n",
    "    intersection = []\n",
    "    for item in person1:\n",
    "        if item in person2:\n",
    "            intersection.append(item)\n",
    "    number_of_itens = len(intersection) \n",
    "    if number_of_itens ==0:\n",
    "        return 0\n",
    "    sum1 = np.sum([person1[item] for item in intersection])/number_of_itens\n",
    "    sum2 = np.sum([person2[item] for item in intersection])/number_of_itens\n",
    "    sum1_mean = np.sum([(person1[item] - sum1)**2 for item in intersection])\n",
    "    sum2_mean = np.sum([(person2[item] - sum2)**2 for item in intersection])\n",
    "    pSum = np.sum([(person1[item]- sum1) * (person2[item]- sum2)\\\n",
    "                     for item in intersection])\n",
    "    numerator = pSum \n",
    "    denominator = np.sqrt(sum1_mean)*np.sqrt(sum2_mean)\n",
    "    if denominator == 0:\n",
    "        return 0\n",
    "    print(numerator/denominator)\n",
    "    return numerator/denominator   \n",
    "\n",
    "def sim_pearson(person1,person2):\n",
    "    person1_musics = set(person1.keys()) \n",
    "    person2_musics = set(person2.keys())\n",
    "    intersection = list(person1_musics.intersection(person2_musics))\n",
    "    number_of_itens = len(intersection)\n",
    "    if number_of_itens ==0:\n",
    "        return 0\n",
    "    sum1 = np.sum([person1[item] for item in intersection])\n",
    "    sum2 = np.sum([person2[item] for item in intersection])\n",
    "    sum1sq = np.sum([(person1[item])**2 for item in intersection])\n",
    "    sum2sq = np.sum([(person2[item])**2 for item in intersection])\n",
    "    pSum = np.sum([(person1[item] * person2[item])\\\n",
    "                     for item in intersection])\n",
    "    numerator = pSum - (sum1*sum2/number_of_itens)\n",
    "    denominator = np.sqrt( ((sum1sq - sum1**2)/number_of_itens) *\\\n",
    "                           ((sum2sq - sum2**2)/number_of_itens))\n",
    "    if denominator == 0:\n",
    "        return 0\n",
    "    print(numerator/denominator)\n",
    "    return numerator/denominator\n",
    "\n",
    "def topMatches(prefs, person, n=5, similarity=naive_pearson):\n",
    "    target_user = get_user_prefs(df,person) \n",
    "    scores = [(similarity(target_user,get_user_prefs(df,other_person)),other_person)\\\n",
    "              for other_person in prefs if other_person!= person]\n",
    "    scores.sort(reverse=True)    \n",
    "    return scores[0:n]\n",
    "\n",
    "\n",
    "def list_with_no_rep(seq):\n",
    "    seen = set()\n",
    "    seen_add = seen.add\n",
    "    return [x for x in seq if not (x in seen or seen_add(x))]\n",
    "\n",
    "def recommed_items_based_on_user(prefs,person,number_of_rec=5,n=5,similarity=naive_pearson):\n",
    "    start_time = time.time()\n",
    "    most_similar_users = [y for (x,y) in topMatches(prefs,person,n,similarity)]\n",
    "    new_films = []\n",
    "    dic_target = get_user_prefs(df,person) \n",
    "    for user in most_similar_users:\n",
    "        dic_user = get_user_prefs(df,user)\n",
    "        for item in dic_user:\n",
    "            if item not in dic_target:\n",
    "                new_films.append((dic_user[item],item))\n",
    "    \n",
    "    new_films.sort(reverse=True)\n",
    "    recomendation = list_with_no_rep([y for (x,y) in new_films])\n",
    "    duration = time.time() - start_time\n",
    "    sec = timedelta(seconds=int(duration))\n",
    "    d_time = datetime(1,1,1) + sec\n",
    "    print(\"duration:  %d:%d:%d:%d\" % (d_time.day-1, d_time.hour, d_time.minute, d_time.second), end='')\n",
    "    print(\" (DAYS:HOURS:MIN:SEC)\")        \n",
    "    if recomendation==[]:\n",
    "        return 'There is no recomendadtions for {}'.format(person)\n",
    "    return recomendation[0:number_of_rec]\n",
    "\n",
    "\n"
   ]
  },
  {
   "cell_type": "markdown",
   "metadata": {},
   "source": [
    "# Nesse caso a recomendacao baseada em usuario nao compensa"
   ]
  },
  {
   "cell_type": "code",
   "execution_count": 21,
   "metadata": {
    "collapsed": false
   },
   "outputs": [
    {
     "name": "stdout",
     "output_type": "stream",
     "text": [
      "The user target1 likes: \n",
      " [('Invincible', 'Muse'), ('Supermassive Black Hole (Twilight Soundtrack Version)', 'Muse'), ('Creep (Explicit)', 'Radiohead'), ('Let Down', 'Radiohead'), ('Bitter Sweet Symphony', 'The Verve')]\n",
      "And for him/her we recommend: \n",
      "\n",
      "duration:  0:0:0:2 (DAYS:HOURS:MIN:SEC)\n",
      "[('Old Man Time (Album Version)', 'O.A.R.'), ('Masquerade (Reality Check Album Version)', 'Reality Check'), (\"You're The One\", 'Dwight Yoakam'), ('Reign Of The Tyrants', 'Jag Panzer'), ('Numb (Album Version)', 'Disturbed')]\n",
      "And for him we recomend: \n",
      "\n"
     ]
    }
   ],
   "source": [
    "users = df['user_id'].unique()\n",
    "size = len(users)\n",
    "random1, random2 = random.sample(range(size), 2)\n",
    "randon_users = [users[i] for i in random.sample(range(size), 20)]\n",
    "target1, target2 = users[random1], users[random2] \n",
    "dft1 = df.loc[df['user_id'] == target1]\n",
    "dft1 = dft1.sort_values('listen_count',ascending=False)\n",
    "best_songs_t1 = list(map(lambda x: show_song(all_songs,x),list(dft1['song_id'])))\n",
    "if len(best_songs_t1) > 5:\n",
    "    print(\"The user target1 likes: \\n\", best_songs_t1[0:5])\n",
    "else:\n",
    "    print(\"The user target1 likes: \\n\",best_songs_t1)\n",
    "print('And for him/her we recommend: \\n')\n",
    "print(list(map(lambda x: show_song(all_songs,x),recommed_items_based_on_user(randon_users,target1))))\n",
    "print('And for him we recomend: \\n')\n",
    "\n"
   ]
  },
  {
   "cell_type": "markdown",
   "metadata": {},
   "source": [
    "# Precisamos criar o dicionario de musicas para fazer a recomendacao baseada em items que nesse caso eh bem mais factivel"
   ]
  },
  {
   "cell_type": "code",
   "execution_count": null,
   "metadata": {
    "collapsed": true
   },
   "outputs": [],
   "source": [
    "songs = df['song_id'].unique()\n",
    "\n",
    "dic_songs = {}\n",
    "\n",
    "for i,song in enumerate(songs[0:100]):\n",
    "    if i%10==0:\n",
    "        print_parm = True\n",
    "        print(\"\\n SONG:{} \".format(i),end=' ')\n",
    "    else:\n",
    "        print_parm = False\n",
    "    dic_songs.setdefault(song,{})\n",
    "    for e,user in enumerate(users[0:100]):\n",
    "        if e%10==0 and print_parm:\n",
    "            print(\"user:{} \".format(e),end=' ')\n",
    "        prefs = get_user_prefs(df,user)\n",
    "        if song in prefs.keys():\n",
    "            dic_songs[song][user] = prefs[song]\n",
    "        "
   ]
  },
  {
   "cell_type": "code",
   "execution_count": 54,
   "metadata": {
    "collapsed": false
   },
   "outputs": [
    {
     "name": "stdout",
     "output_type": "stream",
     "text": [
      "100 / 100\n",
      "{'SOUSQCN12A8C133302': [(0.5, 'SOKOXWU12AF72AD1BC'), (0.5, 'SOJNQZO12AF72AAE32'), (0.5, 'SOGEKGR12A6D4F81E8'), (0.20000000000000001, 'SOWEHOM12A6BD4E09E'), (0.20000000000000001, 'SOVEUVC12A6310EAF1'), (0.20000000000000001, 'SOMNTMT12A8C1400F6'), (0.10000000000000001, 'SOGDDKR12A6701E8FA'), (0.10000000000000001, 'SODGVGW12AC9075A8D'), (0.038461538461538464, 'SOWGXOP12A6701E93A'), (0.012195121951219513, 'SOXGQEM12AB0181D35')], 'SOJNQZO12AF72AAE32': [(0.5, 'SOWEHOM12A6BD4E09E'), (0.5, 'SOUSQCN12A8C133302'), (0.5, 'SOMNTMT12A8C1400F6'), (0.20000000000000001, 'SOKOXWU12AF72AD1BC'), (0.20000000000000001, 'SOGEKGR12A6D4F81E8'), (0.10000000000000001, 'SOVEUVC12A6310EAF1'), (0.058823529411764705, 'SOGDDKR12A6701E8FA'), (0.058823529411764705, 'SODGVGW12AC9075A8D'), (0.027027027027027029, 'SOWGXOP12A6701E93A'), (0.0099009900990099011, 'SOXGQEM12AB0181D35')], 'SODACBL12A8C13C273': [(1.0, 'SOZOBWN12A8C130999'), (1.0, 'SOXZQDE12A8C135833'), (1.0, 'SOXRXDG12A8C131DE5'), (1.0, 'SOXMIUS12A8C13CD59'), (1.0, 'SOWSPUS12AC468BEE3'), (1.0, 'SOWQLXP12AF72A08A2'), (1.0, 'SOVYIYI12A8C138D88'), (1.0, 'SOVQEYZ12A8C1379D8'), (1.0, 'SOVHRGF12A8C13852F'), (1.0, 'SOUKXIN12A8C133C7F')], 'SOBXHDL12A81C204C0': [(1.0, 'SOZOBWN12A8C130999'), (1.0, 'SOXZQDE12A8C135833'), (1.0, 'SOXRXDG12A8C131DE5'), (1.0, 'SOXMIUS12A8C13CD59'), (1.0, 'SOWSPUS12AC468BEE3'), (1.0, 'SOWQLXP12AF72A08A2'), (1.0, 'SOVYIYI12A8C138D88'), (1.0, 'SOVQEYZ12A8C1379D8'), (1.0, 'SOVHRGF12A8C13852F'), (1.0, 'SOUKXIN12A8C133C7F')], 'SODEOCO12A6701E922': [(1.0, 'SOIRRMU12A6D4FB0C0'), (1.0, 'SOBTRCD12A6701E976'), (1.0, 'SOBONKR12A58A7A7E0'), (1.0, 'SOAXGDH12A8C13F8A1'), (1.0, 'SOAUWYT12A81C206F1'), (0.5, 'SOJFYRR12AB017BF2A'), (0.5, 'SOIICEQ12A6D4F7FE0'), (0.5, 'SOFRQTD12A81C233C0'), (0.5, 'SOEGIYH12A6D4FC0E3'), (0.5, 'SODJWHY12A8C142CCE')], 'SOMGIYR12AB0187973': [(0.5, 'SOKRIMP12A6D4F5DA3'), (0.5, 'SOIZAZL12A6701C53B'), (0.5, 'SODDNQT12A6D4F5F7E'), (0.20000000000000001, 'SOYHEPA12A8C13097F'), (0.058823529411764705, 'SORZASF12A6D4F8CFA'), (0.058823529411764705, 'SOBBMDR12A8C13253B'), (0.038461538461538464, 'SOZOBWN12A8C130999'), (0.038461538461538464, 'SOXZQDE12A8C135833'), (0.038461538461538464, 'SOXRXDG12A8C131DE5'), (0.038461538461538464, 'SOXMIUS12A8C13CD59')], 'SOQFEDG12AB018DD24': [(1.0, 'SOZMJFG12AB017BDAF'), (1.0, 'SOVRZIX12AAF3B2A32'), (1.0, 'SOHRQZQ12A6D4F81D2'), (1.0, 'SOCZTMT12AF72A078E'), (1.0, 'SOCHBAJ12AAF3B3A4F'), (1.0, 'SOBDRND12A8C13FD08'), (0.5, 'SOJGMYY12AB01809BE'), (0, 'SOZOBWN12A8C130999'), (0, 'SOYHEPA12A8C13097F'), (0, 'SOXZQDE12A8C135833')], 'SOBBMDR12A8C13253B': [(1.0, 'SORZASF12A6D4F8CFA'), (0.5, 'SOZOBWN12A8C130999'), (0.5, 'SOXZQDE12A8C135833'), (0.5, 'SOXRXDG12A8C131DE5'), (0.5, 'SOXMIUS12A8C13CD59'), (0.5, 'SOWSPUS12AC468BEE3'), (0.5, 'SOWQLXP12AF72A08A2'), (0.5, 'SOVYIYI12A8C138D88'), (0.5, 'SOVQEYZ12A8C1379D8'), (0.5, 'SOVHRGF12A8C13852F')], 'SOGDDKR12A6701E8FA': [(1.0, 'SODGVGW12AC9075A8D'), (0.5, 'SOVEUVC12A6310EAF1'), (0.20000000000000001, 'SOWGXOP12A6701E93A'), (0.20000000000000001, 'SOKOXWU12AF72AD1BC'), (0.20000000000000001, 'SOGEKGR12A6D4F81E8'), (0.10000000000000001, 'SOUSQCN12A8C133302'), (0.058823529411764705, 'SOJNQZO12AF72AAE32'), (0.038461538461538464, 'SOWEHOM12A6BD4E09E'), (0.038461538461538464, 'SOMNTMT12A8C1400F6'), (0.027027027027027029, 'SOXGQEM12AB0181D35')], 'SOXZQDE12A8C135833': [(1.0, 'SOZOBWN12A8C130999'), (1.0, 'SOXRXDG12A8C131DE5'), (1.0, 'SOXMIUS12A8C13CD59'), (1.0, 'SOWSPUS12AC468BEE3'), (1.0, 'SOWQLXP12AF72A08A2'), (1.0, 'SOVYIYI12A8C138D88'), (1.0, 'SOVQEYZ12A8C1379D8'), (1.0, 'SOVHRGF12A8C13852F'), (1.0, 'SOUKXIN12A8C133C7F'), (1.0, 'SOTRSFZ12A8C142BF6')], 'SOEKGDE12AB0182795': [(0.5, 'SOFRQTD12A81C233C0'), (0.5, 'SOEGIYH12A6D4FC0E3'), (0.20000000000000001, 'SOIRRMU12A6D4FB0C0'), (0.20000000000000001, 'SODEOCO12A6701E922'), (0.20000000000000001, 'SOBTRCD12A6701E976'), (0.20000000000000001, 'SOBONKR12A58A7A7E0'), (0.20000000000000001, 'SOAXGDH12A8C13F8A1'), (0.20000000000000001, 'SOAUWYT12A81C206F1'), (0.10000000000000001, 'SOJFYRR12AB017BF2A'), (0.10000000000000001, 'SOIICEQ12A6D4F7FE0')], 'SOVQEYZ12A8C1379D8': [(1.0, 'SOZOBWN12A8C130999'), (1.0, 'SOXZQDE12A8C135833'), (1.0, 'SOXRXDG12A8C131DE5'), (1.0, 'SOXMIUS12A8C13CD59'), (1.0, 'SOWSPUS12AC468BEE3'), (1.0, 'SOWQLXP12AF72A08A2'), (1.0, 'SOVYIYI12A8C138D88'), (1.0, 'SOVHRGF12A8C13852F'), (1.0, 'SOUKXIN12A8C133C7F'), (1.0, 'SOTRSFZ12A8C142BF6')], 'SOCHBAJ12AAF3B3A4F': [(1.0, 'SOZMJFG12AB017BDAF'), (1.0, 'SOVRZIX12AAF3B2A32'), (1.0, 'SOQFEDG12AB018DD24'), (1.0, 'SOHRQZQ12A6D4F81D2'), (1.0, 'SOCZTMT12AF72A078E'), (1.0, 'SOBDRND12A8C13FD08'), (0.5, 'SOJGMYY12AB01809BE'), (0, 'SOZOBWN12A8C130999'), (0, 'SOYHEPA12A8C13097F'), (0, 'SOXZQDE12A8C135833')], 'SOPKPFW12A6D4F84BC': [(1.0, 'SOUFPNI12A8C142D19'), (1.0, 'SORPHNV12A6701CD63'), (1.0, 'SOQBMFK12A8C13835B'), (1.0, 'SOOCUXJ12A6D4F6FB7'), (1.0, 'SONQEYS12AF72AABC9'), (1.0, 'SOFXZAW12A67ADC90E'), (1.0, 'SOERVXG12A6D4F5583'), (1.0, 'SOAOQFD12A6D4FAAA9'), (0.5, 'SOXIIIM12A6D4F66C8'), (0.5, 'SOLVRLL12A67020D7F')], 'SOVRZIX12AAF3B2A32': [(1.0, 'SOZMJFG12AB017BDAF'), (1.0, 'SOQFEDG12AB018DD24'), (1.0, 'SOHRQZQ12A6D4F81D2'), (1.0, 'SOCZTMT12AF72A078E'), (1.0, 'SOCHBAJ12AAF3B3A4F'), (1.0, 'SOBDRND12A8C13FD08'), (0.5, 'SOJGMYY12AB01809BE'), (0, 'SOZOBWN12A8C130999'), (0, 'SOYHEPA12A8C13097F'), (0, 'SOXZQDE12A8C135833')], 'SOEGIYH12A6D4FC0E3': [(0.5, 'SOIRRMU12A6D4FB0C0'), (0.5, 'SOEKGDE12AB0182795'), (0.5, 'SODEOCO12A6701E922'), (0.5, 'SOBTRCD12A6701E976'), (0.5, 'SOAXGDH12A8C13F8A1'), (0.20000000000000001, 'SOJFYRR12AB017BF2A'), (0.20000000000000001, 'SOIICEQ12A6D4F7FE0'), (0.20000000000000001, 'SODJWHY12A8C142CCE'), (0.20000000000000001, 'SOBFMHC12A6D4F9401'), (0.16666666666666666, 'SOFRQTD12A81C233C0')], 'SOVHVBJ12A58A7AB0A': [(1.0, 'SOJQOIK12AF72A0AAF'), (0, 'SOZOBWN12A8C130999'), (0, 'SOZMJFG12AB017BDAF'), (0, 'SOYHEPA12A8C13097F'), (0, 'SOXZQDE12A8C135833'), (0, 'SOXRXDG12A8C131DE5'), (0, 'SOXMIUS12A8C13CD59'), (0, 'SOXIIIM12A6D4F66C8'), (0, 'SOXHIDK12A58A7CFB3'), (0, 'SOXGQEM12AB0181D35')], 'SOXGQEM12AB0181D35': [(1.0, 'SOUFPNI12A8C142D19'), (1.0, 'SODXRTY12AB0180F3B'), (1.0, 'SODJWHY12A8C142CCE'), (0.5, 'SOFRQTD12A81C233C0'), (0.5, 'SOEPZQS12A8C1436C7'), (0.5, 'SOAXGDH12A8C13F8A1'), (0.058823529411764705, 'SOWGXOP12A6701E93A'), (0.027027027027027029, 'SOWPAXV12A67ADA046'), (0.027027027027027029, 'SOGDDKR12A6701E8FA'), (0.027027027027027029, 'SODGVGW12AC9075A8D')], 'SOKOXWU12AF72AD1BC': [(1.0, 'SOGEKGR12A6D4F81E8'), (0.5, 'SOVEUVC12A6310EAF1'), (0.5, 'SOUSQCN12A8C133302'), (0.20000000000000001, 'SOJNQZO12AF72AAE32'), (0.20000000000000001, 'SOGDDKR12A6701E8FA'), (0.20000000000000001, 'SODGVGW12AC9075A8D'), (0.10000000000000001, 'SOWEHOM12A6BD4E09E'), (0.10000000000000001, 'SOMNTMT12A8C1400F6'), (0.058823529411764705, 'SOWGXOP12A6701E93A'), (0.015384615384615385, 'SOXGQEM12AB0181D35')], 'SOTLVCL12AB0182D22': [(1.0, 'SOZOBWN12A8C130999'), (1.0, 'SOXZQDE12A8C135833'), (1.0, 'SOXRXDG12A8C131DE5'), (1.0, 'SOXMIUS12A8C13CD59'), (1.0, 'SOWSPUS12AC468BEE3'), (1.0, 'SOWQLXP12AF72A08A2'), (1.0, 'SOVYIYI12A8C138D88'), (1.0, 'SOVQEYZ12A8C1379D8'), (1.0, 'SOVHRGF12A8C13852F'), (1.0, 'SOUKXIN12A8C133C7F')], 'SOHQWYZ12A6D4FA701': [(1.0, 'SOZOBWN12A8C130999'), (1.0, 'SOXZQDE12A8C135833'), (1.0, 'SOXRXDG12A8C131DE5'), (1.0, 'SOXMIUS12A8C13CD59'), (1.0, 'SOWSPUS12AC468BEE3'), (1.0, 'SOWQLXP12AF72A08A2'), (1.0, 'SOVYIYI12A8C138D88'), (1.0, 'SOVQEYZ12A8C1379D8'), (1.0, 'SOVHRGF12A8C13852F'), (1.0, 'SOUKXIN12A8C133C7F')], 'SODJTHN12AF72A8FCD': [(0, 'SOZOBWN12A8C130999'), (0, 'SOZMJFG12AB017BDAF'), (0, 'SOYHEPA12A8C13097F'), (0, 'SOXZQDE12A8C135833'), (0, 'SOXRXDG12A8C131DE5'), (0, 'SOXMIUS12A8C13CD59'), (0, 'SOXIIIM12A6D4F66C8'), (0, 'SOXHIDK12A58A7CFB3'), (0, 'SOXGQEM12AB0181D35'), (0, 'SOWSPUS12AC468BEE3')], 'SOPXRQT12A6701EAC9': [(1.0, 'SOBFPJC12A58A7D1AB'), (0.5, 'SOXHIDK12A58A7CFB3'), (0.5, 'SONZWDK12A6701F62B'), (0.10000000000000001, 'SOGFUFC12A8C13F1E5'), (0.02, 'SOXIIIM12A6D4F66C8'), (0.02, 'SOLVRLL12A67020D7F'), (0.02, 'SODCNJX12A6D4F93CB'), (0.02, 'SOBZZDU12A6310D8A3'), (0.02, 'SOABRAB12A6D4F7AAF'), (0.015384615384615385, 'SOUFPNI12A8C142D19')], 'SOVEUVC12A6310EAF1': [(0.5, 'SOKOXWU12AF72AD1BC'), (0.5, 'SOGEKGR12A6D4F81E8'), (0.5, 'SOGDDKR12A6701E8FA'), (0.5, 'SODGVGW12AC9075A8D'), (0.20000000000000001, 'SOUSQCN12A8C133302'), (0.10000000000000001, 'SOWGXOP12A6701E93A'), (0.10000000000000001, 'SOJNQZO12AF72AAE32'), (0.058823529411764705, 'SOWEHOM12A6BD4E09E'), (0.058823529411764705, 'SOMNTMT12A8C1400F6'), (0.02, 'SOXGQEM12AB0181D35')], 'SOBZZDU12A6310D8A3': [(1.0, 'SOXIIIM12A6D4F66C8'), (1.0, 'SOLVRLL12A67020D7F'), (1.0, 'SODCNJX12A6D4F93CB'), (1.0, 'SOABRAB12A6D4F7AAF'), (0.5, 'SOUFPNI12A8C142D19'), (0.5, 'SORPHNV12A6701CD63'), (0.5, 'SOQBMFK12A8C13835B'), (0.5, 'SOPKPFW12A6D4F84BC'), (0.5, 'SOOCUXJ12A6D4F6FB7'), (0.5, 'SONQEYS12AF72AABC9')], 'SOEPZQS12A8C1436C7': [(0.5, 'SOXGQEM12AB0181D35'), (0.038461538461538464, 'SOWPAXV12A67ADA046'), (0.038461538461538464, 'SOWGXOP12A6701E93A'), (0.02, 'SOGDDKR12A6701E8FA'), (0.02, 'SODGVGW12AC9075A8D'), (0.015384615384615385, 'SOVEUVC12A6310EAF1'), (0.012195121951219513, 'SOKOXWU12AF72AD1BC'), (0.012195121951219513, 'SOGEKGR12A6D4F81E8'), (0.0099009900990099011, 'SOUSQCN12A8C133302'), (0.0081967213114754103, 'SOJNQZO12AF72AAE32')], 'SOYHEPA12A8C13097F': [(0.20000000000000001, 'SOMGIYR12AB0187973'), (0.10000000000000001, 'SOKRIMP12A6D4F5DA3'), (0.10000000000000001, 'SOIZAZL12A6701C53B'), (0.10000000000000001, 'SODDNQT12A6D4F5F7E'), (0.027027027027027029, 'SORZASF12A6D4F8CFA'), (0.027027027027027029, 'SOBBMDR12A8C13253B'), (0.02, 'SOZOBWN12A8C130999'), (0.02, 'SOXZQDE12A8C135833'), (0.02, 'SOXRXDG12A8C131DE5'), (0.02, 'SOXMIUS12A8C13CD59')], 'SOFRQTD12A81C233C0': [(1.0, 'SOZOBWN12A8C130999'), (1.0, 'SOXZQDE12A8C135833'), (1.0, 'SOXRXDG12A8C131DE5'), (1.0, 'SOXMIUS12A8C13CD59'), (1.0, 'SOWQLXP12AF72A08A2'), (1.0, 'SOVQEYZ12A8C1379D8'), (1.0, 'SOVHRGF12A8C13852F'), (1.0, 'SOUKXIN12A8C133C7F'), (1.0, 'SOTLVCL12AB0182D22'), (1.0, 'SOTFATN12A6D4FA74D')], 'SOIYTOA12A6D4F9A23': [(1.0, 'SOZOBWN12A8C130999'), (1.0, 'SOXZQDE12A8C135833'), (1.0, 'SOXRXDG12A8C131DE5'), (1.0, 'SOXMIUS12A8C13CD59'), (1.0, 'SOWSPUS12AC468BEE3'), (1.0, 'SOWQLXP12AF72A08A2'), (1.0, 'SOVYIYI12A8C138D88'), (1.0, 'SOVQEYZ12A8C1379D8'), (1.0, 'SOVHRGF12A8C13852F'), (1.0, 'SOUKXIN12A8C133C7F')], 'SOJFYRR12AB017BF2A': [(1.0, 'SOIICEQ12A6D4F7FE0'), (1.0, 'SODJWHY12A8C142CCE'), (1.0, 'SOBFMHC12A6D4F9401'), (0.5, 'SOIRRMU12A6D4FB0C0'), (0.5, 'SODEOCO12A6701E922'), (0.5, 'SOBTRCD12A6701E976'), (0.5, 'SOBONKR12A58A7A7E0'), (0.5, 'SOAXGDH12A8C13F8A1'), (0.5, 'SOAUWYT12A81C206F1'), (0.20000000000000001, 'SOFRQTD12A81C233C0')], 'SOJPFQG12A58A7833A': [(1.0, 'SOZOBWN12A8C130999'), (1.0, 'SOXZQDE12A8C135833'), (1.0, 'SOXRXDG12A8C131DE5'), (1.0, 'SOXMIUS12A8C13CD59'), (1.0, 'SOWSPUS12AC468BEE3'), (1.0, 'SOWQLXP12AF72A08A2'), (1.0, 'SOVYIYI12A8C138D88'), (1.0, 'SOVQEYZ12A8C1379D8'), (1.0, 'SOVHRGF12A8C13852F'), (1.0, 'SOUKXIN12A8C133C7F')], 'SOUFPNI12A8C142D19': [(1.0, 'SOXGQEM12AB0181D35'), (1.0, 'SORPHNV12A6701CD63'), (1.0, 'SOQBMFK12A8C13835B'), (1.0, 'SOPKPFW12A6D4F84BC'), (1.0, 'SOOCUXJ12A6D4F6FB7'), (1.0, 'SONQEYS12AF72AABC9'), (1.0, 'SOFXZAW12A67ADC90E'), (1.0, 'SOERVXG12A6D4F5583'), (1.0, 'SODXRTY12AB0180F3B'), (1.0, 'SODJWHY12A8C142CCE')], 'SOZOBWN12A8C130999': [(1.0, 'SOXZQDE12A8C135833'), (1.0, 'SOXRXDG12A8C131DE5'), (1.0, 'SOXMIUS12A8C13CD59'), (1.0, 'SOWSPUS12AC468BEE3'), (1.0, 'SOWQLXP12AF72A08A2'), (1.0, 'SOVYIYI12A8C138D88'), (1.0, 'SOVQEYZ12A8C1379D8'), (1.0, 'SOVHRGF12A8C13852F'), (1.0, 'SOUKXIN12A8C133C7F'), (1.0, 'SOTRSFZ12A8C142BF6')], 'SOBFPJC12A58A7D1AB': [(1.0, 'SOPXRQT12A6701EAC9'), (0.5, 'SOXHIDK12A58A7CFB3'), (0.5, 'SONZWDK12A6701F62B'), (0.10000000000000001, 'SOGFUFC12A8C13F1E5'), (0.02, 'SOXIIIM12A6D4F66C8'), (0.02, 'SOLVRLL12A67020D7F'), (0.02, 'SODCNJX12A6D4F93CB'), (0.02, 'SOBZZDU12A6310D8A3'), (0.02, 'SOABRAB12A6D4F7AAF'), (0.015384615384615385, 'SOUFPNI12A8C142D19')], 'SOQIVUD12AB01821D2': [(1.0, 'SOZOBWN12A8C130999'), (1.0, 'SOXZQDE12A8C135833'), (1.0, 'SOXRXDG12A8C131DE5'), (1.0, 'SOXMIUS12A8C13CD59'), (1.0, 'SOWSPUS12AC468BEE3'), (1.0, 'SOWQLXP12AF72A08A2'), (1.0, 'SOVYIYI12A8C138D88'), (1.0, 'SOVQEYZ12A8C1379D8'), (1.0, 'SOVHRGF12A8C13852F'), (1.0, 'SOUKXIN12A8C133C7F')], 'SOBDRND12A8C13FD08': [(1.0, 'SOZMJFG12AB017BDAF'), (1.0, 'SOVRZIX12AAF3B2A32'), (1.0, 'SOQFEDG12AB018DD24'), (1.0, 'SOHRQZQ12A6D4F81D2'), (1.0, 'SOCZTMT12AF72A078E'), (1.0, 'SOCHBAJ12AAF3B3A4F'), (0.5, 'SOJGMYY12AB01809BE'), (0, 'SOZOBWN12A8C130999'), (0, 'SOYHEPA12A8C13097F'), (0, 'SOXZQDE12A8C135833')], 'SORWLTW12A670208FA': [(1.0, 'SOZOBWN12A8C130999'), (1.0, 'SOXZQDE12A8C135833'), (1.0, 'SOXRXDG12A8C131DE5'), (1.0, 'SOXMIUS12A8C13CD59'), (1.0, 'SOWSPUS12AC468BEE3'), (1.0, 'SOWQLXP12AF72A08A2'), (1.0, 'SOVYIYI12A8C138D88'), (1.0, 'SOVQEYZ12A8C1379D8'), (1.0, 'SOVHRGF12A8C13852F'), (1.0, 'SOUKXIN12A8C133C7F')], 'SOCZTMT12AF72A078E': [(1.0, 'SOZMJFG12AB017BDAF'), (1.0, 'SOVRZIX12AAF3B2A32'), (1.0, 'SOQFEDG12AB018DD24'), (1.0, 'SOHRQZQ12A6D4F81D2'), (1.0, 'SOCHBAJ12AAF3B3A4F'), (1.0, 'SOBDRND12A8C13FD08'), (0.5, 'SOJGMYY12AB01809BE'), (0, 'SOZOBWN12A8C130999'), (0, 'SOYHEPA12A8C13097F'), (0, 'SOXZQDE12A8C135833')], 'SOWSPUS12AC468BEE3': [(1.0, 'SOZOBWN12A8C130999'), (1.0, 'SOXZQDE12A8C135833'), (1.0, 'SOXRXDG12A8C131DE5'), (1.0, 'SOXMIUS12A8C13CD59'), (1.0, 'SOWQLXP12AF72A08A2'), (1.0, 'SOVYIYI12A8C138D88'), (1.0, 'SOVQEYZ12A8C1379D8'), (1.0, 'SOVHRGF12A8C13852F'), (1.0, 'SOUKXIN12A8C133C7F'), (1.0, 'SOTRSFZ12A8C142BF6')], 'SOXHIDK12A58A7CFB3': [(1.0, 'SONZWDK12A6701F62B'), (0.5, 'SOPXRQT12A6701EAC9'), (0.5, 'SOBFPJC12A58A7D1AB'), (0.058823529411764705, 'SOGFUFC12A8C13F1E5'), (0.015384615384615385, 'SOXIIIM12A6D4F66C8'), (0.015384615384615385, 'SOLVRLL12A67020D7F'), (0.015384615384615385, 'SODCNJX12A6D4F93CB'), (0.015384615384615385, 'SOBZZDU12A6310D8A3'), (0.015384615384615385, 'SOABRAB12A6D4F7AAF'), (0.012195121951219513, 'SOUFPNI12A8C142D19')], 'SODCNJX12A6D4F93CB': [(1.0, 'SOXIIIM12A6D4F66C8'), (1.0, 'SOLVRLL12A67020D7F'), (1.0, 'SOFRQTD12A81C233C0'), (1.0, 'SOBZZDU12A6310D8A3'), (1.0, 'SOABRAB12A6D4F7AAF'), (0.5, 'SOUFPNI12A8C142D19'), (0.5, 'SORPHNV12A6701CD63'), (0.5, 'SOQBMFK12A8C13835B'), (0.5, 'SOPKPFW12A6D4F84BC'), (0.5, 'SOOCUXJ12A6D4F6FB7')], 'SODGVGW12AC9075A8D': [(1.0, 'SOUFPNI12A8C142D19'), (1.0, 'SOGDDKR12A6701E8FA'), (1.0, 'SODXRTY12AB0180F3B'), (1.0, 'SODJWHY12A8C142CCE'), (0.5, 'SOVEUVC12A6310EAF1'), (0.20000000000000001, 'SOWGXOP12A6701E93A'), (0.20000000000000001, 'SOKOXWU12AF72AD1BC'), (0.20000000000000001, 'SOGEKGR12A6D4F81E8'), (0.20000000000000001, 'SOBONKR12A58A7A7E0'), (0.10000000000000001, 'SOUSQCN12A8C133302')], 'SOABRAB12A6D4F7AAF': [(1.0, 'SOXIIIM12A6D4F66C8'), (1.0, 'SOLVRLL12A67020D7F'), (1.0, 'SODCNJX12A6D4F93CB'), (1.0, 'SOBZZDU12A6310D8A3'), (0.5, 'SOUFPNI12A8C142D19'), (0.5, 'SORPHNV12A6701CD63'), (0.5, 'SOQBMFK12A8C13835B'), (0.5, 'SOPKPFW12A6D4F84BC'), (0.5, 'SOOCUXJ12A6D4F6FB7'), (0.5, 'SONQEYS12AF72AABC9')], 'SORZASF12A6D4F8CFA': [(1.0, 'SOBBMDR12A8C13253B'), (0.5, 'SOZOBWN12A8C130999'), (0.5, 'SOXZQDE12A8C135833'), (0.5, 'SOXRXDG12A8C131DE5'), (0.5, 'SOXMIUS12A8C13CD59'), (0.5, 'SOWSPUS12AC468BEE3'), (0.5, 'SOWQLXP12AF72A08A2'), (0.5, 'SOVYIYI12A8C138D88'), (0.5, 'SOVQEYZ12A8C1379D8'), (0.5, 'SOVHRGF12A8C13852F')], 'SOTFATN12A6D4FA74D': [(1.0, 'SOZOBWN12A8C130999'), (1.0, 'SOXZQDE12A8C135833'), (1.0, 'SOXRXDG12A8C131DE5'), (1.0, 'SOXMIUS12A8C13CD59'), (1.0, 'SOWSPUS12AC468BEE3'), (1.0, 'SOWQLXP12AF72A08A2'), (1.0, 'SOVYIYI12A8C138D88'), (1.0, 'SOVQEYZ12A8C1379D8'), (1.0, 'SOVHRGF12A8C13852F'), (1.0, 'SOUKXIN12A8C133C7F')], 'SOXRXDG12A8C131DE5': [(1.0, 'SOZOBWN12A8C130999'), (1.0, 'SOXZQDE12A8C135833'), (1.0, 'SOXMIUS12A8C13CD59'), (1.0, 'SOWSPUS12AC468BEE3'), (1.0, 'SOWQLXP12AF72A08A2'), (1.0, 'SOVYIYI12A8C138D88'), (1.0, 'SOVQEYZ12A8C1379D8'), (1.0, 'SOVHRGF12A8C13852F'), (1.0, 'SOUKXIN12A8C133C7F'), (1.0, 'SOTRSFZ12A8C142BF6')], 'SOQBMFK12A8C13835B': [(1.0, 'SOUFPNI12A8C142D19'), (1.0, 'SORPHNV12A6701CD63'), (1.0, 'SOPKPFW12A6D4F84BC'), (1.0, 'SOOCUXJ12A6D4F6FB7'), (1.0, 'SONQEYS12AF72AABC9'), (1.0, 'SOFXZAW12A67ADC90E'), (1.0, 'SOERVXG12A6D4F5583'), (1.0, 'SOAOQFD12A6D4FAAA9'), (0.5, 'SOXIIIM12A6D4F66C8'), (0.5, 'SOLVRLL12A67020D7F')], 'SOGFUFC12A8C13F1E5': [(0.10000000000000001, 'SOPXRQT12A6701EAC9'), (0.10000000000000001, 'SOBFPJC12A58A7D1AB'), (0.058823529411764705, 'SOXIIIM12A6D4F66C8'), (0.058823529411764705, 'SOXHIDK12A58A7CFB3'), (0.058823529411764705, 'SONZWDK12A6701F62B'), (0.058823529411764705, 'SOLVRLL12A67020D7F'), (0.058823529411764705, 'SODCNJX12A6D4F93CB'), (0.058823529411764705, 'SOBZZDU12A6310D8A3'), (0.058823529411764705, 'SOABRAB12A6D4F7AAF'), (0.038461538461538464, 'SOUFPNI12A8C142D19')], 'SOWPAXV12A67ADA046': [(0.038461538461538464, 'SOEPZQS12A8C1436C7'), (0.027027027027027029, 'SOXGQEM12AB0181D35'), (0.0099009900990099011, 'SOWGXOP12A6701E93A'), (0.0068965517241379309, 'SOGDDKR12A6701E8FA'), (0.0068965517241379309, 'SODGVGW12AC9075A8D'), (0.0058823529411764705, 'SOVEUVC12A6310EAF1'), (0.005076142131979695, 'SOKOXWU12AF72AD1BC'), (0.005076142131979695, 'SOGEKGR12A6D4F81E8'), (0.0044247787610619468, 'SOUSQCN12A8C133302'), (0.0038910505836575876, 'SOJNQZO12AF72AAE32')], 'SOLVRLL12A67020D7F': [(1.0, 'SOXIIIM12A6D4F66C8'), (1.0, 'SODCNJX12A6D4F93CB'), (1.0, 'SOBZZDU12A6310D8A3'), (1.0, 'SOABRAB12A6D4F7AAF'), (0.5, 'SOUFPNI12A8C142D19'), (0.5, 'SORPHNV12A6701CD63'), (0.5, 'SOQBMFK12A8C13835B'), (0.5, 'SOPKPFW12A6D4F84BC'), (0.5, 'SOOCUXJ12A6D4F6FB7'), (0.5, 'SONQEYS12AF72AABC9')], 'SORQHCG12A58A7EEBA': [(1.0, 'SOZOBWN12A8C130999'), (1.0, 'SOXZQDE12A8C135833'), (1.0, 'SOXRXDG12A8C131DE5'), (1.0, 'SOXMIUS12A8C13CD59'), (1.0, 'SOWSPUS12AC468BEE3'), (1.0, 'SOWQLXP12AF72A08A2'), (1.0, 'SOVYIYI12A8C138D88'), (1.0, 'SOVQEYZ12A8C1379D8'), (1.0, 'SOVHRGF12A8C13852F'), (1.0, 'SOUKXIN12A8C133C7F')], 'SOIRRMU12A6D4FB0C0': [(1.0, 'SODEOCO12A6701E922'), (1.0, 'SOBTRCD12A6701E976'), (1.0, 'SOBONKR12A58A7A7E0'), (1.0, 'SOAXGDH12A8C13F8A1'), (1.0, 'SOAUWYT12A81C206F1'), (0.5, 'SOJFYRR12AB017BF2A'), (0.5, 'SOIICEQ12A6D4F7FE0'), (0.5, 'SOFRQTD12A81C233C0'), (0.5, 'SOEGIYH12A6D4FC0E3'), (0.5, 'SODJWHY12A8C142CCE')], 'SOZMJFG12AB017BDAF': [(1.0, 'SOVRZIX12AAF3B2A32'), (1.0, 'SOQFEDG12AB018DD24'), (1.0, 'SOHRQZQ12A6D4F81D2'), (1.0, 'SOCZTMT12AF72A078E'), (1.0, 'SOCHBAJ12AAF3B3A4F'), (1.0, 'SOBDRND12A8C13FD08'), (0.5, 'SOJGMYY12AB01809BE'), (0, 'SOZOBWN12A8C130999'), (0, 'SOYHEPA12A8C13097F'), (0, 'SOXZQDE12A8C135833')], 'SOFXZAW12A67ADC90E': [(1.0, 'SOUFPNI12A8C142D19'), (1.0, 'SORPHNV12A6701CD63'), (1.0, 'SOQBMFK12A8C13835B'), (1.0, 'SOPKPFW12A6D4F84BC'), (1.0, 'SOOCUXJ12A6D4F6FB7'), (1.0, 'SONQEYS12AF72AABC9'), (1.0, 'SOERVXG12A6D4F5583'), (1.0, 'SOAOQFD12A6D4FAAA9'), (0.5, 'SOXIIIM12A6D4F66C8'), (0.5, 'SOLVRLL12A67020D7F')], 'SONQEYS12AF72AABC9': [(1.0, 'SOUFPNI12A8C142D19'), (1.0, 'SORPHNV12A6701CD63'), (1.0, 'SOQBMFK12A8C13835B'), (1.0, 'SOPKPFW12A6D4F84BC'), (1.0, 'SOOCUXJ12A6D4F6FB7'), (1.0, 'SOFXZAW12A67ADC90E'), (1.0, 'SOERVXG12A6D4F5583'), (1.0, 'SOAOQFD12A6D4FAAA9'), (0.5, 'SOXIIIM12A6D4F66C8'), (0.5, 'SOLVRLL12A67020D7F')], 'SODJWHY12A8C142CCE': [(1.0, 'SOXGQEM12AB0181D35'), (1.0, 'SOUFPNI12A8C142D19'), (1.0, 'SOJFYRR12AB017BF2A'), (1.0, 'SOIICEQ12A6D4F7FE0'), (1.0, 'SODXRTY12AB0180F3B'), (1.0, 'SODGVGW12AC9075A8D'), (1.0, 'SOBFMHC12A6D4F9401'), (0.5, 'SOIRRMU12A6D4FB0C0'), (0.5, 'SODEOCO12A6701E922'), (0.5, 'SOBTRCD12A6701E976')], 'SOMLMKI12A81C204BC': [(1.0, 'SOZOBWN12A8C130999'), (1.0, 'SOXZQDE12A8C135833'), (1.0, 'SOXRXDG12A8C131DE5'), (1.0, 'SOXMIUS12A8C13CD59'), (1.0, 'SOWSPUS12AC468BEE3'), (1.0, 'SOWQLXP12AF72A08A2'), (1.0, 'SOVYIYI12A8C138D88'), (1.0, 'SOVQEYZ12A8C1379D8'), (1.0, 'SOVHRGF12A8C13852F'), (1.0, 'SOUKXIN12A8C133C7F')], 'SOJNNUA12A8AE48C7A': [(1.0, 'SOZOBWN12A8C130999'), (1.0, 'SOXZQDE12A8C135833'), (1.0, 'SOXRXDG12A8C131DE5'), (1.0, 'SOXMIUS12A8C13CD59'), (1.0, 'SOWSPUS12AC468BEE3'), (1.0, 'SOWQLXP12AF72A08A2'), (1.0, 'SOVYIYI12A8C138D88'), (1.0, 'SOVQEYZ12A8C1379D8'), (1.0, 'SOVHRGF12A8C13852F'), (1.0, 'SOUKXIN12A8C133C7F')], 'SOJGMYY12AB01809BE': [(0.5, 'SOZMJFG12AB017BDAF'), (0.5, 'SOVRZIX12AAF3B2A32'), (0.5, 'SOQFEDG12AB018DD24'), (0.5, 'SOHRQZQ12A6D4F81D2'), (0.5, 'SOCZTMT12AF72A078E'), (0.5, 'SOCHBAJ12AAF3B3A4F'), (0.5, 'SOBDRND12A8C13FD08'), (0, 'SOZOBWN12A8C130999'), (0, 'SOYHEPA12A8C13097F'), (0, 'SOXZQDE12A8C135833')], 'SOIZAZL12A6701C53B': [(1.0, 'SOKRIMP12A6D4F5DA3'), (1.0, 'SODDNQT12A6D4F5F7E'), (0.5, 'SOMGIYR12AB0187973'), (0.10000000000000001, 'SOYHEPA12A8C13097F'), (0.10000000000000001, 'SORZASF12A6D4F8CFA'), (0.10000000000000001, 'SOBBMDR12A8C13253B'), (0.058823529411764705, 'SOZOBWN12A8C130999'), (0.058823529411764705, 'SOXZQDE12A8C135833'), (0.058823529411764705, 'SOXRXDG12A8C131DE5'), (0.058823529411764705, 'SOXMIUS12A8C13CD59')], 'SOAUWYT12A81C206F1': [(1.0, 'SOIRRMU12A6D4FB0C0'), (1.0, 'SODEOCO12A6701E922'), (1.0, 'SOBTRCD12A6701E976'), (0.5, 'SOJQOIK12AF72A0AAF'), (0.5, 'SOJFYRR12AB017BF2A'), (0.5, 'SOIICEQ12A6D4F7FE0'), (0.5, 'SODJWHY12A8C142CCE'), (0.5, 'SOBFMHC12A6D4F9401'), (0.20000000000000001, 'SOEKGDE12AB0182795'), (0.10000000000000001, 'SOAXGDH12A8C13F8A1')], 'SOVYIYI12A8C138D88': [(1.0, 'SOZOBWN12A8C130999'), (1.0, 'SOXZQDE12A8C135833'), (1.0, 'SOXRXDG12A8C131DE5'), (1.0, 'SOXMIUS12A8C13CD59'), (1.0, 'SOWSPUS12AC468BEE3'), (1.0, 'SOWQLXP12AF72A08A2'), (1.0, 'SOVQEYZ12A8C1379D8'), (1.0, 'SOVHRGF12A8C13852F'), (1.0, 'SOUKXIN12A8C133C7F'), (1.0, 'SOTLVCL12AB0182D22')], 'SOQLCKR12A81C22440': [(1.0, 'SOZOBWN12A8C130999'), (1.0, 'SOXZQDE12A8C135833'), (1.0, 'SOXRXDG12A8C131DE5'), (1.0, 'SOXMIUS12A8C13CD59'), (1.0, 'SOWSPUS12AC468BEE3'), (1.0, 'SOWQLXP12AF72A08A2'), (1.0, 'SOVYIYI12A8C138D88'), (1.0, 'SOVQEYZ12A8C1379D8'), (1.0, 'SOVHRGF12A8C13852F'), (1.0, 'SOUKXIN12A8C133C7F')], 'SOUKXIN12A8C133C7F': [(1.0, 'SOZOBWN12A8C130999'), (1.0, 'SOXZQDE12A8C135833'), (1.0, 'SOXRXDG12A8C131DE5'), (1.0, 'SOXMIUS12A8C13CD59'), (1.0, 'SOWSPUS12AC468BEE3'), (1.0, 'SOWQLXP12AF72A08A2'), (1.0, 'SOVYIYI12A8C138D88'), (1.0, 'SOVQEYZ12A8C1379D8'), (1.0, 'SOVHRGF12A8C13852F'), (1.0, 'SOTRSFZ12A8C142BF6')], 'SOERVXG12A6D4F5583': [(1.0, 'SOUFPNI12A8C142D19'), (1.0, 'SORPHNV12A6701CD63'), (1.0, 'SOQBMFK12A8C13835B'), (1.0, 'SOPKPFW12A6D4F84BC'), (1.0, 'SOOCUXJ12A6D4F6FB7'), (1.0, 'SONQEYS12AF72AABC9'), (1.0, 'SOFXZAW12A67ADC90E'), (1.0, 'SOAOQFD12A6D4FAAA9'), (0.5, 'SOXIIIM12A6D4F66C8'), (0.5, 'SOLVRLL12A67020D7F')], 'SOMSQJY12A8C138539': [(1.0, 'SOZOBWN12A8C130999'), (1.0, 'SOXZQDE12A8C135833'), (1.0, 'SOXRXDG12A8C131DE5'), (1.0, 'SOXMIUS12A8C13CD59'), (1.0, 'SOWSPUS12AC468BEE3'), (1.0, 'SOWQLXP12AF72A08A2'), (1.0, 'SOVYIYI12A8C138D88'), (1.0, 'SOVQEYZ12A8C1379D8'), (1.0, 'SOVHRGF12A8C13852F'), (1.0, 'SOUKXIN12A8C133C7F')], 'SOOCUXJ12A6D4F6FB7': [(1.0, 'SOUFPNI12A8C142D19'), (1.0, 'SORPHNV12A6701CD63'), (1.0, 'SOQBMFK12A8C13835B'), (1.0, 'SOPKPFW12A6D4F84BC'), (1.0, 'SONQEYS12AF72AABC9'), (1.0, 'SOFXZAW12A67ADC90E'), (1.0, 'SOERVXG12A6D4F5583'), (1.0, 'SOAOQFD12A6D4FAAA9'), (0.5, 'SOXIIIM12A6D4F66C8'), (0.5, 'SOLVRLL12A67020D7F')], 'SORUFVF12AB018230B': [(1.0, 'SOZOBWN12A8C130999'), (1.0, 'SOXZQDE12A8C135833'), (1.0, 'SOXRXDG12A8C131DE5'), (1.0, 'SOXMIUS12A8C13CD59'), (1.0, 'SOWSPUS12AC468BEE3'), (1.0, 'SOWQLXP12AF72A08A2'), (1.0, 'SOVYIYI12A8C138D88'), (1.0, 'SOVQEYZ12A8C1379D8'), (1.0, 'SOVHRGF12A8C13852F'), (1.0, 'SOUKXIN12A8C133C7F')], 'SOPCVQE12AC468AF36': [(1.0, 'SOZOBWN12A8C130999'), (1.0, 'SOXZQDE12A8C135833'), (1.0, 'SOXRXDG12A8C131DE5'), (1.0, 'SOXMIUS12A8C13CD59'), (1.0, 'SOWSPUS12AC468BEE3'), (1.0, 'SOWQLXP12AF72A08A2'), (1.0, 'SOVYIYI12A8C138D88'), (1.0, 'SOVQEYZ12A8C1379D8'), (1.0, 'SOVHRGF12A8C13852F'), (1.0, 'SOUKXIN12A8C133C7F')], 'SOQJLDY12AAF3B456D': [(1.0, 'SOZOBWN12A8C130999'), (1.0, 'SOXZQDE12A8C135833'), (1.0, 'SOXRXDG12A8C131DE5'), (1.0, 'SOXMIUS12A8C13CD59'), (1.0, 'SOWSPUS12AC468BEE3'), (1.0, 'SOWQLXP12AF72A08A2'), (1.0, 'SOVYIYI12A8C138D88'), (1.0, 'SOVQEYZ12A8C1379D8'), (1.0, 'SOVHRGF12A8C13852F'), (1.0, 'SOUKXIN12A8C133C7F')], 'SONZWDK12A6701F62B': [(1.0, 'SOXHIDK12A58A7CFB3'), (0.5, 'SOPXRQT12A6701EAC9'), (0.5, 'SOBFPJC12A58A7D1AB'), (0.058823529411764705, 'SOGFUFC12A8C13F1E5'), (0.015384615384615385, 'SOXIIIM12A6D4F66C8'), (0.015384615384615385, 'SOLVRLL12A67020D7F'), (0.015384615384615385, 'SODCNJX12A6D4F93CB'), (0.015384615384615385, 'SOBZZDU12A6310D8A3'), (0.015384615384615385, 'SOABRAB12A6D4F7AAF'), (0.012195121951219513, 'SOUFPNI12A8C142D19')], 'SORPHNV12A6701CD63': [(1.0, 'SOUFPNI12A8C142D19'), (1.0, 'SOQBMFK12A8C13835B'), (1.0, 'SOPKPFW12A6D4F84BC'), (1.0, 'SOOCUXJ12A6D4F6FB7'), (1.0, 'SONQEYS12AF72AABC9'), (1.0, 'SOFXZAW12A67ADC90E'), (1.0, 'SOERVXG12A6D4F5583'), (1.0, 'SOAOQFD12A6D4FAAA9'), (0.5, 'SOXIIIM12A6D4F66C8'), (0.5, 'SOLVRLL12A67020D7F')], 'SOXIIIM12A6D4F66C8': [(1.0, 'SOLVRLL12A67020D7F'), (1.0, 'SODCNJX12A6D4F93CB'), (1.0, 'SOBZZDU12A6310D8A3'), (1.0, 'SOABRAB12A6D4F7AAF'), (0.5, 'SOUFPNI12A8C142D19'), (0.5, 'SORPHNV12A6701CD63'), (0.5, 'SOQBMFK12A8C13835B'), (0.5, 'SOPKPFW12A6D4F84BC'), (0.5, 'SOOCUXJ12A6D4F6FB7'), (0.5, 'SONQEYS12AF72AABC9')], 'SOBTRCD12A6701E976': [(1.0, 'SOIRRMU12A6D4FB0C0'), (1.0, 'SODEOCO12A6701E922'), (1.0, 'SOBONKR12A58A7A7E0'), (1.0, 'SOAXGDH12A8C13F8A1'), (1.0, 'SOAUWYT12A81C206F1'), (0.5, 'SOJFYRR12AB017BF2A'), (0.5, 'SOIICEQ12A6D4F7FE0'), (0.5, 'SOFRQTD12A81C233C0'), (0.5, 'SOEGIYH12A6D4FC0E3'), (0.5, 'SODJWHY12A8C142CCE')], 'SOBYHAJ12A6701BF1D': [(1.0, 'SOZOBWN12A8C130999'), (1.0, 'SOXZQDE12A8C135833'), (1.0, 'SOXRXDG12A8C131DE5'), (1.0, 'SOXMIUS12A8C13CD59'), (1.0, 'SOWSPUS12AC468BEE3'), (1.0, 'SOWQLXP12AF72A08A2'), (1.0, 'SOVYIYI12A8C138D88'), (1.0, 'SOVQEYZ12A8C1379D8'), (1.0, 'SOVHRGF12A8C13852F'), (1.0, 'SOUKXIN12A8C133C7F')], 'SOOKGRB12A8C13CD66': [(1.0, 'SOZOBWN12A8C130999'), (1.0, 'SOXZQDE12A8C135833'), (1.0, 'SOXRXDG12A8C131DE5'), (1.0, 'SOXMIUS12A8C13CD59'), (1.0, 'SOWSPUS12AC468BEE3'), (1.0, 'SOWQLXP12AF72A08A2'), (1.0, 'SOVYIYI12A8C138D88'), (1.0, 'SOVQEYZ12A8C1379D8'), (1.0, 'SOVHRGF12A8C13852F'), (1.0, 'SOUKXIN12A8C133C7F')], 'SODDNQT12A6D4F5F7E': [(1.0, 'SOKRIMP12A6D4F5DA3'), (1.0, 'SOIZAZL12A6701C53B'), (0.5, 'SOMGIYR12AB0187973'), (0.10000000000000001, 'SOYHEPA12A8C13097F'), (0.10000000000000001, 'SORZASF12A6D4F8CFA'), (0.10000000000000001, 'SOBBMDR12A8C13253B'), (0.058823529411764705, 'SOZOBWN12A8C130999'), (0.058823529411764705, 'SOXZQDE12A8C135833'), (0.058823529411764705, 'SOXRXDG12A8C131DE5'), (0.058823529411764705, 'SOXMIUS12A8C13CD59')], 'SOBFMHC12A6D4F9401': [(1.0, 'SOJFYRR12AB017BF2A'), (1.0, 'SOIICEQ12A6D4F7FE0'), (1.0, 'SODJWHY12A8C142CCE'), (0.5, 'SOIRRMU12A6D4FB0C0'), (0.5, 'SODEOCO12A6701E922'), (0.5, 'SOBTRCD12A6701E976'), (0.5, 'SOBONKR12A58A7A7E0'), (0.5, 'SOAXGDH12A8C13F8A1'), (0.5, 'SOAUWYT12A81C206F1'), (0.20000000000000001, 'SOFRQTD12A81C233C0')], 'SOJQOIK12AF72A0AAF': [(1.0, 'SOVHVBJ12A58A7AB0A'), (0.5, 'SOBONKR12A58A7A7E0'), (0.5, 'SOAUWYT12A81C206F1'), (0.058823529411764705, 'SOEGIYH12A6D4FC0E3'), (0, 'SOZOBWN12A8C130999'), (0, 'SOZMJFG12AB017BDAF'), (0, 'SOYHEPA12A8C13097F'), (0, 'SOXZQDE12A8C135833'), (0, 'SOXRXDG12A8C131DE5'), (0, 'SOXMIUS12A8C13CD59')], 'SOXMIUS12A8C13CD59': [(1.0, 'SOZOBWN12A8C130999'), (1.0, 'SOXZQDE12A8C135833'), (1.0, 'SOXRXDG12A8C131DE5'), (1.0, 'SOWSPUS12AC468BEE3'), (1.0, 'SOWQLXP12AF72A08A2'), (1.0, 'SOVYIYI12A8C138D88'), (1.0, 'SOVQEYZ12A8C1379D8'), (1.0, 'SOVHRGF12A8C13852F'), (1.0, 'SOUKXIN12A8C133C7F'), (1.0, 'SOTRSFZ12A8C142BF6')], 'SOIICEQ12A6D4F7FE0': [(1.0, 'SOJFYRR12AB017BF2A'), (1.0, 'SODJWHY12A8C142CCE'), (1.0, 'SOBFMHC12A6D4F9401'), (0.5, 'SOIRRMU12A6D4FB0C0'), (0.5, 'SODEOCO12A6701E922'), (0.5, 'SOBTRCD12A6701E976'), (0.5, 'SOBONKR12A58A7A7E0'), (0.5, 'SOAXGDH12A8C13F8A1'), (0.5, 'SOAUWYT12A81C206F1'), (0.20000000000000001, 'SOFRQTD12A81C233C0')], 'SOLLGNU12AF72A4D4F': [(1.0, 'SOZOBWN12A8C130999'), (1.0, 'SOXZQDE12A8C135833'), (1.0, 'SOXRXDG12A8C131DE5'), (1.0, 'SOXMIUS12A8C13CD59'), (1.0, 'SOWSPUS12AC468BEE3'), (1.0, 'SOWQLXP12AF72A08A2'), (1.0, 'SOVYIYI12A8C138D88'), (1.0, 'SOVQEYZ12A8C1379D8'), (1.0, 'SOVHRGF12A8C13852F'), (1.0, 'SOUKXIN12A8C133C7F')], 'SODXRTY12AB0180F3B': [(1.0, 'SOZOBWN12A8C130999'), (1.0, 'SOXZQDE12A8C135833'), (1.0, 'SOXRXDG12A8C131DE5'), (1.0, 'SOXMIUS12A8C13CD59'), (1.0, 'SOXGQEM12AB0181D35'), (1.0, 'SOWSPUS12AC468BEE3'), (1.0, 'SOWQLXP12AF72A08A2'), (1.0, 'SOVYIYI12A8C138D88'), (1.0, 'SOVQEYZ12A8C1379D8'), (1.0, 'SOVHRGF12A8C13852F')], 'SOAXGDH12A8C13F8A1': [(1.0, 'SOIRRMU12A6D4FB0C0'), (1.0, 'SODEOCO12A6701E922'), (1.0, 'SOBTRCD12A6701E976'), (0.5, 'SOXGQEM12AB0181D35'), (0.5, 'SOJNNUA12A8AE48C7A'), (0.5, 'SOJFYRR12AB017BF2A'), (0.5, 'SOIICEQ12A6D4F7FE0'), (0.5, 'SOEGIYH12A6D4FC0E3'), (0.5, 'SODXRTY12AB0180F3B'), (0.5, 'SOBFMHC12A6D4F9401')], 'SOHRQZQ12A6D4F81D2': [(1.0, 'SOZMJFG12AB017BDAF'), (1.0, 'SOVRZIX12AAF3B2A32'), (1.0, 'SOQFEDG12AB018DD24'), (1.0, 'SOCZTMT12AF72A078E'), (1.0, 'SOCHBAJ12AAF3B3A4F'), (1.0, 'SOBDRND12A8C13FD08'), (0.5, 'SOJGMYY12AB01809BE'), (0, 'SOZOBWN12A8C130999'), (0, 'SOYHEPA12A8C13097F'), (0, 'SOXZQDE12A8C135833')], 'SOAKIMP12A8C130995': [(1.0, 'SOZOBWN12A8C130999'), (1.0, 'SOXZQDE12A8C135833'), (1.0, 'SOXRXDG12A8C131DE5'), (1.0, 'SOXMIUS12A8C13CD59'), (1.0, 'SOWSPUS12AC468BEE3'), (1.0, 'SOWQLXP12AF72A08A2'), (1.0, 'SOVYIYI12A8C138D88'), (1.0, 'SOVQEYZ12A8C1379D8'), (1.0, 'SOVHRGF12A8C13852F'), (1.0, 'SOUKXIN12A8C133C7F')], 'SOKRIMP12A6D4F5DA3': [(1.0, 'SOIZAZL12A6701C53B'), (1.0, 'SODDNQT12A6D4F5F7E'), (0.5, 'SOMGIYR12AB0187973'), (0.10000000000000001, 'SOYHEPA12A8C13097F'), (0.10000000000000001, 'SORZASF12A6D4F8CFA'), (0.10000000000000001, 'SOBBMDR12A8C13253B'), (0.058823529411764705, 'SOZOBWN12A8C130999'), (0.058823529411764705, 'SOXZQDE12A8C135833'), (0.058823529411764705, 'SOXRXDG12A8C131DE5'), (0.058823529411764705, 'SOXMIUS12A8C13CD59')], 'SOSYBEV12AB0182933': [(1.0, 'SOZOBWN12A8C130999'), (1.0, 'SOXZQDE12A8C135833'), (1.0, 'SOXRXDG12A8C131DE5'), (1.0, 'SOXMIUS12A8C13CD59'), (1.0, 'SOWSPUS12AC468BEE3'), (1.0, 'SOWQLXP12AF72A08A2'), (1.0, 'SOVYIYI12A8C138D88'), (1.0, 'SOVQEYZ12A8C1379D8'), (1.0, 'SOVHRGF12A8C13852F'), (1.0, 'SOUKXIN12A8C133C7F')], 'SOAOQFD12A6D4FAAA9': [(1.0, 'SOUFPNI12A8C142D19'), (1.0, 'SORPHNV12A6701CD63'), (1.0, 'SOQBMFK12A8C13835B'), (1.0, 'SOPKPFW12A6D4F84BC'), (1.0, 'SOOCUXJ12A6D4F6FB7'), (1.0, 'SONQEYS12AF72AABC9'), (1.0, 'SOFXZAW12A67ADC90E'), (1.0, 'SOERVXG12A6D4F5583'), (0.5, 'SOXIIIM12A6D4F66C8'), (0.5, 'SOLVRLL12A67020D7F')], 'SOWQLXP12AF72A08A2': [(1.0, 'SOZOBWN12A8C130999'), (1.0, 'SOXZQDE12A8C135833'), (1.0, 'SOXRXDG12A8C131DE5'), (1.0, 'SOXMIUS12A8C13CD59'), (1.0, 'SOWSPUS12AC468BEE3'), (1.0, 'SOVYIYI12A8C138D88'), (1.0, 'SOVQEYZ12A8C1379D8'), (1.0, 'SOVHRGF12A8C13852F'), (1.0, 'SOUKXIN12A8C133C7F'), (1.0, 'SOTRSFZ12A8C142BF6')], 'SOBONKR12A58A7A7E0': [(1.0, 'SOIRRMU12A6D4FB0C0'), (1.0, 'SODEOCO12A6701E922'), (1.0, 'SOBTRCD12A6701E976'), (0.5, 'SOWEHOM12A6BD4E09E'), (0.5, 'SOJQOIK12AF72A0AAF'), (0.5, 'SOJFYRR12AB017BF2A'), (0.5, 'SOIICEQ12A6D4F7FE0'), (0.5, 'SODJWHY12A8C142CCE'), (0.5, 'SOBFMHC12A6D4F9401'), (0.20000000000000001, 'SOEKGDE12AB0182795')], 'SOFGUAY12AB017B0A8': [(1.0, 'SOZOBWN12A8C130999'), (1.0, 'SOXZQDE12A8C135833'), (1.0, 'SOXRXDG12A8C131DE5'), (1.0, 'SOXMIUS12A8C13CD59'), (1.0, 'SOWSPUS12AC468BEE3'), (1.0, 'SOWQLXP12AF72A08A2'), (1.0, 'SOVYIYI12A8C138D88'), (1.0, 'SOVQEYZ12A8C1379D8'), (1.0, 'SOVHRGF12A8C13852F'), (1.0, 'SOUKXIN12A8C133C7F')], 'SOMNTMT12A8C1400F6': [(1.0, 'SOWEHOM12A6BD4E09E'), (0.5, 'SOJNQZO12AF72AAE32'), (0.20000000000000001, 'SOUSQCN12A8C133302'), (0.10000000000000001, 'SOKOXWU12AF72AD1BC'), (0.10000000000000001, 'SOGEKGR12A6D4F81E8'), (0.058823529411764705, 'SOVEUVC12A6310EAF1'), (0.038461538461538464, 'SOGDDKR12A6701E8FA'), (0.038461538461538464, 'SODGVGW12AC9075A8D'), (0.02, 'SOWGXOP12A6701E93A'), (0.0081967213114754103, 'SOXGQEM12AB0181D35')], 'SORPMYJ12AF729EB90': [(1.0, 'SOZOBWN12A8C130999'), (1.0, 'SOXZQDE12A8C135833'), (1.0, 'SOXRXDG12A8C131DE5'), (1.0, 'SOXMIUS12A8C13CD59'), (1.0, 'SOWSPUS12AC468BEE3'), (1.0, 'SOWQLXP12AF72A08A2'), (1.0, 'SOVQEYZ12A8C1379D8'), (1.0, 'SOVHRGF12A8C13852F'), (1.0, 'SOUKXIN12A8C133C7F'), (1.0, 'SOTRSFZ12A8C142BF6')], 'SOVHRGF12A8C13852F': [(1.0, 'SOZOBWN12A8C130999'), (1.0, 'SOXZQDE12A8C135833'), (1.0, 'SOXRXDG12A8C131DE5'), (1.0, 'SOXMIUS12A8C13CD59'), (1.0, 'SOWSPUS12AC468BEE3'), (1.0, 'SOWQLXP12AF72A08A2'), (1.0, 'SOVYIYI12A8C138D88'), (1.0, 'SOVQEYZ12A8C1379D8'), (1.0, 'SOUKXIN12A8C133C7F'), (1.0, 'SOTRSFZ12A8C142BF6')], 'SOGEKGR12A6D4F81E8': [(1.0, 'SOKOXWU12AF72AD1BC'), (0.5, 'SOVEUVC12A6310EAF1'), (0.5, 'SOUSQCN12A8C133302'), (0.20000000000000001, 'SOJNQZO12AF72AAE32'), (0.20000000000000001, 'SOGDDKR12A6701E8FA'), (0.20000000000000001, 'SODGVGW12AC9075A8D'), (0.10000000000000001, 'SOWEHOM12A6BD4E09E'), (0.10000000000000001, 'SOMNTMT12A8C1400F6'), (0.058823529411764705, 'SOWGXOP12A6701E93A'), (0.015384615384615385, 'SOXGQEM12AB0181D35')], 'SONSAEZ12A8C138D7A': [(1.0, 'SOZOBWN12A8C130999'), (1.0, 'SOXZQDE12A8C135833'), (1.0, 'SOXRXDG12A8C131DE5'), (1.0, 'SOXMIUS12A8C13CD59'), (1.0, 'SOWSPUS12AC468BEE3'), (1.0, 'SOWQLXP12AF72A08A2'), (1.0, 'SOVQEYZ12A8C1379D8'), (1.0, 'SOVHRGF12A8C13852F'), (1.0, 'SOUKXIN12A8C133C7F'), (1.0, 'SOTRSFZ12A8C142BF6')], 'SOWGXOP12A6701E93A': [(0.20000000000000001, 'SOGDDKR12A6701E8FA'), (0.20000000000000001, 'SODGVGW12AC9075A8D'), (0.10000000000000001, 'SOVEUVC12A6310EAF1'), (0.058823529411764705, 'SOXGQEM12AB0181D35'), (0.058823529411764705, 'SOKOXWU12AF72AD1BC'), (0.058823529411764705, 'SOGEKGR12A6D4F81E8'), (0.038461538461538464, 'SOUSQCN12A8C133302'), (0.038461538461538464, 'SOEPZQS12A8C1436C7'), (0.027027027027027029, 'SOJNQZO12AF72AAE32'), (0.02, 'SOWEHOM12A6BD4E09E')], 'SOTRSFZ12A8C142BF6': [(1.0, 'SOZOBWN12A8C130999'), (1.0, 'SOXZQDE12A8C135833'), (1.0, 'SOXRXDG12A8C131DE5'), (1.0, 'SOXMIUS12A8C13CD59'), (1.0, 'SOWSPUS12AC468BEE3'), (1.0, 'SOWQLXP12AF72A08A2'), (1.0, 'SOVQEYZ12A8C1379D8'), (1.0, 'SOVHRGF12A8C13852F'), (1.0, 'SOUKXIN12A8C133C7F'), (1.0, 'SOTLVCL12AB0182D22')], 'SOWEHOM12A6BD4E09E': [(1.0, 'SOMNTMT12A8C1400F6'), (0.5, 'SOJNQZO12AF72AAE32'), (0.5, 'SOBONKR12A58A7A7E0'), (0.20000000000000001, 'SOUSQCN12A8C133302'), (0.10000000000000001, 'SOKOXWU12AF72AD1BC'), (0.10000000000000001, 'SOGEKGR12A6D4F81E8'), (0.058823529411764705, 'SOVEUVC12A6310EAF1'), (0.038461538461538464, 'SOGDDKR12A6701E8FA'), (0.038461538461538464, 'SODGVGW12AC9075A8D'), (0.038461538461538464, 'SOAUWYT12A81C206F1')]}\n"
     ]
    }
   ],
   "source": [
    "def sim_distance(prefs,person1,person2):\n",
    "    intersection = []\n",
    "    for item in prefs[person1]:\n",
    "        if item in prefs[person2]:\n",
    "            intersection.append(item)\n",
    "    if len(intersection)==0:\n",
    "        return 0\n",
    "    sum_of_squares = np.sum([(prefs[person1][item] - prefs[person2][item])**2\\\n",
    "                     for item in intersection])\n",
    "    return 1/(1+ sum_of_squares)\n",
    "\n",
    "\n",
    "def topMatches(prefs, person, n=5, similarity=sim_distance):\n",
    "    scores = [(similarity(prefs, person,other_person),other_person)\\\n",
    "              for other_person in prefs if other_person!= person]\n",
    "    scores.sort(reverse=True)\n",
    "    return scores[0:n]\n",
    "\n",
    "\n",
    "def calculateSimilarItems(itemPrefs,n=10):\n",
    "    result = {}\n",
    "    c = 0\n",
    "    for item in itemPrefs:\n",
    "        c += 1\n",
    "        if c%100==0:\n",
    "            print('%d / %d' % (c,len(itemPrefs)))\n",
    "        scores = topMatches(itemPrefs, item, n=n, similarity=sim_distance)\n",
    "        result[item]=scores\n",
    "    return result\n",
    "\n",
    "itemsim = calculateSimilarItems(dic_songs)\n",
    "print(itemsim)"
   ]
  },
  {
   "cell_type": "code",
   "execution_count": 64,
   "metadata": {
    "collapsed": true
   },
   "outputs": [],
   "source": [
    "def getRecommendedItems(user, itemMatch):\n",
    "    userRatings = get_user_prefs(df,user)\n",
    "    scores ={}\n",
    "    totalSim ={}\n",
    "    for (item,rating) in userRatings.items():\n",
    "        for (similarity,item2) in itemMatch[item]:\n",
    "            if item2 in userRatings:\n",
    "                continue\n",
    "            scores.setdefault(item2,0)\n",
    "            scores[item2] += similarity*rating\n",
    "            totalSim.setdefault(item2,0)\n",
    "            totalSim[item2] += similarity\n",
    "        \n",
    "    rankings = [(score/totalSim[item],item) for item,score in scores.items()]      \n",
    "    rankings.sort(reverse=True)\n",
    "    return rankings"
   ]
  },
  {
   "cell_type": "code",
   "execution_count": 68,
   "metadata": {
    "collapsed": false
   },
   "outputs": [
    {
     "name": "stderr",
     "output_type": "stream",
     "text": [
      "/usr/local/lib/python3.5/dist-packages/ipykernel/__main__.py:14: RuntimeWarning: invalid value encountered in long_scalars\n"
     ]
    },
    {
     "data": {
      "text/plain": [
       "[(5.0, 'SOAUWYT12A81C206F1'),\n",
       " (nan, 'SOXHIDK12A58A7CFB3'),\n",
       " (5.0, 'SOBONKR12A58A7A7E0'),\n",
       " (nan, 'SOZOBWN12A8C130999'),\n",
       " (nan, 'SOXMIUS12A8C13CD59'),\n",
       " (nan, 'SOZMJFG12AB017BDAF'),\n",
       " (nan, 'SOXZQDE12A8C135833'),\n",
       " (nan, 'SOXRXDG12A8C131DE5'),\n",
       " (nan, 'SOXIIIM12A6D4F66C8'),\n",
       " (nan, 'SOXGQEM12AB0181D35'),\n",
       " (nan, 'SOYHEPA12A8C13097F'),\n",
       " (5.0, 'SOEGIYH12A6D4FC0E3')]"
      ]
     },
     "execution_count": 68,
     "metadata": {},
     "output_type": "execute_result"
    }
   ],
   "source": [
    "getRecommendedItems(users[3],itemsim)"
   ]
  },
  {
   "cell_type": "code",
   "execution_count": 69,
   "metadata": {
    "collapsed": false
   },
   "outputs": [
    {
     "data": {
      "text/plain": [
       "('Undo', 'Björk')"
      ]
     },
     "execution_count": 69,
     "metadata": {},
     "output_type": "execute_result"
    }
   ],
   "source": [
    "show_song(all_songs,'SOAUWYT12A81C206F1')"
   ]
  },
  {
   "cell_type": "code",
   "execution_count": 71,
   "metadata": {
    "collapsed": false
   },
   "outputs": [
    {
     "name": "stdout",
     "output_type": "stream",
     "text": [
      "The user target1 likes: \n",
      " [('Streets On Lock', 'Young Jeezy'), ('The Way Things Go', 'Octopus Project')]\n"
     ]
    }
   ],
   "source": [
    "dft1 = df.loc[df['user_id'] == users[3]]\n",
    "dft1 = dft1.sort_values('listen_count',ascending=False)\n",
    "best_songs_t1 = list(map(lambda x: show_song(all_songs,x),list(dft1['song_id'])))\n",
    "if len(best_songs_t1) > 5:\n",
    "    print(\"The user target1 likes: \\n\", best_songs_t1[0:5])\n",
    "else:\n",
    "    print(\"The user target1 likes: \\n\",best_songs_t1)"
   ]
  },
  {
   "cell_type": "code",
   "execution_count": 72,
   "metadata": {
    "collapsed": false
   },
   "outputs": [
    {
     "name": "stdout",
     "output_type": "stream",
     "text": [
      "[('Undo', 'Björk'), (\"Who's Real\", 'Jadakiss / Swizz Beatz / OJ Da Juiceman'), (\"You're The One\", 'Dwight Yoakam'), ('Holes To Heaven', 'Jack Johnson'), ('Sun Giant', 'Fleet Foxes'), ('Swimming In The Flood', 'Passion Pit'), ('Right Back', 'Sublime'), ('City Love', 'John Mayer'), ('All My Friends', 'LCD Soundsystem'), ('Speechless', 'Lady GaGa'), ('Moonshine', 'Jack Johnson'), ('Horn Concerto No. 4 in E flat K495: II. Romance (Andante cantabile)', 'Barry Tuckwell/Academy of St Martin-in-the-Fields/Sir Neville Marriner')]\n"
     ]
    },
    {
     "name": "stderr",
     "output_type": "stream",
     "text": [
      "/usr/local/lib/python3.5/dist-packages/ipykernel/__main__.py:14: RuntimeWarning: invalid value encountered in long_scalars\n"
     ]
    }
   ],
   "source": [
    "reco = [y for (x,y) in getRecommendedItems(users[3],itemsim)]\n",
    "print(list(map(lambda x: show_song(all_songs,x),reco)))"
   ]
  }
 ],
 "metadata": {
  "kernelspec": {
   "display_name": "Python 3",
   "language": "python",
   "name": "python3"
  },
  "language_info": {
   "codemirror_mode": {
    "name": "ipython",
    "version": 3
   },
   "file_extension": ".py",
   "mimetype": "text/x-python",
   "name": "python",
   "nbconvert_exporter": "python",
   "pygments_lexer": "ipython3",
   "version": "3.5.2"
  }
 },
 "nbformat": 4,
 "nbformat_minor": 1
}
