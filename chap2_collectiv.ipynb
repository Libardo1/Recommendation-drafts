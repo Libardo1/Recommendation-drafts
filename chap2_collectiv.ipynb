{
 "cells": [
  {
   "cell_type": "markdown",
   "metadata": {},
   "source": [
    "# Lendo o cap 2 do livro Inteligencia Coletiva"
   ]
  },
  {
   "cell_type": "markdown",
   "metadata": {},
   "source": [
    "Esse dicionario contem um pequeno numero de criticos pareados com os scores que eles deram aos filmes. Os scores vao de 1 a 5"
   ]
  },
  {
   "cell_type": "code",
   "execution_count": 4,
   "metadata": {
    "collapsed": false
   },
   "outputs": [],
   "source": [
    "critics={'Lisa Rose': {'Lady in the Water': 2.5, 'Snakes on a Plane': 3.5,\n",
    " 'Just My Luck': 3.0, 'Superman Returns': 3.5, 'You, Me and Dupree': 2.5, \n",
    " 'The Night Listener': 3.0},\n",
    "'Gene Seymour': {'Lady in the Water': 3.0, 'Snakes on a Plane': 3.5, \n",
    " 'Just My Luck': 1.5, 'Superman Returns': 5.0, 'The Night Listener': 3.0, \n",
    " 'You, Me and Dupree': 3.5}, \n",
    "'Michael Phillips': {'Lady in the Water': 2.5, 'Snakes on a Plane': 3.0,\n",
    " 'Superman Returns': 3.5, 'The Night Listener': 4.0},\n",
    "'Claudia Puig': {'Snakes on a Plane': 3.5, 'Just My Luck': 3.0,\n",
    " 'The Night Listener': 4.5, 'Superman Returns': 4.0, \n",
    " 'You, Me and Dupree': 2.5},\n",
    "'Mick LaSalle': {'Lady in the Water': 3.0, 'Snakes on a Plane': 4.0, \n",
    " 'Just My Luck': 2.0, 'Superman Returns': 3.0, 'The Night Listener': 3.0,\n",
    " 'You, Me and Dupree': 2.0}, \n",
    "'Jack Matthews': {'Lady in the Water': 3.0, 'Snakes on a Plane': 4.0,\n",
    " 'The Night Listener': 3.0, 'Superman Returns': 5.0, 'You, Me and Dupree': 3.5},\n",
    "'Toby': {'Snakes on a Plane':4.5,'You, Me and Dupree':1.0,'Superman Returns':4.0}}"
   ]
  },
  {
   "cell_type": "code",
   "execution_count": 11,
   "metadata": {
    "collapsed": false
   },
   "outputs": [
    {
     "name": "stdout",
     "output_type": "stream",
     "text": [
      "Snakes on a Plane\n",
      "You, Me and Dupree\n",
      "Superman Returns\n"
     ]
    }
   ],
   "source": [
    "for movie in critics['Toby']:\n",
    "    print(movie)"
   ]
  },
  {
   "cell_type": "code",
   "execution_count": 6,
   "metadata": {
    "collapsed": false
   },
   "outputs": [
    {
     "name": "stdout",
     "output_type": "stream",
     "text": [
      "4.0\n"
     ]
    }
   ],
   "source": [
    "print(critics['Toby']['Superman Returns'])"
   ]
  },
  {
   "cell_type": "markdown",
   "metadata": {},
   "source": [
    "# Distancia Euclidiana\n",
    "\n",
    "Dados dois criticos A e B e suas notas sobre os filmes x e y. Podemos calulcar a distancia euclidiana entre suas preferencias. Assim, podemos definir a seguinte funcao"
   ]
  },
  {
   "cell_type": "code",
   "execution_count": 31,
   "metadata": {
    "collapsed": true
   },
   "outputs": [],
   "source": [
    "import numpy as np\n",
    "inf = float('inf')\n",
    "\n",
    "def sim_distance(prefs,person1,person2):\n",
    "    intersection = []\n",
    "    for item in prefs[person1]:\n",
    "        if item in prefs[person2]:\n",
    "            intersection.append(item)\n",
    "    if len(intersection)==0:\n",
    "        return inf\n",
    "    sum_of_squares = np.sum([(prefs[person1][item] - prefs[person2][item])**2\\\n",
    "                     for item in intersection])\n",
    "    return 1/(1+ sum_of_squares)\n",
    "\n",
    "def most_similar_euclidian(prefs,person,):\n",
    "    most_similar_person = None\n",
    "    smallest_score = inf\n",
    "    for other_person in prefs:\n",
    "        if other_person!= person:\n",
    "            score = sim_distance(prefs, person,other_person)\n",
    "            if score < smallest_score:\n",
    "                smallest_score = score\n",
    "                most_similar_person = other_person\n",
    "    return most_similar_person "
   ]
  },
  {
   "cell_type": "code",
   "execution_count": 26,
   "metadata": {
    "collapsed": false
   },
   "outputs": [
    {
     "name": "stdout",
     "output_type": "stream",
     "text": [
      "0.307692307692\n"
     ]
    }
   ],
   "source": [
    "print(sim_distance(critics,'Mick LaSalle', 'Toby'))"
   ]
  },
  {
   "cell_type": "code",
   "execution_count": 27,
   "metadata": {
    "collapsed": false
   },
   "outputs": [
    {
     "name": "stdout",
     "output_type": "stream",
     "text": [
      "0.148148148148\n"
     ]
    }
   ],
   "source": [
    "print(sim_distance(critics,'Lisa Rose', 'Gene Seymour'))"
   ]
  },
  {
   "cell_type": "code",
   "execution_count": 32,
   "metadata": {
    "collapsed": false
   },
   "outputs": [
    {
     "name": "stdout",
     "output_type": "stream",
     "text": [
      "Gene Seymour most similar to  Toby\n",
      "Mick LaSalle most similar to  Gene Seymour\n",
      "Jack Matthews most similar to  Toby\n",
      "Claudia Puig most similar to  Gene Seymour\n",
      "Toby most similar to  Gene Seymour\n",
      "Michael Phillips most similar to  Jack Matthews\n",
      "Lisa Rose most similar to  Gene Seymour\n"
     ]
    }
   ],
   "source": [
    "for people in critics:\n",
    "    print(people, 'most similar to ', most_similar_euclidian(critics, people))"
   ]
  },
  {
   "cell_type": "markdown",
   "metadata": {},
   "source": [
    "# Escala de Correlacao de Pearson\n",
    "\n",
    "Um modo melhor para mostrar a similaridade entre interesses de pessoas eh usando um coeficiente de correlacao de Pearson. O coeficiente de correlacao eh uma medida de quao bem dois conjuntos de dados se ajustam sobre uma linha reta."
   ]
  },
  {
   "cell_type": "code",
   "execution_count": 39,
   "metadata": {
    "collapsed": true
   },
   "outputs": [],
   "source": [
    "def sim_pearson(prefs,person1,person2):\n",
    "    intersection = []\n",
    "    for item in prefs[person1]:\n",
    "        if item in prefs[person2]:\n",
    "            intersection.append(item)\n",
    "    number_of_itens = len(intersection) \n",
    "    if number_of_itens ==0:\n",
    "        return 0\n",
    "    sum1 = np.sum([prefs[person1][item] for item in intersection])\n",
    "    sum2 = np.sum([prefs[person2][item] for item in intersection])\n",
    "    sum1sq = np.sum([(prefs[person1][item])**2 for item in intersection])\n",
    "    sum2sq = np.sum([(prefs[person2][item])**2 for item in intersection])\n",
    "    pSum = np.sum([(prefs[person1][item] * prefs[person2][item])\\\n",
    "                     for item in intersection])\n",
    "    numerator = pSum - (sum1*sum2/number_of_itens)\n",
    "    denominator = np.sqrt( ((sum1sq - sum1**2)/number_of_itens) *\\\n",
    "                           ((sum2sq - sum2**2)/number_of_itens))\n",
    "    if denominator == 0:\n",
    "        return 0\n",
    "    return numerator/denominator\n",
    "\n",
    "def most_similar_pearson(prefs,person):\n",
    "    most_similar_person = None\n",
    "    biggest_score = -1\n",
    "    for other_person in prefs:\n",
    "        if other_person!= person:\n",
    "            score = sim_pearson(prefs, person,other_person)\n",
    "            if score > biggest_score:\n",
    "                biggest_score = score\n",
    "                most_similar_person = other_person\n",
    "    return most_similar_person "
   ]
  },
  {
   "cell_type": "code",
   "execution_count": 29,
   "metadata": {
    "collapsed": false
   },
   "outputs": [
    {
     "name": "stdout",
     "output_type": "stream",
     "text": [
      "1.0\n"
     ]
    }
   ],
   "source": [
    "print(sim_distance(critics,'Lisa Rose', 'Lisa Rose'))"
   ]
  },
  {
   "cell_type": "code",
   "execution_count": 42,
   "metadata": {
    "collapsed": false
   },
   "outputs": [
    {
     "name": "stdout",
     "output_type": "stream",
     "text": [
      "According to the euclidian distance Gene Seymour is most similar to Toby \n",
      " According to the Pearsons correlation Gene Seymour is most similar to Toby \n",
      "\n",
      "According to the euclidian distance Mick LaSalle is most similar to Gene Seymour \n",
      " According to the Pearsons correlation Mick LaSalle is most similar to Toby \n",
      "\n",
      "According to the euclidian distance Jack Matthews is most similar to Toby \n",
      " According to the Pearsons correlation Jack Matthews is most similar to Toby \n",
      "\n",
      "According to the euclidian distance Claudia Puig is most similar to Gene Seymour \n",
      " According to the Pearsons correlation Claudia Puig is most similar to Toby \n",
      "\n",
      "According to the euclidian distance Toby is most similar to Gene Seymour \n",
      " According to the Pearsons correlation Toby is most similar to Mick LaSalle \n",
      "\n",
      "According to the euclidian distance Michael Phillips is most similar to Jack Matthews \n",
      " According to the Pearsons correlation Michael Phillips is most similar to Claudia Puig \n",
      "\n",
      "According to the euclidian distance Lisa Rose is most similar to Gene Seymour \n",
      " According to the Pearsons correlation Lisa Rose is most similar to Toby \n",
      "\n"
     ]
    }
   ],
   "source": [
    "for people in critics:\n",
    "    result1 = 'According to the euclidian distance {0} is most similar to {1}'\\\n",
    "              .format(people,most_similar_euclidian(critics, people))\n",
    "    result2 = 'According to the Pearsons correlation {0} is most similar to {1}'\\\n",
    "              .format(people,most_similar_pearson(critics, people))    \n",
    "    print(result1,'\\n',result2,'\\n')"
   ]
  },
  {
   "cell_type": "code",
   "execution_count": null,
   "metadata": {
    "collapsed": true
   },
   "outputs": [],
   "source": []
  },
  {
   "cell_type": "code",
   "execution_count": null,
   "metadata": {
    "collapsed": true
   },
   "outputs": [],
   "source": []
  }
 ],
 "metadata": {
  "kernelspec": {
   "display_name": "Python 3",
   "language": "python",
   "name": "python3"
  },
  "language_info": {
   "codemirror_mode": {
    "name": "ipython",
    "version": 3
   },
   "file_extension": ".py",
   "mimetype": "text/x-python",
   "name": "python",
   "nbconvert_exporter": "python",
   "pygments_lexer": "ipython3",
   "version": "3.5.2"
  }
 },
 "nbformat": 4,
 "nbformat_minor": 1
}
