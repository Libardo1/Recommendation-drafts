{
 "cells": [
  {
   "cell_type": "markdown",
   "metadata": {},
   "source": [
    "# Operacoes basicas nas colunas + missing data"
   ]
  },
  {
   "cell_type": "code",
   "execution_count": 1,
   "metadata": {
    "collapsed": false
   },
   "outputs": [
    {
     "data": {
      "text/html": [
       "<div>\n",
       "<table border=\"1\" class=\"dataframe\">\n",
       "  <thead>\n",
       "    <tr style=\"text-align: right;\">\n",
       "      <th></th>\n",
       "      <th>user_id</th>\n",
       "      <th>song_id</th>\n",
       "      <th>contagem</th>\n",
       "      <th>artista</th>\n",
       "    </tr>\n",
       "  </thead>\n",
       "  <tbody>\n",
       "    <tr>\n",
       "      <th>1116606</th>\n",
       "      <td>276e43ad698705e5011e5091f367d951b21246f5</td>\n",
       "      <td>SOXJOZW12A6701E90E</td>\n",
       "      <td>7</td>\n",
       "      <td>Queens Of The Stone Age</td>\n",
       "    </tr>\n",
       "    <tr>\n",
       "      <th>1116607</th>\n",
       "      <td>276e43ad698705e5011e5091f367d951b21246f5</td>\n",
       "      <td>SOXNKNC12A6701F7A8</td>\n",
       "      <td>1</td>\n",
       "      <td>Rob Zombie</td>\n",
       "    </tr>\n",
       "    <tr>\n",
       "      <th>1116608</th>\n",
       "      <td>276e43ad698705e5011e5091f367d951b21246f5</td>\n",
       "      <td>SOYRMVO12A6701D106</td>\n",
       "      <td>1</td>\n",
       "      <td>Godsmack</td>\n",
       "    </tr>\n",
       "    <tr>\n",
       "      <th>1116609</th>\n",
       "      <td>b80344d063b5ccb3212f76538f3d9e43d87dca9e</td>\n",
       "      <td>SOAKIMP12A8C130993</td>\n",
       "      <td>2</td>\n",
       "      <td>Vive la Fete</td>\n",
       "    </tr>\n",
       "    <tr>\n",
       "      <th>1116610</th>\n",
       "      <td>b80344d063b5ccb3212f76538f3d9e43d87dca9e</td>\n",
       "      <td>SOAKIMP12A8D130992</td>\n",
       "      <td>50</td>\n",
       "      <td>Diplo</td>\n",
       "    </tr>\n",
       "  </tbody>\n",
       "</table>\n",
       "</div>"
      ],
      "text/plain": [
       "                                          user_id             song_id  \\\n",
       "1116606  276e43ad698705e5011e5091f367d951b21246f5  SOXJOZW12A6701E90E   \n",
       "1116607  276e43ad698705e5011e5091f367d951b21246f5  SOXNKNC12A6701F7A8   \n",
       "1116608  276e43ad698705e5011e5091f367d951b21246f5  SOYRMVO12A6701D106   \n",
       "1116609  b80344d063b5ccb3212f76538f3d9e43d87dca9e  SOAKIMP12A8C130993   \n",
       "1116610  b80344d063b5ccb3212f76538f3d9e43d87dca9e  SOAKIMP12A8D130992   \n",
       "\n",
       "         contagem                  artista  \n",
       "1116606         7  Queens Of The Stone Age  \n",
       "1116607         1               Rob Zombie  \n",
       "1116608         1                 Godsmack  \n",
       "1116609         2             Vive la Fete  \n",
       "1116610        50                    Diplo  "
      ]
     },
     "execution_count": 1,
     "metadata": {},
     "output_type": "execute_result"
    }
   ],
   "source": [
    "import numpy as np\n",
    "import pandas as pd\n",
    "import matplotlib.pyplot as plt\n",
    "from matplotlib import style\n",
    "style.use('fivethirtyeight')\n",
    "%matplotlib inline\n",
    "\n",
    "df = pd.read_pickle('teste.pickle')\n",
    "df.tail()"
   ]
  },
  {
   "cell_type": "code",
   "execution_count": 2,
   "metadata": {
    "collapsed": false
   },
   "outputs": [
    {
     "data": {
      "text/html": [
       "<div>\n",
       "<table border=\"1\" class=\"dataframe\">\n",
       "  <thead>\n",
       "    <tr style=\"text-align: right;\">\n",
       "      <th></th>\n",
       "      <th>user_id</th>\n",
       "      <th>song_id</th>\n",
       "      <th>contagem</th>\n",
       "      <th>artista</th>\n",
       "    </tr>\n",
       "  </thead>\n",
       "  <tbody>\n",
       "    <tr>\n",
       "      <th>1116611</th>\n",
       "      <td>b80344d063b5ccb3212f76538f3d9e43d87dca9e</td>\n",
       "      <td>SOAKIMP12A2C130993</td>\n",
       "      <td>NaN</td>\n",
       "      <td>Madona</td>\n",
       "    </tr>\n",
       "    <tr>\n",
       "      <th>1116612</th>\n",
       "      <td>b80344d063b5ccb3212f76538f3d9e43d87dca9e</td>\n",
       "      <td>SOAKIMP22A8D130992</td>\n",
       "      <td>NaN</td>\n",
       "      <td>Eminen</td>\n",
       "    </tr>\n",
       "    <tr>\n",
       "      <th>1116613</th>\n",
       "      <td>b80344d063b5ccb3212f76538f3d9e43d87dca9e</td>\n",
       "      <td>FOIKIMP22A8F150731</td>\n",
       "      <td>24.0</td>\n",
       "      <td>Steve Reich</td>\n",
       "    </tr>\n",
       "  </tbody>\n",
       "</table>\n",
       "</div>"
      ],
      "text/plain": [
       "                                          user_id             song_id  \\\n",
       "1116611  b80344d063b5ccb3212f76538f3d9e43d87dca9e  SOAKIMP12A2C130993   \n",
       "1116612  b80344d063b5ccb3212f76538f3d9e43d87dca9e  SOAKIMP22A8D130992   \n",
       "1116613  b80344d063b5ccb3212f76538f3d9e43d87dca9e  FOIKIMP22A8F150731   \n",
       "\n",
       "         contagem      artista  \n",
       "1116611       NaN       Madona  \n",
       "1116612       NaN       Eminen  \n",
       "1116613      24.0  Steve Reich  "
      ]
     },
     "execution_count": 2,
     "metadata": {},
     "output_type": "execute_result"
    }
   ],
   "source": [
    "NaN = float('nan')\n",
    "mesmo_user = 'b80344d063b5ccb3212f76538f3d9e43d87dca9e'\n",
    "new = pd.DataFrame({'user_id':[mesmo_user,mesmo_user,mesmo_user],\n",
    "                       'song_id': ['SOAKIMP12A2C130993','SOAKIMP22A8D130992','FOIKIMP22A8F150731'],\n",
    "                       'contagem':[NaN,NaN,24],\n",
    "                       'artista': ['Madona', 'Eminen','Steve Reich']},\n",
    "                   index=[1116611, 1116612,1116613])\n",
    "cols = new.columns.tolist()\n",
    "new= new[cols[::-1]]\n",
    "new.head()"
   ]
  },
  {
   "cell_type": "code",
   "execution_count": 3,
   "metadata": {
    "collapsed": false
   },
   "outputs": [
    {
     "data": {
      "text/html": [
       "<div>\n",
       "<table border=\"1\" class=\"dataframe\">\n",
       "  <thead>\n",
       "    <tr style=\"text-align: right;\">\n",
       "      <th></th>\n",
       "      <th>user_id</th>\n",
       "      <th>song_id</th>\n",
       "      <th>contagem</th>\n",
       "      <th>artista</th>\n",
       "    </tr>\n",
       "  </thead>\n",
       "  <tbody>\n",
       "    <tr>\n",
       "      <th>1116609</th>\n",
       "      <td>b80344d063b5ccb3212f76538f3d9e43d87dca9e</td>\n",
       "      <td>SOAKIMP12A8C130993</td>\n",
       "      <td>2.0</td>\n",
       "      <td>Vive la Fete</td>\n",
       "    </tr>\n",
       "    <tr>\n",
       "      <th>1116610</th>\n",
       "      <td>b80344d063b5ccb3212f76538f3d9e43d87dca9e</td>\n",
       "      <td>SOAKIMP12A8D130992</td>\n",
       "      <td>50.0</td>\n",
       "      <td>Diplo</td>\n",
       "    </tr>\n",
       "    <tr>\n",
       "      <th>1116611</th>\n",
       "      <td>b80344d063b5ccb3212f76538f3d9e43d87dca9e</td>\n",
       "      <td>SOAKIMP12A2C130993</td>\n",
       "      <td>NaN</td>\n",
       "      <td>Madona</td>\n",
       "    </tr>\n",
       "    <tr>\n",
       "      <th>1116612</th>\n",
       "      <td>b80344d063b5ccb3212f76538f3d9e43d87dca9e</td>\n",
       "      <td>SOAKIMP22A8D130992</td>\n",
       "      <td>NaN</td>\n",
       "      <td>Eminen</td>\n",
       "    </tr>\n",
       "    <tr>\n",
       "      <th>1116613</th>\n",
       "      <td>b80344d063b5ccb3212f76538f3d9e43d87dca9e</td>\n",
       "      <td>FOIKIMP22A8F150731</td>\n",
       "      <td>24.0</td>\n",
       "      <td>Steve Reich</td>\n",
       "    </tr>\n",
       "  </tbody>\n",
       "</table>\n",
       "</div>"
      ],
      "text/plain": [
       "                                          user_id             song_id  \\\n",
       "1116609  b80344d063b5ccb3212f76538f3d9e43d87dca9e  SOAKIMP12A8C130993   \n",
       "1116610  b80344d063b5ccb3212f76538f3d9e43d87dca9e  SOAKIMP12A8D130992   \n",
       "1116611  b80344d063b5ccb3212f76538f3d9e43d87dca9e  SOAKIMP12A2C130993   \n",
       "1116612  b80344d063b5ccb3212f76538f3d9e43d87dca9e  SOAKIMP22A8D130992   \n",
       "1116613  b80344d063b5ccb3212f76538f3d9e43d87dca9e  FOIKIMP22A8F150731   \n",
       "\n",
       "         contagem       artista  \n",
       "1116609       2.0  Vive la Fete  \n",
       "1116610      50.0         Diplo  \n",
       "1116611       NaN        Madona  \n",
       "1116612       NaN        Eminen  \n",
       "1116613      24.0   Steve Reich  "
      ]
     },
     "execution_count": 3,
     "metadata": {},
     "output_type": "execute_result"
    }
   ],
   "source": [
    "frames = [df,new]\n",
    "df = pd.concat(frames)\n",
    "df.tail()"
   ]
  },
  {
   "cell_type": "code",
   "execution_count": 4,
   "metadata": {
    "collapsed": false
   },
   "outputs": [
    {
     "data": {
      "text/html": [
       "<div>\n",
       "<table border=\"1\" class=\"dataframe\">\n",
       "  <thead>\n",
       "    <tr style=\"text-align: right;\">\n",
       "      <th></th>\n",
       "      <th>user_id</th>\n",
       "      <th>song_id</th>\n",
       "      <th>contagem</th>\n",
       "      <th>artista</th>\n",
       "      <th>contagem_norm</th>\n",
       "    </tr>\n",
       "  </thead>\n",
       "  <tbody>\n",
       "    <tr>\n",
       "      <th>1116609</th>\n",
       "      <td>b80344d063b5ccb3212f76538f3d9e43d87dca9e</td>\n",
       "      <td>SOAKIMP12A8C130993</td>\n",
       "      <td>2.0</td>\n",
       "      <td>Vive la Fete</td>\n",
       "      <td>5.442802e-07</td>\n",
       "    </tr>\n",
       "    <tr>\n",
       "      <th>1116610</th>\n",
       "      <td>b80344d063b5ccb3212f76538f3d9e43d87dca9e</td>\n",
       "      <td>SOAKIMP12A8D130992</td>\n",
       "      <td>50.0</td>\n",
       "      <td>Diplo</td>\n",
       "      <td>1.360700e-05</td>\n",
       "    </tr>\n",
       "    <tr>\n",
       "      <th>1116611</th>\n",
       "      <td>b80344d063b5ccb3212f76538f3d9e43d87dca9e</td>\n",
       "      <td>SOAKIMP12A2C130993</td>\n",
       "      <td>NaN</td>\n",
       "      <td>Madona</td>\n",
       "      <td>NaN</td>\n",
       "    </tr>\n",
       "    <tr>\n",
       "      <th>1116612</th>\n",
       "      <td>b80344d063b5ccb3212f76538f3d9e43d87dca9e</td>\n",
       "      <td>SOAKIMP22A8D130992</td>\n",
       "      <td>NaN</td>\n",
       "      <td>Eminen</td>\n",
       "      <td>NaN</td>\n",
       "    </tr>\n",
       "    <tr>\n",
       "      <th>1116613</th>\n",
       "      <td>b80344d063b5ccb3212f76538f3d9e43d87dca9e</td>\n",
       "      <td>FOIKIMP22A8F150731</td>\n",
       "      <td>24.0</td>\n",
       "      <td>Steve Reich</td>\n",
       "      <td>6.531362e-06</td>\n",
       "    </tr>\n",
       "  </tbody>\n",
       "</table>\n",
       "</div>"
      ],
      "text/plain": [
       "                                          user_id             song_id  \\\n",
       "1116609  b80344d063b5ccb3212f76538f3d9e43d87dca9e  SOAKIMP12A8C130993   \n",
       "1116610  b80344d063b5ccb3212f76538f3d9e43d87dca9e  SOAKIMP12A8D130992   \n",
       "1116611  b80344d063b5ccb3212f76538f3d9e43d87dca9e  SOAKIMP12A2C130993   \n",
       "1116612  b80344d063b5ccb3212f76538f3d9e43d87dca9e  SOAKIMP22A8D130992   \n",
       "1116613  b80344d063b5ccb3212f76538f3d9e43d87dca9e  FOIKIMP22A8F150731   \n",
       "\n",
       "         contagem       artista  contagem_norm  \n",
       "1116609       2.0  Vive la Fete   5.442802e-07  \n",
       "1116610      50.0         Diplo   1.360700e-05  \n",
       "1116611       NaN        Madona            NaN  \n",
       "1116612       NaN        Eminen            NaN  \n",
       "1116613      24.0   Steve Reich   6.531362e-06  "
      ]
     },
     "execution_count": 4,
     "metadata": {},
     "output_type": "execute_result"
    }
   ],
   "source": [
    "#criando nova coluna com os dados da coluna contagem\n",
    "df['contagem_norm'] = df['contagem']*1/np.sum(df['contagem'])\n",
    "df.tail()"
   ]
  },
  {
   "cell_type": "code",
   "execution_count": 5,
   "metadata": {
    "collapsed": false
   },
   "outputs": [
    {
     "data": {
      "image/png": "[encoded data removed]",
      "text/plain": [
       "<matplotlib.figure.Figure at 0x7ff2d4e0c0b8>"
      ]
     },
     "metadata": {},
     "output_type": "display_data"
    }
   ],
   "source": [
    "df.plot(legend=None)\n",
    "plt.show()"
   ]
  },
  {
   "cell_type": "markdown",
   "metadata": {},
   "source": [
    "# Lidando com missing data"
   ]
  },
  {
   "cell_type": "code",
   "execution_count": 6,
   "metadata": {
    "collapsed": false
   },
   "outputs": [
    {
     "data": {
      "text/html": [
       "<div>\n",
       "<table border=\"1\" class=\"dataframe\">\n",
       "  <thead>\n",
       "    <tr style=\"text-align: right;\">\n",
       "      <th></th>\n",
       "      <th>user_id</th>\n",
       "      <th>song_id</th>\n",
       "      <th>contagem</th>\n",
       "      <th>artista</th>\n",
       "      <th>contagem_norm</th>\n",
       "    </tr>\n",
       "  </thead>\n",
       "  <tbody>\n",
       "    <tr>\n",
       "      <th>1116609</th>\n",
       "      <td>b80344d063b5ccb3212f76538f3d9e43d87dca9e</td>\n",
       "      <td>SOAKIMP12A8C130993</td>\n",
       "      <td>2.0</td>\n",
       "      <td>Vive la Fete</td>\n",
       "      <td>5.442802e-07</td>\n",
       "    </tr>\n",
       "    <tr>\n",
       "      <th>1116610</th>\n",
       "      <td>b80344d063b5ccb3212f76538f3d9e43d87dca9e</td>\n",
       "      <td>SOAKIMP12A8D130992</td>\n",
       "      <td>50.0</td>\n",
       "      <td>Diplo</td>\n",
       "      <td>1.360700e-05</td>\n",
       "    </tr>\n",
       "    <tr>\n",
       "      <th>1116611</th>\n",
       "      <td>b80344d063b5ccb3212f76538f3d9e43d87dca9e</td>\n",
       "      <td>SOAKIMP12A2C130993</td>\n",
       "      <td>NaN</td>\n",
       "      <td>Madona</td>\n",
       "      <td>NaN</td>\n",
       "    </tr>\n",
       "    <tr>\n",
       "      <th>1116612</th>\n",
       "      <td>b80344d063b5ccb3212f76538f3d9e43d87dca9e</td>\n",
       "      <td>SOAKIMP22A8D130992</td>\n",
       "      <td>NaN</td>\n",
       "      <td>Eminen</td>\n",
       "      <td>NaN</td>\n",
       "    </tr>\n",
       "    <tr>\n",
       "      <th>1116613</th>\n",
       "      <td>b80344d063b5ccb3212f76538f3d9e43d87dca9e</td>\n",
       "      <td>FOIKIMP22A8F150731</td>\n",
       "      <td>24.0</td>\n",
       "      <td>Steve Reich</td>\n",
       "      <td>6.531362e-06</td>\n",
       "    </tr>\n",
       "  </tbody>\n",
       "</table>\n",
       "</div>"
      ],
      "text/plain": [
       "                                          user_id             song_id  \\\n",
       "1116609  b80344d063b5ccb3212f76538f3d9e43d87dca9e  SOAKIMP12A8C130993   \n",
       "1116610  b80344d063b5ccb3212f76538f3d9e43d87dca9e  SOAKIMP12A8D130992   \n",
       "1116611  b80344d063b5ccb3212f76538f3d9e43d87dca9e  SOAKIMP12A2C130993   \n",
       "1116612  b80344d063b5ccb3212f76538f3d9e43d87dca9e  SOAKIMP22A8D130992   \n",
       "1116613  b80344d063b5ccb3212f76538f3d9e43d87dca9e  FOIKIMP22A8F150731   \n",
       "\n",
       "         contagem       artista  contagem_norm  \n",
       "1116609       2.0  Vive la Fete   5.442802e-07  \n",
       "1116610      50.0         Diplo   1.360700e-05  \n",
       "1116611       NaN        Madona            NaN  \n",
       "1116612       NaN        Eminen            NaN  \n",
       "1116613      24.0   Steve Reich   6.531362e-06  "
      ]
     },
     "execution_count": 6,
     "metadata": {},
     "output_type": "execute_result"
    }
   ],
   "source": [
    "#uma estrategia eh retirar todas as observacoes que contem alguma coluna com NaN\n",
    "df2 = df.dropna()\n",
    "\n",
    "#para inplace\n",
    "#df.dropna(inplace=True)\n",
    "\n",
    "df.tail()"
   ]
  },
  {
   "cell_type": "code",
   "execution_count": 7,
   "metadata": {
    "collapsed": false
   },
   "outputs": [
    {
     "data": {
      "text/html": [
       "<div>\n",
       "<table border=\"1\" class=\"dataframe\">\n",
       "  <thead>\n",
       "    <tr style=\"text-align: right;\">\n",
       "      <th></th>\n",
       "      <th>user_id</th>\n",
       "      <th>song_id</th>\n",
       "      <th>contagem</th>\n",
       "      <th>artista</th>\n",
       "      <th>contagem_norm</th>\n",
       "    </tr>\n",
       "  </thead>\n",
       "  <tbody>\n",
       "    <tr>\n",
       "      <th>1116607</th>\n",
       "      <td>276e43ad698705e5011e5091f367d951b21246f5</td>\n",
       "      <td>SOXNKNC12A6701F7A8</td>\n",
       "      <td>1.0</td>\n",
       "      <td>Rob Zombie</td>\n",
       "      <td>2.721401e-07</td>\n",
       "    </tr>\n",
       "    <tr>\n",
       "      <th>1116608</th>\n",
       "      <td>276e43ad698705e5011e5091f367d951b21246f5</td>\n",
       "      <td>SOYRMVO12A6701D106</td>\n",
       "      <td>1.0</td>\n",
       "      <td>Godsmack</td>\n",
       "      <td>2.721401e-07</td>\n",
       "    </tr>\n",
       "    <tr>\n",
       "      <th>1116609</th>\n",
       "      <td>b80344d063b5ccb3212f76538f3d9e43d87dca9e</td>\n",
       "      <td>SOAKIMP12A8C130993</td>\n",
       "      <td>2.0</td>\n",
       "      <td>Vive la Fete</td>\n",
       "      <td>5.442802e-07</td>\n",
       "    </tr>\n",
       "    <tr>\n",
       "      <th>1116610</th>\n",
       "      <td>b80344d063b5ccb3212f76538f3d9e43d87dca9e</td>\n",
       "      <td>SOAKIMP12A8D130992</td>\n",
       "      <td>50.0</td>\n",
       "      <td>Diplo</td>\n",
       "      <td>1.360700e-05</td>\n",
       "    </tr>\n",
       "    <tr>\n",
       "      <th>1116613</th>\n",
       "      <td>b80344d063b5ccb3212f76538f3d9e43d87dca9e</td>\n",
       "      <td>FOIKIMP22A8F150731</td>\n",
       "      <td>24.0</td>\n",
       "      <td>Steve Reich</td>\n",
       "      <td>6.531362e-06</td>\n",
       "    </tr>\n",
       "  </tbody>\n",
       "</table>\n",
       "</div>"
      ],
      "text/plain": [
       "                                          user_id             song_id  \\\n",
       "1116607  276e43ad698705e5011e5091f367d951b21246f5  SOXNKNC12A6701F7A8   \n",
       "1116608  276e43ad698705e5011e5091f367d951b21246f5  SOYRMVO12A6701D106   \n",
       "1116609  b80344d063b5ccb3212f76538f3d9e43d87dca9e  SOAKIMP12A8C130993   \n",
       "1116610  b80344d063b5ccb3212f76538f3d9e43d87dca9e  SOAKIMP12A8D130992   \n",
       "1116613  b80344d063b5ccb3212f76538f3d9e43d87dca9e  FOIKIMP22A8F150731   \n",
       "\n",
       "         contagem       artista  contagem_norm  \n",
       "1116607       1.0    Rob Zombie   2.721401e-07  \n",
       "1116608       1.0      Godsmack   2.721401e-07  \n",
       "1116609       2.0  Vive la Fete   5.442802e-07  \n",
       "1116610      50.0         Diplo   1.360700e-05  \n",
       "1116613      24.0   Steve Reich   6.531362e-06  "
      ]
     },
     "execution_count": 7,
     "metadata": {},
     "output_type": "execute_result"
    }
   ],
   "source": [
    "df2.tail()"
   ]
  },
  {
   "cell_type": "code",
   "execution_count": 8,
   "metadata": {
    "collapsed": true
   },
   "outputs": [],
   "source": [
    "#criamos uma coluna so com Nan\n",
    "df['new'] = df['contagem']*NaN\n"
   ]
  },
  {
   "cell_type": "code",
   "execution_count": 9,
   "metadata": {
    "collapsed": false
   },
   "outputs": [
    {
     "data": {
      "text/html": [
       "<div>\n",
       "<table border=\"1\" class=\"dataframe\">\n",
       "  <thead>\n",
       "    <tr style=\"text-align: right;\">\n",
       "      <th></th>\n",
       "      <th>user_id</th>\n",
       "      <th>song_id</th>\n",
       "      <th>contagem</th>\n",
       "      <th>artista</th>\n",
       "      <th>contagem_norm</th>\n",
       "      <th>new</th>\n",
       "    </tr>\n",
       "  </thead>\n",
       "  <tbody>\n",
       "    <tr>\n",
       "      <th>1116609</th>\n",
       "      <td>b80344d063b5ccb3212f76538f3d9e43d87dca9e</td>\n",
       "      <td>SOAKIMP12A8C130993</td>\n",
       "      <td>2.0</td>\n",
       "      <td>Vive la Fete</td>\n",
       "      <td>5.442802e-07</td>\n",
       "      <td>NaN</td>\n",
       "    </tr>\n",
       "    <tr>\n",
       "      <th>1116610</th>\n",
       "      <td>b80344d063b5ccb3212f76538f3d9e43d87dca9e</td>\n",
       "      <td>SOAKIMP12A8D130992</td>\n",
       "      <td>50.0</td>\n",
       "      <td>Diplo</td>\n",
       "      <td>1.360700e-05</td>\n",
       "      <td>NaN</td>\n",
       "    </tr>\n",
       "    <tr>\n",
       "      <th>1116611</th>\n",
       "      <td>b80344d063b5ccb3212f76538f3d9e43d87dca9e</td>\n",
       "      <td>SOAKIMP12A2C130993</td>\n",
       "      <td>NaN</td>\n",
       "      <td>Madona</td>\n",
       "      <td>NaN</td>\n",
       "      <td>NaN</td>\n",
       "    </tr>\n",
       "    <tr>\n",
       "      <th>1116612</th>\n",
       "      <td>b80344d063b5ccb3212f76538f3d9e43d87dca9e</td>\n",
       "      <td>SOAKIMP22A8D130992</td>\n",
       "      <td>NaN</td>\n",
       "      <td>Eminen</td>\n",
       "      <td>NaN</td>\n",
       "      <td>NaN</td>\n",
       "    </tr>\n",
       "    <tr>\n",
       "      <th>1116613</th>\n",
       "      <td>b80344d063b5ccb3212f76538f3d9e43d87dca9e</td>\n",
       "      <td>FOIKIMP22A8F150731</td>\n",
       "      <td>24.0</td>\n",
       "      <td>Steve Reich</td>\n",
       "      <td>6.531362e-06</td>\n",
       "      <td>NaN</td>\n",
       "    </tr>\n",
       "  </tbody>\n",
       "</table>\n",
       "</div>"
      ],
      "text/plain": [
       "                                          user_id             song_id  \\\n",
       "1116609  b80344d063b5ccb3212f76538f3d9e43d87dca9e  SOAKIMP12A8C130993   \n",
       "1116610  b80344d063b5ccb3212f76538f3d9e43d87dca9e  SOAKIMP12A8D130992   \n",
       "1116611  b80344d063b5ccb3212f76538f3d9e43d87dca9e  SOAKIMP12A2C130993   \n",
       "1116612  b80344d063b5ccb3212f76538f3d9e43d87dca9e  SOAKIMP22A8D130992   \n",
       "1116613  b80344d063b5ccb3212f76538f3d9e43d87dca9e  FOIKIMP22A8F150731   \n",
       "\n",
       "         contagem       artista  contagem_norm  new  \n",
       "1116609       2.0  Vive la Fete   5.442802e-07  NaN  \n",
       "1116610      50.0         Diplo   1.360700e-05  NaN  \n",
       "1116611       NaN        Madona            NaN  NaN  \n",
       "1116612       NaN        Eminen            NaN  NaN  \n",
       "1116613      24.0   Steve Reich   6.531362e-06  NaN  "
      ]
     },
     "execution_count": 9,
     "metadata": {},
     "output_type": "execute_result"
    }
   ],
   "source": [
    "df.tail()"
   ]
  },
  {
   "cell_type": "code",
   "execution_count": 10,
   "metadata": {
    "collapsed": false
   },
   "outputs": [
    {
     "data": {
      "text/html": [
       "<div>\n",
       "<table border=\"1\" class=\"dataframe\">\n",
       "  <thead>\n",
       "    <tr style=\"text-align: right;\">\n",
       "      <th></th>\n",
       "      <th>user_id</th>\n",
       "      <th>song_id</th>\n",
       "      <th>contagem</th>\n",
       "      <th>artista</th>\n",
       "      <th>contagem_norm</th>\n",
       "    </tr>\n",
       "  </thead>\n",
       "  <tbody>\n",
       "    <tr>\n",
       "      <th>1116609</th>\n",
       "      <td>b80344d063b5ccb3212f76538f3d9e43d87dca9e</td>\n",
       "      <td>SOAKIMP12A8C130993</td>\n",
       "      <td>2.0</td>\n",
       "      <td>Vive la Fete</td>\n",
       "      <td>5.442802e-07</td>\n",
       "    </tr>\n",
       "    <tr>\n",
       "      <th>1116610</th>\n",
       "      <td>b80344d063b5ccb3212f76538f3d9e43d87dca9e</td>\n",
       "      <td>SOAKIMP12A8D130992</td>\n",
       "      <td>50.0</td>\n",
       "      <td>Diplo</td>\n",
       "      <td>1.360700e-05</td>\n",
       "    </tr>\n",
       "    <tr>\n",
       "      <th>1116611</th>\n",
       "      <td>b80344d063b5ccb3212f76538f3d9e43d87dca9e</td>\n",
       "      <td>SOAKIMP12A2C130993</td>\n",
       "      <td>NaN</td>\n",
       "      <td>Madona</td>\n",
       "      <td>NaN</td>\n",
       "    </tr>\n",
       "    <tr>\n",
       "      <th>1116612</th>\n",
       "      <td>b80344d063b5ccb3212f76538f3d9e43d87dca9e</td>\n",
       "      <td>SOAKIMP22A8D130992</td>\n",
       "      <td>NaN</td>\n",
       "      <td>Eminen</td>\n",
       "      <td>NaN</td>\n",
       "    </tr>\n",
       "    <tr>\n",
       "      <th>1116613</th>\n",
       "      <td>b80344d063b5ccb3212f76538f3d9e43d87dca9e</td>\n",
       "      <td>FOIKIMP22A8F150731</td>\n",
       "      <td>24.0</td>\n",
       "      <td>Steve Reich</td>\n",
       "      <td>6.531362e-06</td>\n",
       "    </tr>\n",
       "  </tbody>\n",
       "</table>\n",
       "</div>"
      ],
      "text/plain": [
       "                                          user_id             song_id  \\\n",
       "1116609  b80344d063b5ccb3212f76538f3d9e43d87dca9e  SOAKIMP12A8C130993   \n",
       "1116610  b80344d063b5ccb3212f76538f3d9e43d87dca9e  SOAKIMP12A8D130992   \n",
       "1116611  b80344d063b5ccb3212f76538f3d9e43d87dca9e  SOAKIMP12A2C130993   \n",
       "1116612  b80344d063b5ccb3212f76538f3d9e43d87dca9e  SOAKIMP22A8D130992   \n",
       "1116613  b80344d063b5ccb3212f76538f3d9e43d87dca9e  FOIKIMP22A8F150731   \n",
       "\n",
       "         contagem       artista  contagem_norm  \n",
       "1116609       2.0  Vive la Fete   5.442802e-07  \n",
       "1116610      50.0         Diplo   1.360700e-05  \n",
       "1116611       NaN        Madona            NaN  \n",
       "1116612       NaN        Eminen            NaN  \n",
       "1116613      24.0   Steve Reich   6.531362e-06  "
      ]
     },
     "execution_count": 10,
     "metadata": {},
     "output_type": "execute_result"
    }
   ],
   "source": [
    "#com esse comando retiramos todas as colunas que possuem todos os valores como NaN\n",
    "#lembre o default eh axis=0 (linha, index) axis=1 eh coluna\n",
    "df.dropna(axis=1,how='all', inplace=True)\n",
    "df.tail()"
   ]
  },
  {
   "cell_type": "code",
   "execution_count": 11,
   "metadata": {
    "collapsed": false
   },
   "outputs": [
    {
     "data": {
      "text/html": [
       "<div>\n",
       "<table border=\"1\" class=\"dataframe\">\n",
       "  <thead>\n",
       "    <tr style=\"text-align: right;\">\n",
       "      <th></th>\n",
       "      <th>user_id</th>\n",
       "      <th>song_id</th>\n",
       "      <th>contagem</th>\n",
       "      <th>artista</th>\n",
       "      <th>contagem_norm</th>\n",
       "    </tr>\n",
       "  </thead>\n",
       "  <tbody>\n",
       "    <tr>\n",
       "      <th>1116609</th>\n",
       "      <td>b80344d063b5ccb3212f76538f3d9e43d87dca9e</td>\n",
       "      <td>SOAKIMP12A8C130993</td>\n",
       "      <td>2.0</td>\n",
       "      <td>Vive la Fete</td>\n",
       "      <td>5.442802e-07</td>\n",
       "    </tr>\n",
       "    <tr>\n",
       "      <th>1116610</th>\n",
       "      <td>b80344d063b5ccb3212f76538f3d9e43d87dca9e</td>\n",
       "      <td>SOAKIMP12A8D130992</td>\n",
       "      <td>50.0</td>\n",
       "      <td>Diplo</td>\n",
       "      <td>1.360700e-05</td>\n",
       "    </tr>\n",
       "    <tr>\n",
       "      <th>1116611</th>\n",
       "      <td>b80344d063b5ccb3212f76538f3d9e43d87dca9e</td>\n",
       "      <td>SOAKIMP12A2C130993</td>\n",
       "      <td>50.0</td>\n",
       "      <td>Madona</td>\n",
       "      <td>1.360700e-05</td>\n",
       "    </tr>\n",
       "    <tr>\n",
       "      <th>1116612</th>\n",
       "      <td>b80344d063b5ccb3212f76538f3d9e43d87dca9e</td>\n",
       "      <td>SOAKIMP22A8D130992</td>\n",
       "      <td>50.0</td>\n",
       "      <td>Eminen</td>\n",
       "      <td>1.360700e-05</td>\n",
       "    </tr>\n",
       "    <tr>\n",
       "      <th>1116613</th>\n",
       "      <td>b80344d063b5ccb3212f76538f3d9e43d87dca9e</td>\n",
       "      <td>FOIKIMP22A8F150731</td>\n",
       "      <td>24.0</td>\n",
       "      <td>Steve Reich</td>\n",
       "      <td>6.531362e-06</td>\n",
       "    </tr>\n",
       "  </tbody>\n",
       "</table>\n",
       "</div>"
      ],
      "text/plain": [
       "                                          user_id             song_id  \\\n",
       "1116609  b80344d063b5ccb3212f76538f3d9e43d87dca9e  SOAKIMP12A8C130993   \n",
       "1116610  b80344d063b5ccb3212f76538f3d9e43d87dca9e  SOAKIMP12A8D130992   \n",
       "1116611  b80344d063b5ccb3212f76538f3d9e43d87dca9e  SOAKIMP12A2C130993   \n",
       "1116612  b80344d063b5ccb3212f76538f3d9e43d87dca9e  SOAKIMP22A8D130992   \n",
       "1116613  b80344d063b5ccb3212f76538f3d9e43d87dca9e  FOIKIMP22A8F150731   \n",
       "\n",
       "         contagem       artista  contagem_norm  \n",
       "1116609       2.0  Vive la Fete   5.442802e-07  \n",
       "1116610      50.0         Diplo   1.360700e-05  \n",
       "1116611      50.0        Madona   1.360700e-05  \n",
       "1116612      50.0        Eminen   1.360700e-05  \n",
       "1116613      24.0   Steve Reich   6.531362e-06  "
      ]
     },
     "execution_count": 11,
     "metadata": {},
     "output_type": "execute_result"
    }
   ],
   "source": [
    "#Podemos preencher os valores NaN com os valores anteriores do df\n",
    "df3 = df.fillna(method='ffill')\n",
    "df3.tail()"
   ]
  },
  {
   "cell_type": "code",
   "execution_count": 12,
   "metadata": {
    "collapsed": false
   },
   "outputs": [
    {
     "data": {
      "text/html": [
       "<div>\n",
       "<table border=\"1\" class=\"dataframe\">\n",
       "  <thead>\n",
       "    <tr style=\"text-align: right;\">\n",
       "      <th></th>\n",
       "      <th>user_id</th>\n",
       "      <th>song_id</th>\n",
       "      <th>contagem</th>\n",
       "      <th>artista</th>\n",
       "      <th>contagem_norm</th>\n",
       "    </tr>\n",
       "  </thead>\n",
       "  <tbody>\n",
       "    <tr>\n",
       "      <th>1116609</th>\n",
       "      <td>b80344d063b5ccb3212f76538f3d9e43d87dca9e</td>\n",
       "      <td>SOAKIMP12A8C130993</td>\n",
       "      <td>2.0</td>\n",
       "      <td>Vive la Fete</td>\n",
       "      <td>5.442802e-07</td>\n",
       "    </tr>\n",
       "    <tr>\n",
       "      <th>1116610</th>\n",
       "      <td>b80344d063b5ccb3212f76538f3d9e43d87dca9e</td>\n",
       "      <td>SOAKIMP12A8D130992</td>\n",
       "      <td>50.0</td>\n",
       "      <td>Diplo</td>\n",
       "      <td>1.360700e-05</td>\n",
       "    </tr>\n",
       "    <tr>\n",
       "      <th>1116611</th>\n",
       "      <td>b80344d063b5ccb3212f76538f3d9e43d87dca9e</td>\n",
       "      <td>SOAKIMP12A2C130993</td>\n",
       "      <td>24.0</td>\n",
       "      <td>Madona</td>\n",
       "      <td>6.531362e-06</td>\n",
       "    </tr>\n",
       "    <tr>\n",
       "      <th>1116612</th>\n",
       "      <td>b80344d063b5ccb3212f76538f3d9e43d87dca9e</td>\n",
       "      <td>SOAKIMP22A8D130992</td>\n",
       "      <td>24.0</td>\n",
       "      <td>Eminen</td>\n",
       "      <td>6.531362e-06</td>\n",
       "    </tr>\n",
       "    <tr>\n",
       "      <th>1116613</th>\n",
       "      <td>b80344d063b5ccb3212f76538f3d9e43d87dca9e</td>\n",
       "      <td>FOIKIMP22A8F150731</td>\n",
       "      <td>24.0</td>\n",
       "      <td>Steve Reich</td>\n",
       "      <td>6.531362e-06</td>\n",
       "    </tr>\n",
       "  </tbody>\n",
       "</table>\n",
       "</div>"
      ],
      "text/plain": [
       "                                          user_id             song_id  \\\n",
       "1116609  b80344d063b5ccb3212f76538f3d9e43d87dca9e  SOAKIMP12A8C130993   \n",
       "1116610  b80344d063b5ccb3212f76538f3d9e43d87dca9e  SOAKIMP12A8D130992   \n",
       "1116611  b80344d063b5ccb3212f76538f3d9e43d87dca9e  SOAKIMP12A2C130993   \n",
       "1116612  b80344d063b5ccb3212f76538f3d9e43d87dca9e  SOAKIMP22A8D130992   \n",
       "1116613  b80344d063b5ccb3212f76538f3d9e43d87dca9e  FOIKIMP22A8F150731   \n",
       "\n",
       "         contagem       artista  contagem_norm  \n",
       "1116609       2.0  Vive la Fete   5.442802e-07  \n",
       "1116610      50.0         Diplo   1.360700e-05  \n",
       "1116611      24.0        Madona   6.531362e-06  \n",
       "1116612      24.0        Eminen   6.531362e-06  \n",
       "1116613      24.0   Steve Reich   6.531362e-06  "
      ]
     },
     "execution_count": 12,
     "metadata": {},
     "output_type": "execute_result"
    }
   ],
   "source": [
    "#Ou com os valores posteriores do df\n",
    "df4 = df.fillna(method='bfill')\n",
    "df4.tail()"
   ]
  },
  {
   "cell_type": "code",
   "execution_count": 13,
   "metadata": {
    "collapsed": false
   },
   "outputs": [
    {
     "data": {
      "text/html": [
       "<div>\n",
       "<table border=\"1\" class=\"dataframe\">\n",
       "  <thead>\n",
       "    <tr style=\"text-align: right;\">\n",
       "      <th></th>\n",
       "      <th>user_id</th>\n",
       "      <th>song_id</th>\n",
       "      <th>contagem</th>\n",
       "      <th>artista</th>\n",
       "      <th>contagem_norm</th>\n",
       "    </tr>\n",
       "  </thead>\n",
       "  <tbody>\n",
       "    <tr>\n",
       "      <th>1116609</th>\n",
       "      <td>b80344d063b5ccb3212f76538f3d9e43d87dca9e</td>\n",
       "      <td>SOAKIMP12A8C130993</td>\n",
       "      <td>2.0</td>\n",
       "      <td>Vive la Fete</td>\n",
       "      <td>5.442802e-07</td>\n",
       "    </tr>\n",
       "    <tr>\n",
       "      <th>1116610</th>\n",
       "      <td>b80344d063b5ccb3212f76538f3d9e43d87dca9e</td>\n",
       "      <td>SOAKIMP12A8D130992</td>\n",
       "      <td>50.0</td>\n",
       "      <td>Diplo</td>\n",
       "      <td>1.360700e-05</td>\n",
       "    </tr>\n",
       "    <tr>\n",
       "      <th>1116611</th>\n",
       "      <td>b80344d063b5ccb3212f76538f3d9e43d87dca9e</td>\n",
       "      <td>SOAKIMP12A2C130993</td>\n",
       "      <td>1.0</td>\n",
       "      <td>Madona</td>\n",
       "      <td>1.000000e+00</td>\n",
       "    </tr>\n",
       "    <tr>\n",
       "      <th>1116612</th>\n",
       "      <td>b80344d063b5ccb3212f76538f3d9e43d87dca9e</td>\n",
       "      <td>SOAKIMP22A8D130992</td>\n",
       "      <td>1.0</td>\n",
       "      <td>Eminen</td>\n",
       "      <td>1.000000e+00</td>\n",
       "    </tr>\n",
       "    <tr>\n",
       "      <th>1116613</th>\n",
       "      <td>b80344d063b5ccb3212f76538f3d9e43d87dca9e</td>\n",
       "      <td>FOIKIMP22A8F150731</td>\n",
       "      <td>24.0</td>\n",
       "      <td>Steve Reich</td>\n",
       "      <td>6.531362e-06</td>\n",
       "    </tr>\n",
       "  </tbody>\n",
       "</table>\n",
       "</div>"
      ],
      "text/plain": [
       "                                          user_id             song_id  \\\n",
       "1116609  b80344d063b5ccb3212f76538f3d9e43d87dca9e  SOAKIMP12A8C130993   \n",
       "1116610  b80344d063b5ccb3212f76538f3d9e43d87dca9e  SOAKIMP12A8D130992   \n",
       "1116611  b80344d063b5ccb3212f76538f3d9e43d87dca9e  SOAKIMP12A2C130993   \n",
       "1116612  b80344d063b5ccb3212f76538f3d9e43d87dca9e  SOAKIMP22A8D130992   \n",
       "1116613  b80344d063b5ccb3212f76538f3d9e43d87dca9e  FOIKIMP22A8F150731   \n",
       "\n",
       "         contagem       artista  contagem_norm  \n",
       "1116609       2.0  Vive la Fete   5.442802e-07  \n",
       "1116610      50.0         Diplo   1.360700e-05  \n",
       "1116611       1.0        Madona   1.000000e+00  \n",
       "1116612       1.0        Eminen   1.000000e+00  \n",
       "1116613      24.0   Steve Reich   6.531362e-06  "
      ]
     },
     "execution_count": 13,
     "metadata": {},
     "output_type": "execute_result"
    }
   ],
   "source": [
    "#Ou com os valores de sua escolha\n",
    "df5 = df.fillna(value=1)\n",
    "df5.tail()"
   ]
  },
  {
   "cell_type": "code",
   "execution_count": null,
   "metadata": {
    "collapsed": true
   },
   "outputs": [],
   "source": []
  }
 ],
 "metadata": {
  "kernelspec": {
   "display_name": "Python 3",
   "language": "python",
   "name": "python3"
  },
  "language_info": {
   "codemirror_mode": {
    "name": "ipython",
    "version": 3
   },
   "file_extension": ".py",
   "mimetype": "text/x-python",
   "name": "python",
   "nbconvert_exporter": "python",
   "pygments_lexer": "ipython3",
   "version": "3.5.2"
  }
 },
 "nbformat": 4,
 "nbformat_minor": 1
}
