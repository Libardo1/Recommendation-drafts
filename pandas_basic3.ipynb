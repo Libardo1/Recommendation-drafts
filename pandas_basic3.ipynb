{
 "cells": [
  {
   "cell_type": "markdown",
   "metadata": {},
   "source": [
    "# Operacoes basicas nas colunas + missing data"
   ]
  },
  {
   "cell_type": "code",
   "execution_count": 32,
   "metadata": {
    "collapsed": false
   },
   "outputs": [
    {
     "data": {
      "text/html": [
       "<div>\n",
       "<table border=\"1\" class=\"dataframe\">\n",
       "  <thead>\n",
       "    <tr style=\"text-align: right;\">\n",
       "      <th></th>\n",
       "      <th>user_id</th>\n",
       "      <th>song_id</th>\n",
       "      <th>contagem</th>\n",
       "      <th>artista</th>\n",
       "    </tr>\n",
       "  </thead>\n",
       "  <tbody>\n",
       "    <tr>\n",
       "      <th>1116606</th>\n",
       "      <td>276e43ad698705e5011e5091f367d951b21246f5</td>\n",
       "      <td>SOXJOZW12A6701E90E</td>\n",
       "      <td>7</td>\n",
       "      <td>Queens Of The Stone Age</td>\n",
       "    </tr>\n",
       "    <tr>\n",
       "      <th>1116607</th>\n",
       "      <td>276e43ad698705e5011e5091f367d951b21246f5</td>\n",
       "      <td>SOXNKNC12A6701F7A8</td>\n",
       "      <td>1</td>\n",
       "      <td>Rob Zombie</td>\n",
       "    </tr>\n",
       "    <tr>\n",
       "      <th>1116608</th>\n",
       "      <td>276e43ad698705e5011e5091f367d951b21246f5</td>\n",
       "      <td>SOYRMVO12A6701D106</td>\n",
       "      <td>1</td>\n",
       "      <td>Godsmack</td>\n",
       "    </tr>\n",
       "    <tr>\n",
       "      <th>1116609</th>\n",
       "      <td>b80344d063b5ccb3212f76538f3d9e43d87dca9e</td>\n",
       "      <td>SOAKIMP12A8C130993</td>\n",
       "      <td>2</td>\n",
       "      <td>Vive la Fete</td>\n",
       "    </tr>\n",
       "    <tr>\n",
       "      <th>1116610</th>\n",
       "      <td>b80344d063b5ccb3212f76538f3d9e43d87dca9e</td>\n",
       "      <td>SOAKIMP12A8D130992</td>\n",
       "      <td>50</td>\n",
       "      <td>Diplo</td>\n",
       "    </tr>\n",
       "  </tbody>\n",
       "</table>\n",
       "</div>"
      ],
      "text/plain": [
       "                                          user_id             song_id  \\\n",
       "1116606  276e43ad698705e5011e5091f367d951b21246f5  SOXJOZW12A6701E90E   \n",
       "1116607  276e43ad698705e5011e5091f367d951b21246f5  SOXNKNC12A6701F7A8   \n",
       "1116608  276e43ad698705e5011e5091f367d951b21246f5  SOYRMVO12A6701D106   \n",
       "1116609  b80344d063b5ccb3212f76538f3d9e43d87dca9e  SOAKIMP12A8C130993   \n",
       "1116610  b80344d063b5ccb3212f76538f3d9e43d87dca9e  SOAKIMP12A8D130992   \n",
       "\n",
       "         contagem                  artista  \n",
       "1116606         7  Queens Of The Stone Age  \n",
       "1116607         1               Rob Zombie  \n",
       "1116608         1                 Godsmack  \n",
       "1116609         2             Vive la Fete  \n",
       "1116610        50                    Diplo  "
      ]
     },
     "execution_count": 32,
     "metadata": {},
     "output_type": "execute_result"
    }
   ],
   "source": [
    "import numpy as np\n",
    "import pandas as pd\n",
    "import matplotlib.pyplot as plt\n",
    "from matplotlib import style\n",
    "style.use('fivethirtyeight')\n",
    "%matplotlib inline\n",
    "\n",
    "df = pd.read_pickle('teste.pickle')\n",
    "df.tail()"
   ]
  },
  {
   "cell_type": "code",
   "execution_count": 33,
   "metadata": {
    "collapsed": false
   },
   "outputs": [
    {
     "data": {
      "text/html": [
       "<div>\n",
       "<table border=\"1\" class=\"dataframe\">\n",
       "  <thead>\n",
       "    <tr style=\"text-align: right;\">\n",
       "      <th></th>\n",
       "      <th>user_id</th>\n",
       "      <th>song_id</th>\n",
       "      <th>contagem</th>\n",
       "      <th>artista</th>\n",
       "    </tr>\n",
       "  </thead>\n",
       "  <tbody>\n",
       "    <tr>\n",
       "      <th>1116611</th>\n",
       "      <td>b80344d063b5ccb3212f76538f3d9e43d87dca9e</td>\n",
       "      <td>SOAKIMP12A2C130993</td>\n",
       "      <td>NaN</td>\n",
       "      <td>Madona</td>\n",
       "    </tr>\n",
       "    <tr>\n",
       "      <th>1116612</th>\n",
       "      <td>b80344d063b5ccb3212f76538f3d9e43d87dca9e</td>\n",
       "      <td>SOAKIMP22A8D130992</td>\n",
       "      <td>NaN</td>\n",
       "      <td>Eminen</td>\n",
       "    </tr>\n",
       "  </tbody>\n",
       "</table>\n",
       "</div>"
      ],
      "text/plain": [
       "                                          user_id             song_id  \\\n",
       "1116611  b80344d063b5ccb3212f76538f3d9e43d87dca9e  SOAKIMP12A2C130993   \n",
       "1116612  b80344d063b5ccb3212f76538f3d9e43d87dca9e  SOAKIMP22A8D130992   \n",
       "\n",
       "         contagem artista  \n",
       "1116611       NaN  Madona  \n",
       "1116612       NaN  Eminen  "
      ]
     },
     "execution_count": 33,
     "metadata": {},
     "output_type": "execute_result"
    }
   ],
   "source": [
    "NaN = float('nan')\n",
    "new = pd.DataFrame({'user_id':['b80344d063b5ccb3212f76538f3d9e43d87dca9e', 'b80344d063b5ccb3212f76538f3d9e43d87dca9e'],\n",
    "                       'song_id': ['SOAKIMP12A2C130993','SOAKIMP22A8D130992'],\n",
    "                       'contagem':[NaN,NaN],\n",
    "                       'artista': ['Madona', 'Eminen']},\n",
    "                   index=[1116611, 1116612])\n",
    "cols = new.columns.tolist()\n",
    "new= new[cols[::-1]]\n",
    "new.head()"
   ]
  },
  {
   "cell_type": "code",
   "execution_count": 34,
   "metadata": {
    "collapsed": false
   },
   "outputs": [
    {
     "data": {
      "text/html": [
       "<div>\n",
       "<table border=\"1\" class=\"dataframe\">\n",
       "  <thead>\n",
       "    <tr style=\"text-align: right;\">\n",
       "      <th></th>\n",
       "      <th>user_id</th>\n",
       "      <th>song_id</th>\n",
       "      <th>contagem</th>\n",
       "      <th>artista</th>\n",
       "    </tr>\n",
       "  </thead>\n",
       "  <tbody>\n",
       "    <tr>\n",
       "      <th>1116608</th>\n",
       "      <td>276e43ad698705e5011e5091f367d951b21246f5</td>\n",
       "      <td>SOYRMVO12A6701D106</td>\n",
       "      <td>1.0</td>\n",
       "      <td>Godsmack</td>\n",
       "    </tr>\n",
       "    <tr>\n",
       "      <th>1116609</th>\n",
       "      <td>b80344d063b5ccb3212f76538f3d9e43d87dca9e</td>\n",
       "      <td>SOAKIMP12A8C130993</td>\n",
       "      <td>2.0</td>\n",
       "      <td>Vive la Fete</td>\n",
       "    </tr>\n",
       "    <tr>\n",
       "      <th>1116610</th>\n",
       "      <td>b80344d063b5ccb3212f76538f3d9e43d87dca9e</td>\n",
       "      <td>SOAKIMP12A8D130992</td>\n",
       "      <td>50.0</td>\n",
       "      <td>Diplo</td>\n",
       "    </tr>\n",
       "    <tr>\n",
       "      <th>1116611</th>\n",
       "      <td>b80344d063b5ccb3212f76538f3d9e43d87dca9e</td>\n",
       "      <td>SOAKIMP12A2C130993</td>\n",
       "      <td>NaN</td>\n",
       "      <td>Madona</td>\n",
       "    </tr>\n",
       "    <tr>\n",
       "      <th>1116612</th>\n",
       "      <td>b80344d063b5ccb3212f76538f3d9e43d87dca9e</td>\n",
       "      <td>SOAKIMP22A8D130992</td>\n",
       "      <td>NaN</td>\n",
       "      <td>Eminen</td>\n",
       "    </tr>\n",
       "  </tbody>\n",
       "</table>\n",
       "</div>"
      ],
      "text/plain": [
       "                                          user_id             song_id  \\\n",
       "1116608  276e43ad698705e5011e5091f367d951b21246f5  SOYRMVO12A6701D106   \n",
       "1116609  b80344d063b5ccb3212f76538f3d9e43d87dca9e  SOAKIMP12A8C130993   \n",
       "1116610  b80344d063b5ccb3212f76538f3d9e43d87dca9e  SOAKIMP12A8D130992   \n",
       "1116611  b80344d063b5ccb3212f76538f3d9e43d87dca9e  SOAKIMP12A2C130993   \n",
       "1116612  b80344d063b5ccb3212f76538f3d9e43d87dca9e  SOAKIMP22A8D130992   \n",
       "\n",
       "         contagem       artista  \n",
       "1116608       1.0      Godsmack  \n",
       "1116609       2.0  Vive la Fete  \n",
       "1116610      50.0         Diplo  \n",
       "1116611       NaN        Madona  \n",
       "1116612       NaN        Eminen  "
      ]
     },
     "execution_count": 34,
     "metadata": {},
     "output_type": "execute_result"
    }
   ],
   "source": [
    "frames = [df,new]\n",
    "df = pd.concat(frames)\n",
    "df.tail()"
   ]
  },
  {
   "cell_type": "code",
   "execution_count": 35,
   "metadata": {
    "collapsed": false
   },
   "outputs": [
    {
     "data": {
      "text/html": [
       "<div>\n",
       "<table border=\"1\" class=\"dataframe\">\n",
       "  <thead>\n",
       "    <tr style=\"text-align: right;\">\n",
       "      <th></th>\n",
       "      <th>user_id</th>\n",
       "      <th>song_id</th>\n",
       "      <th>contagem</th>\n",
       "      <th>artista</th>\n",
       "      <th>contagem_norm</th>\n",
       "    </tr>\n",
       "  </thead>\n",
       "  <tbody>\n",
       "    <tr>\n",
       "      <th>1116608</th>\n",
       "      <td>276e43ad698705e5011e5091f367d951b21246f5</td>\n",
       "      <td>SOYRMVO12A6701D106</td>\n",
       "      <td>1.0</td>\n",
       "      <td>Godsmack</td>\n",
       "      <td>2.721419e-07</td>\n",
       "    </tr>\n",
       "    <tr>\n",
       "      <th>1116609</th>\n",
       "      <td>b80344d063b5ccb3212f76538f3d9e43d87dca9e</td>\n",
       "      <td>SOAKIMP12A8C130993</td>\n",
       "      <td>2.0</td>\n",
       "      <td>Vive la Fete</td>\n",
       "      <td>5.442837e-07</td>\n",
       "    </tr>\n",
       "    <tr>\n",
       "      <th>1116610</th>\n",
       "      <td>b80344d063b5ccb3212f76538f3d9e43d87dca9e</td>\n",
       "      <td>SOAKIMP12A8D130992</td>\n",
       "      <td>50.0</td>\n",
       "      <td>Diplo</td>\n",
       "      <td>1.360709e-05</td>\n",
       "    </tr>\n",
       "    <tr>\n",
       "      <th>1116611</th>\n",
       "      <td>b80344d063b5ccb3212f76538f3d9e43d87dca9e</td>\n",
       "      <td>SOAKIMP12A2C130993</td>\n",
       "      <td>NaN</td>\n",
       "      <td>Madona</td>\n",
       "      <td>NaN</td>\n",
       "    </tr>\n",
       "    <tr>\n",
       "      <th>1116612</th>\n",
       "      <td>b80344d063b5ccb3212f76538f3d9e43d87dca9e</td>\n",
       "      <td>SOAKIMP22A8D130992</td>\n",
       "      <td>NaN</td>\n",
       "      <td>Eminen</td>\n",
       "      <td>NaN</td>\n",
       "    </tr>\n",
       "  </tbody>\n",
       "</table>\n",
       "</div>"
      ],
      "text/plain": [
       "                                          user_id             song_id  \\\n",
       "1116608  276e43ad698705e5011e5091f367d951b21246f5  SOYRMVO12A6701D106   \n",
       "1116609  b80344d063b5ccb3212f76538f3d9e43d87dca9e  SOAKIMP12A8C130993   \n",
       "1116610  b80344d063b5ccb3212f76538f3d9e43d87dca9e  SOAKIMP12A8D130992   \n",
       "1116611  b80344d063b5ccb3212f76538f3d9e43d87dca9e  SOAKIMP12A2C130993   \n",
       "1116612  b80344d063b5ccb3212f76538f3d9e43d87dca9e  SOAKIMP22A8D130992   \n",
       "\n",
       "         contagem       artista  contagem_norm  \n",
       "1116608       1.0      Godsmack   2.721419e-07  \n",
       "1116609       2.0  Vive la Fete   5.442837e-07  \n",
       "1116610      50.0         Diplo   1.360709e-05  \n",
       "1116611       NaN        Madona            NaN  \n",
       "1116612       NaN        Eminen            NaN  "
      ]
     },
     "execution_count": 35,
     "metadata": {},
     "output_type": "execute_result"
    }
   ],
   "source": [
    "#criando nova coluna com os dados da coluna contagem\n",
    "df['contagem_norm'] = df['contagem']*1/np.sum(df['contagem'])\n",
    "df.tail()"
   ]
  },
  {
   "cell_type": "code",
   "execution_count": 36,
   "metadata": {
    "collapsed": false
   },
   "outputs": [
    {
     "data": {
      "image/png": "[encoded data removed]",
      "text/plain": [
       "<matplotlib.figure.Figure at 0x7f4db972acc0>"
      ]
     },
     "metadata": {},
     "output_type": "display_data"
    }
   ],
   "source": [
    "df.plot(legend=None)\n",
    "plt.show()"
   ]
  },
  {
   "cell_type": "markdown",
   "metadata": {},
   "source": [
    "# Lidando com missing data"
   ]
  },
  {
   "cell_type": "code",
   "execution_count": 9,
   "metadata": {
    "collapsed": false
   },
   "outputs": [
    {
     "data": {
      "text/html": [
       "<div>\n",
       "<table border=\"1\" class=\"dataframe\">\n",
       "  <thead>\n",
       "    <tr style=\"text-align: right;\">\n",
       "      <th></th>\n",
       "      <th>user_id</th>\n",
       "      <th>song_id</th>\n",
       "      <th>contagem_df</th>\n",
       "      <th>artista_df</th>\n",
       "      <th>contagem_norm</th>\n",
       "      <th>artista_new_music</th>\n",
       "      <th>contagem_new_music</th>\n",
       "      <th>artista</th>\n",
       "      <th>contagem</th>\n",
       "    </tr>\n",
       "  </thead>\n",
       "  <tbody>\n",
       "    <tr>\n",
       "      <th>1116606</th>\n",
       "      <td>276e43ad698705e5011e5091f367d951b21246f5</td>\n",
       "      <td>SOXJOZW12A6701E90E</td>\n",
       "      <td>7</td>\n",
       "      <td>Queens Of The Stone Age</td>\n",
       "      <td>1.904993e-06</td>\n",
       "      <td>NaN</td>\n",
       "      <td>NaN</td>\n",
       "      <td>NaN</td>\n",
       "      <td>NaN</td>\n",
       "    </tr>\n",
       "    <tr>\n",
       "      <th>1116607</th>\n",
       "      <td>276e43ad698705e5011e5091f367d951b21246f5</td>\n",
       "      <td>SOXNKNC12A6701F7A8</td>\n",
       "      <td>1</td>\n",
       "      <td>Rob Zombie</td>\n",
       "      <td>2.721419e-07</td>\n",
       "      <td>NaN</td>\n",
       "      <td>NaN</td>\n",
       "      <td>NaN</td>\n",
       "      <td>NaN</td>\n",
       "    </tr>\n",
       "    <tr>\n",
       "      <th>1116608</th>\n",
       "      <td>276e43ad698705e5011e5091f367d951b21246f5</td>\n",
       "      <td>SOYRMVO12A6701D106</td>\n",
       "      <td>1</td>\n",
       "      <td>Godsmack</td>\n",
       "      <td>2.721419e-07</td>\n",
       "      <td>NaN</td>\n",
       "      <td>NaN</td>\n",
       "      <td>NaN</td>\n",
       "      <td>NaN</td>\n",
       "    </tr>\n",
       "    <tr>\n",
       "      <th>1116609</th>\n",
       "      <td>b80344d063b5ccb3212f76538f3d9e43d87dca9e</td>\n",
       "      <td>SOAKIMP12A8C130993</td>\n",
       "      <td>2</td>\n",
       "      <td>Vive la Fete</td>\n",
       "      <td>5.442837e-07</td>\n",
       "      <td>NaN</td>\n",
       "      <td>NaN</td>\n",
       "      <td>NaN</td>\n",
       "      <td>NaN</td>\n",
       "    </tr>\n",
       "    <tr>\n",
       "      <th>1116610</th>\n",
       "      <td>b80344d063b5ccb3212f76538f3d9e43d87dca9e</td>\n",
       "      <td>SOAKIMP12A8D130992</td>\n",
       "      <td>50</td>\n",
       "      <td>Diplo</td>\n",
       "      <td>1.360709e-05</td>\n",
       "      <td>NaN</td>\n",
       "      <td>NaN</td>\n",
       "      <td>NaN</td>\n",
       "      <td>NaN</td>\n",
       "    </tr>\n",
       "  </tbody>\n",
       "</table>\n",
       "</div>"
      ],
      "text/plain": [
       "                                          user_id             song_id  \\\n",
       "1116606  276e43ad698705e5011e5091f367d951b21246f5  SOXJOZW12A6701E90E   \n",
       "1116607  276e43ad698705e5011e5091f367d951b21246f5  SOXNKNC12A6701F7A8   \n",
       "1116608  276e43ad698705e5011e5091f367d951b21246f5  SOYRMVO12A6701D106   \n",
       "1116609  b80344d063b5ccb3212f76538f3d9e43d87dca9e  SOAKIMP12A8C130993   \n",
       "1116610  b80344d063b5ccb3212f76538f3d9e43d87dca9e  SOAKIMP12A8D130992   \n",
       "\n",
       "         contagem_df               artista_df  contagem_norm  \\\n",
       "1116606            7  Queens Of The Stone Age   1.904993e-06   \n",
       "1116607            1               Rob Zombie   2.721419e-07   \n",
       "1116608            1                 Godsmack   2.721419e-07   \n",
       "1116609            2             Vive la Fete   5.442837e-07   \n",
       "1116610           50                    Diplo   1.360709e-05   \n",
       "\n",
       "        artista_new_music  contagem_new_music artista  contagem  \n",
       "1116606               NaN                 NaN     NaN       NaN  \n",
       "1116607               NaN                 NaN     NaN       NaN  \n",
       "1116608               NaN                 NaN     NaN       NaN  \n",
       "1116609               NaN                 NaN     NaN       NaN  \n",
       "1116610               NaN                 NaN     NaN       NaN  "
      ]
     },
     "execution_count": 9,
     "metadata": {},
     "output_type": "execute_result"
    }
   ],
   "source": [
    "new_music = pd.DataFrame({'contagem':[2,50,78,2],\n",
    "                          'artista': ['Madona', 'Eminen','Caetano Veloso', 'Cartola']})\n",
    "df = df.join(new_music,lsuffix='_df',rsuffix='_new_music')\n",
    "df.tail()"
   ]
  },
  {
   "cell_type": "code",
   "execution_count": null,
   "metadata": {
    "collapsed": false
   },
   "outputs": [],
   "source": []
  },
  {
   "cell_type": "code",
   "execution_count": null,
   "metadata": {
    "collapsed": true
   },
   "outputs": [],
   "source": []
  },
  {
   "cell_type": "code",
   "execution_count": null,
   "metadata": {
    "collapsed": true
   },
   "outputs": [],
   "source": []
  }
 ],
 "metadata": {
  "kernelspec": {
   "display_name": "Python 3",
   "language": "python",
   "name": "python3"
  },
  "language_info": {
   "codemirror_mode": {
    "name": "ipython",
    "version": 3
   },
   "file_extension": ".py",
   "mimetype": "text/x-python",
   "name": "python",
   "nbconvert_exporter": "python",
   "pygments_lexer": "ipython3",
   "version": "3.5.2"
  }
 },
 "nbformat": 4,
 "nbformat_minor": 1
}
